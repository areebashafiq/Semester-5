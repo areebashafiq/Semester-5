{
 "cells": [
  {
   "cell_type": "code",
   "execution_count": 1,
   "metadata": {},
   "outputs": [],
   "source": [
    "from selenium import webdriver\n",
    "import selenium\n",
    "import pandas as pd\n",
    "from selenium.webdriver.common.by import By"
   ]
  },
  {
   "cell_type": "code",
   "execution_count": 2,
   "metadata": {},
   "outputs": [
    {
     "name": "stderr",
     "output_type": "stream",
     "text": [
      "/var/folders/cr/hc4rlj593_13pvcn96cdsn6h0000gn/T/ipykernel_9181/628448141.py:1: DeprecationWarning: executable_path has been deprecated, please pass in a Service object\n",
      "  driver=webdriver.Edge('/Users/carbon/Downloads/edgedriver_mac64/msedgedriver')\n"
     ]
    }
   ],
   "source": [
    "driver=webdriver.Edge('/Users/carbon/Downloads/edgedriver_mac64/msedgedriver')\n",
    "driver.get('https://www.youtube.com/user/Apple/videos') # this will open automation"
   ]
  },
  {
   "cell_type": "code",
   "execution_count": 19,
   "metadata": {},
   "outputs": [],
   "source": [
    "driver.get('https://www.youtube.com/user/Apple/videos') # this will open automation"
   ]
  },
  {
   "cell_type": "code",
   "execution_count": 23,
   "metadata": {},
   "outputs": [],
   "source": [
    "videos=driver.find_elements(By.CLASS_NAME,\"style-scope ytd-grid-video-renderer\")"
   ]
  },
  {
   "cell_type": "code",
   "execution_count": 22,
   "metadata": {},
   "outputs": [
    {
     "name": "stdout",
     "output_type": "stream",
     "text": [
      "[<selenium.webdriver.remote.webelement.WebElement (session=\"62851daff31690bde8a0fc9dd0ef03c9\", element=\"be2f95b6-36ab-4a29-b3ca-8ff1745a9e16\")>, <selenium.webdriver.remote.webelement.WebElement (session=\"62851daff31690bde8a0fc9dd0ef03c9\", element=\"2149d42a-2e3e-4ce7-8837-9fd996cd5eff\")>, <selenium.webdriver.remote.webelement.WebElement (session=\"62851daff31690bde8a0fc9dd0ef03c9\", element=\"1888f95c-ccda-4fc2-8a9f-a6fdf6a2facb\")>, <selenium.webdriver.remote.webelement.WebElement (session=\"62851daff31690bde8a0fc9dd0ef03c9\", element=\"3c179a1f-ab7c-4542-89db-3cf74b173348\")>, <selenium.webdriver.remote.webelement.WebElement (session=\"62851daff31690bde8a0fc9dd0ef03c9\", element=\"8315d3e1-dcc0-4522-accb-9174dceb45d1\")>, <selenium.webdriver.remote.webelement.WebElement (session=\"62851daff31690bde8a0fc9dd0ef03c9\", element=\"87b22fa1-2671-48c2-ba03-08568dbde511\")>, <selenium.webdriver.remote.webelement.WebElement (session=\"62851daff31690bde8a0fc9dd0ef03c9\", element=\"d07dfe4b-4fb8-4435-b84a-64dd69afd3fa\")>, <selenium.webdriver.remote.webelement.WebElement (session=\"62851daff31690bde8a0fc9dd0ef03c9\", element=\"8a7de750-f1d1-49db-b796-819b6ca35944\")>, <selenium.webdriver.remote.webelement.WebElement (session=\"62851daff31690bde8a0fc9dd0ef03c9\", element=\"c7f4688b-e40d-466c-8831-4eeecbf2d470\")>, <selenium.webdriver.remote.webelement.WebElement (session=\"62851daff31690bde8a0fc9dd0ef03c9\", element=\"7411aed0-ac94-42e7-9123-73f55f515dfd\")>, <selenium.webdriver.remote.webelement.WebElement (session=\"62851daff31690bde8a0fc9dd0ef03c9\", element=\"9d03f152-78eb-48a7-a93d-eb3b055be61a\")>, <selenium.webdriver.remote.webelement.WebElement (session=\"62851daff31690bde8a0fc9dd0ef03c9\", element=\"189d4f62-716b-4048-9cfe-251a43c88742\")>, <selenium.webdriver.remote.webelement.WebElement (session=\"62851daff31690bde8a0fc9dd0ef03c9\", element=\"fa8f5d79-6608-4d59-afdd-d2714f9bfafc\")>, <selenium.webdriver.remote.webelement.WebElement (session=\"62851daff31690bde8a0fc9dd0ef03c9\", element=\"d3b40205-0473-42e1-8f33-0e5833f6a6b1\")>, <selenium.webdriver.remote.webelement.WebElement (session=\"62851daff31690bde8a0fc9dd0ef03c9\", element=\"f85863df-7b34-4b5e-9b76-35821f85809b\")>, <selenium.webdriver.remote.webelement.WebElement (session=\"62851daff31690bde8a0fc9dd0ef03c9\", element=\"8c9746de-e730-4ac9-84c8-5536789e0d1f\")>, <selenium.webdriver.remote.webelement.WebElement (session=\"62851daff31690bde8a0fc9dd0ef03c9\", element=\"427ad710-f050-4142-9872-c9d7ae52ad12\")>, <selenium.webdriver.remote.webelement.WebElement (session=\"62851daff31690bde8a0fc9dd0ef03c9\", element=\"444c2966-43f7-428d-9fb5-59bd129ae314\")>, <selenium.webdriver.remote.webelement.WebElement (session=\"62851daff31690bde8a0fc9dd0ef03c9\", element=\"c5cc0801-9004-4316-a848-18e39fee634f\")>, <selenium.webdriver.remote.webelement.WebElement (session=\"62851daff31690bde8a0fc9dd0ef03c9\", element=\"26cf026d-a220-4f4a-a827-033ebc1ed61f\")>, <selenium.webdriver.remote.webelement.WebElement (session=\"62851daff31690bde8a0fc9dd0ef03c9\", element=\"216d73e5-7dea-4263-905e-926869a1e407\")>, <selenium.webdriver.remote.webelement.WebElement (session=\"62851daff31690bde8a0fc9dd0ef03c9\", element=\"7a7a48b1-c75f-4272-a02a-67d2ea1aa0c6\")>, <selenium.webdriver.remote.webelement.WebElement (session=\"62851daff31690bde8a0fc9dd0ef03c9\", element=\"3175d702-9392-4f96-822b-c8fdf9fbd8d2\")>, <selenium.webdriver.remote.webelement.WebElement (session=\"62851daff31690bde8a0fc9dd0ef03c9\", element=\"97f05445-b6c6-42cf-bec7-5c0b4dbc0e96\")>, <selenium.webdriver.remote.webelement.WebElement (session=\"62851daff31690bde8a0fc9dd0ef03c9\", element=\"351b99ca-c479-4079-b2b4-3fd721593e38\")>, <selenium.webdriver.remote.webelement.WebElement (session=\"62851daff31690bde8a0fc9dd0ef03c9\", element=\"2253f37a-3671-4754-a12a-a7ca0d2d7ed2\")>, <selenium.webdriver.remote.webelement.WebElement (session=\"62851daff31690bde8a0fc9dd0ef03c9\", element=\"758867fb-6c63-46c8-939f-907e3abb1ac9\")>, <selenium.webdriver.remote.webelement.WebElement (session=\"62851daff31690bde8a0fc9dd0ef03c9\", element=\"a04eac45-98a1-477c-8afb-43cb4ce535bb\")>, <selenium.webdriver.remote.webelement.WebElement (session=\"62851daff31690bde8a0fc9dd0ef03c9\", element=\"c70ece80-ecce-4afe-bbe6-0d6166e53256\")>, <selenium.webdriver.remote.webelement.WebElement (session=\"62851daff31690bde8a0fc9dd0ef03c9\", element=\"3688c906-371c-4cbd-bcc1-35e21b5a5064\")>]\n"
     ]
    }
   ],
   "source": [
    "print(videos)"
   ]
  },
  {
   "cell_type": "code",
   "execution_count": 24,
   "metadata": {},
   "outputs": [],
   "source": [
    "for video in videos:\n",
    "    title=driver.find_elements(By.XPATH,'//*[@id=\"video-title\"]')\n",
    "    view=driver.find_elements(By.XPATH,'//*[@id=\"metadata-line\"]/span[1]')\n",
    "    timepassed=driver.find_elements(By.XPATH, '//*[@id=\"metadata-line\"]/span[2]')"
   ]
  },
  {
   "cell_type": "code",
   "execution_count": 25,
   "metadata": {},
   "outputs": [],
   "source": [
    "# converting to a dataframe and transforming data\n",
    "data=pd.DataFrame({'Title':title,'View Count':view,'Uploaded':timepassed})\n",
    "data['Title'] = data['Title'].map(lambda x: x.text)\n",
    "data['View Count'] = data['View Count'].map(lambda x: x.text)\n",
    "data['Uploaded'] = data['Uploaded'].map(lambda x: x.text)"
   ]
  },
  {
   "cell_type": "code",
   "execution_count": 26,
   "metadata": {},
   "outputs": [
    {
     "data": {
      "text/html": [
       "<div>\n",
       "<style scoped>\n",
       "    .dataframe tbody tr th:only-of-type {\n",
       "        vertical-align: middle;\n",
       "    }\n",
       "\n",
       "    .dataframe tbody tr th {\n",
       "        vertical-align: top;\n",
       "    }\n",
       "\n",
       "    .dataframe thead th {\n",
       "        text-align: right;\n",
       "    }\n",
       "</style>\n",
       "<table border=\"1\" class=\"dataframe\">\n",
       "  <thead>\n",
       "    <tr style=\"text-align: right;\">\n",
       "      <th></th>\n",
       "      <th>Title</th>\n",
       "      <th>View Count</th>\n",
       "      <th>Uploaded</th>\n",
       "    </tr>\n",
       "  </thead>\n",
       "  <tbody>\n",
       "    <tr>\n",
       "      <th>0</th>\n",
       "      <td>How to Make Your Alter Ego on iPad in Procreat...</td>\n",
       "      <td>1.2M views</td>\n",
       "      <td>6 days ago</td>\n",
       "    </tr>\n",
       "    <tr>\n",
       "      <th>1</th>\n",
       "      <td>The best of Apple. All in one. | Apple One</td>\n",
       "      <td>1.3M views</td>\n",
       "      <td>2 weeks ago</td>\n",
       "    </tr>\n",
       "    <tr>\n",
       "      <th>2</th>\n",
       "      <td>How to Shoot &amp; Edit Dramatic Summer Light on i...</td>\n",
       "      <td>3M views</td>\n",
       "      <td>3 weeks ago</td>\n",
       "    </tr>\n",
       "    <tr>\n",
       "      <th>3</th>\n",
       "      <td>Switching to iPhone. All your questions answer...</td>\n",
       "      <td>554K views</td>\n",
       "      <td>4 weeks ago</td>\n",
       "    </tr>\n",
       "    <tr>\n",
       "      <th>4</th>\n",
       "      <td>iPhone 13 | Edge | Apple</td>\n",
       "      <td>4.5M views</td>\n",
       "      <td>1 month ago</td>\n",
       "    </tr>\n",
       "  </tbody>\n",
       "</table>\n",
       "</div>"
      ],
      "text/plain": [
       "                                               Title  View Count     Uploaded\n",
       "0  How to Make Your Alter Ego on iPad in Procreat...  1.2M views   6 days ago\n",
       "1         The best of Apple. All in one. | Apple One  1.3M views  2 weeks ago\n",
       "2  How to Shoot & Edit Dramatic Summer Light on i...    3M views  3 weeks ago\n",
       "3  Switching to iPhone. All your questions answer...  554K views  4 weeks ago\n",
       "4                           iPhone 13 | Edge | Apple  4.5M views  1 month ago"
      ]
     },
     "execution_count": 26,
     "metadata": {},
     "output_type": "execute_result"
    }
   ],
   "source": [
    "data.head()"
   ]
  }
 ],
 "metadata": {
  "kernelspec": {
   "display_name": "Python 3.9.12 ('base')",
   "language": "python",
   "name": "python3"
  },
  "language_info": {
   "codemirror_mode": {
    "name": "ipython",
    "version": 3
   },
   "file_extension": ".py",
   "mimetype": "text/x-python",
   "name": "python",
   "nbconvert_exporter": "python",
   "pygments_lexer": "ipython3",
   "version": "3.9.12"
  },
  "orig_nbformat": 4,
  "vscode": {
   "interpreter": {
    "hash": "40d3a090f54c6569ab1632332b64b2c03c39dcf918b08424e98f38b5ae0af88f"
   }
  }
 },
 "nbformat": 4,
 "nbformat_minor": 2
}
