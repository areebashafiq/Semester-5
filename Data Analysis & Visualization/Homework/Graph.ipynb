{
 "cells": [
  {
   "cell_type": "code",
   "execution_count": null,
   "metadata": {},
   "outputs": [],
   "source": [
    "\"\"\"\n",
    "\n",
    "Abdul Saboor\n",
    "20L-1113\n",
    "BDS-5A\n",
    "\n",
    "Task to do is:\n",
    "make dfs and bfs in python with oop approach\n",
    "populate graph\n",
    "\n",
    "ternary operators\n",
    "python operators and data structures\n",
    "\"\"\""
   ]
  },
  {
   "cell_type": "code",
   "execution_count": 99,
   "metadata": {},
   "outputs": [],
   "source": [
    "# defining class\n",
    "class graph:\n",
    "    def __init__(self):\n",
    "        self.graph={} # deictionery for graph representation\n",
    "    \n",
    "    def add(self,n,v):\n",
    "        # This function will populate our graph\n",
    "        # checking and adding node\n",
    "        if n in self.graph:\n",
    "            if v not in self.graph[n]: # checking for duplicates\n",
    "                self.graph[n].append(v)\n",
    "        else:\n",
    "            self.graph[n]=[v]\n",
    "        # checking and adding vertex\n",
    "        if v in self.graph:\n",
    "            if n not in self.graph[v]: # checking for duplicates\n",
    "                self.graph[v].append(n)\n",
    "        else:\n",
    "            self.graph[v]=[n]\n",
    "\n",
    "    # BFS implentation\n",
    "    def BFS(self,source):\n",
    "        # defining local structs to use\n",
    "        visited=[False for i in range(max(self.graph)+1)]\n",
    "        queue=[]\n",
    "\n",
    "        # queueing and marking source\n",
    "        queue.append(source)\n",
    "        visited[source]=True\n",
    "\n",
    "        # checking for all the neighbours\n",
    "        while queue:\n",
    " \n",
    "            # Dequeue a vertex from queue and print it\n",
    "            source = queue.pop(0)\n",
    "            print (source, end = \" \")\n",
    " \n",
    "            # Get all adjacent vertices of the dequeued vertex s. If an adjacent\n",
    "            # has not been visited, then mark it visited and enqueue it\n",
    "            for i in self.graph[source]:\n",
    "                if visited[i] == False:\n",
    "                    queue.append(i)\n",
    "                    visited[i] = True\n",
    "\n",
    "    # DFS Implementation (Recursive)\n",
    "    def DFSUtil(self, v, visited):\n",
    "        # Mark the current node as visited and print it\n",
    "        visited.append(v)\n",
    "        print(v,end=\" \")\n",
    "\n",
    "        # recur for all the vertices adjacent to this vertex\n",
    "        for neighbour in self.graph[v]:\n",
    "            if neighbour not in visited:\n",
    "                self.DFSUtil(neighbour, visited)\n",
    "        # The function to do DFS traversal. It uses recursive DFSUtil\n",
    "\n",
    "    def DFS(self):\n",
    "        # create a set to store all visited vertices\n",
    "        visited = []\n",
    "        # call the recursive helper function to print DFS traversal starting from all\n",
    "        # vertices one by one\n",
    "        for vertex in self.graph:\n",
    "            if vertex not in visited:\n",
    "                self.DFSUtil(vertex, visited)"
   ]
  },
  {
   "cell_type": "code",
   "execution_count": 100,
   "metadata": {},
   "outputs": [
    {
     "name": "stdout",
     "output_type": "stream",
     "text": [
      "2 0 1 3 "
     ]
    }
   ],
   "source": [
    "# creating and populating a graph\n",
    "g = graph()\n",
    "g.add(0, 1)\n",
    "g.add(0, 2)\n",
    "g.add(1, 2)\n",
    "g.add(2, 0)\n",
    "g.add(2, 3)\n",
    "g.add(3, 3)\n",
    "\n",
    "g.BFS(2)"
   ]
  },
  {
   "cell_type": "code",
   "execution_count": 101,
   "metadata": {},
   "outputs": [
    {
     "name": "stdout",
     "output_type": "stream",
     "text": [
      "0 1 2 3 "
     ]
    }
   ],
   "source": [
    "g.DFS()"
   ]
  }
 ],
 "metadata": {
  "kernelspec": {
   "display_name": "Python 3.9.12 ('base')",
   "language": "python",
   "name": "python3"
  },
  "language_info": {
   "codemirror_mode": {
    "name": "ipython",
    "version": 3
   },
   "file_extension": ".py",
   "mimetype": "text/x-python",
   "name": "python",
   "nbconvert_exporter": "python",
   "pygments_lexer": "ipython3",
   "version": "3.9.12"
  },
  "orig_nbformat": 4,
  "vscode": {
   "interpreter": {
    "hash": "40d3a090f54c6569ab1632332b64b2c03c39dcf918b08424e98f38b5ae0af88f"
   }
  }
 },
 "nbformat": 4,
 "nbformat_minor": 2
}
