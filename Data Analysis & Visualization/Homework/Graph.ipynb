{
 "cells": [
  {
   "cell_type": "code",
   "execution_count": null,
   "metadata": {},
   "outputs": [],
   "source": [
    "\"\"\"\n",
    "Task to do is:\n",
    "make dfs and bfs in python\n",
    "convert to a tree with root\n",
    "find path\n",
    "populate graph\n",
    "\n",
    "ternary operators\n",
    "python operators and data structures\n",
    "\"\"\""
   ]
  },
  {
   "cell_type": "code",
   "execution_count": 6,
   "metadata": {},
   "outputs": [],
   "source": [
    "# practicing python object oriented programming\n",
    "class car:\n",
    "    def __init__(self, company, model):\n",
    "        self.company=company\n",
    "        self.model=model\n",
    "    \n",
    "    def print(self,miles):\n",
    "        print(f\"{self.company} {self.model} has been driven {miles} miles.\")"
   ]
  },
  {
   "cell_type": "code",
   "execution_count": 7,
   "metadata": {},
   "outputs": [
    {
     "name": "stdout",
     "output_type": "stream",
     "text": [
      "lamborghini aventador SVJ has been driven 10000 miles.\n"
     ]
    }
   ],
   "source": [
    "# class testing code\n",
    "car1=car('lamborghini','aventador SVJ')\n",
    "car1.print(10000)"
   ]
  },
  {
   "cell_type": "markdown",
   "metadata": {},
   "source": [
    "### Graph Implemetation"
   ]
  },
  {
   "cell_type": "code",
   "execution_count": 30,
   "metadata": {},
   "outputs": [],
   "source": [
    "# defining class for graph\n",
    "\n",
    "from collections import defaultdict # importing data structure to use\n",
    "\n",
    "class graph:\n",
    "    def __init__(self): # constructor that creates a list of dictionaries\n",
    "        self.graph=defaultdict(list)\n",
    "    \n",
    "    def addEdge(self,node,vertex): # setter function to define input\n",
    "        self.graph[node].append(vertex)\n",
    "    \n",
    "    # BFS implementation\n",
    "    def BFS(self, s):\n",
    " \n",
    "        visited = [False for i in range(max(self.graph) + 1)] # a list for checking the visited\n",
    " \n",
    "        queue = [] # queue for BFS\n",
    " \n",
    "        # Mark the source node as\n",
    "        # visited and enqueue it\n",
    "        queue.append(s)\n",
    "        visited[s] = True\n",
    " \n",
    "        while queue:\n",
    " \n",
    "            # Dequeue a vertex from queue and print it\n",
    "            s = queue.pop(0)\n",
    "            print (s, end = \" \")\n",
    " \n",
    "            # Get all adjacent vertices of the dequeued vertex s. If a adjacent\n",
    "            # has not been visited, then mark it visited and enqueue it\n",
    "            for i in self.graph[s]:\n",
    "                if visited[i] == False:\n",
    "                    queue.append(i)\n",
    "                    visited[i] = True\n",
    "\n",
    "    # DFS Implementation\n",
    "    def DFSUtil(self, v, visited):\n",
    "        # Mark the current node as visited and print it\n",
    "        visited.add(v)\n",
    "        print(v,end=\" \")\n",
    "\n",
    "        # recur for all the vertices adjacent to this vertex\n",
    "        for neighbour in self.graph[v]:\n",
    "            if neighbour not in visited:\n",
    "                self.DFSUtil(neighbour, visited)\n",
    "        # The function to do DFS traversal. It uses recursive DFSUtil\n",
    "\n",
    "    def DFS(self):\n",
    "        # create a set to store all visited vertices\n",
    "        visited = set()\n",
    "        # call the recursive helper function to print DFS traversal starting from all\n",
    "        # vertices one by one\n",
    "        for vertex in self.graph:\n",
    "            if vertex not in visited:\n",
    "                self.DFSUtil(vertex, visited)"
   ]
  },
  {
   "cell_type": "code",
   "execution_count": 31,
   "metadata": {},
   "outputs": [
    {
     "name": "stdout",
     "output_type": "stream",
     "text": [
      "Following is Breadth First Traversal (starting from vertex 2)\n",
      "2 0 3 1 "
     ]
    }
   ],
   "source": [
    "# Create a graph given in\n",
    "# the above diagram\n",
    "g = graph()\n",
    "g.addEdge(0, 1)\n",
    "g.addEdge(0, 2)\n",
    "g.addEdge(1, 2)\n",
    "g.addEdge(2, 0)\n",
    "g.addEdge(2, 3)\n",
    "g.addEdge(3, 3)\n",
    " \n",
    "print (\"Following is Breadth First Traversal\"\n",
    "                  \" (starting from vertex 2)\")\n",
    "g.BFS(2)"
   ]
  },
  {
   "cell_type": "code",
   "execution_count": 32,
   "metadata": {},
   "outputs": [
    {
     "name": "stdout",
     "output_type": "stream",
     "text": [
      "0 1 2 3 "
     ]
    }
   ],
   "source": [
    "g.DFS()"
   ]
  }
 ],
 "metadata": {
  "kernelspec": {
   "display_name": "Python 3.9.12 ('base')",
   "language": "python",
   "name": "python3"
  },
  "language_info": {
   "codemirror_mode": {
    "name": "ipython",
    "version": 3
   },
   "file_extension": ".py",
   "mimetype": "text/x-python",
   "name": "python",
   "nbconvert_exporter": "python",
   "pygments_lexer": "ipython3",
   "version": "3.9.12"
  },
  "orig_nbformat": 4,
  "vscode": {
   "interpreter": {
    "hash": "40d3a090f54c6569ab1632332b64b2c03c39dcf918b08424e98f38b5ae0af88f"
   }
  }
 },
 "nbformat": 4,
 "nbformat_minor": 2
}
