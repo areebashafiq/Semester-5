{
 "cells": [
  {
   "cell_type": "code",
   "execution_count": null,
   "metadata": {},
   "outputs": [],
   "source": [
    "# This notebook contains scraping with an OOP approach\n",
    "\n",
    "\"\"\"\n",
    "now things that are required\n",
    "- Titles of all videos\n",
    "- Views on each video\n",
    "\n",
    "Store this data as dictionery\n",
    "\n",
    "create youtube data scrapper class and make constructor to initiate process, \n",
    "make functions for passing url and opening webpage, \n",
    "define functions for all these searches, including posted time\n",
    "give data in an excel file\n",
    "\n",
    "we can use pandas or dictioneries to properly format data\n",
    "\"\"\""
   ]
  },
  {
   "cell_type": "code",
   "execution_count": null,
   "metadata": {},
   "outputs": [],
   "source": [
    "# importing required modules\n",
    "from selenium import webdriver\n",
    "from selenium.webdriver.common.by import By\n",
    "import pandas as pd"
   ]
  },
  {
   "cell_type": "code",
   "execution_count": null,
   "metadata": {},
   "outputs": [],
   "source": [
    "# OOP Implementation\n",
    "\n",
    "class Youtube_Scrapper:\n",
    "    def __init__(self,url):\n",
    "\n",
    "        # Initializing required things\n",
    "        self.url=url\n",
    "        self.driver=webdriver.Edge('/Users/carbon/Downloads/edgedriver_mac64/msedgedriver')\n",
    "        self.driver.get(self.url) # this will open automation\n",
    "\n",
    "    def display_data(self):\n",
    "        videos=self.driver.find_elements(By.CLASS_NAME,\"style-scope ytd-grid-video-renderer\")\n",
    "\n",
    "        for video in videos:\n",
    "            title=self.driver.find_elements(By.XPATH,'//*[@id=\"video-title\"]')\n",
    "            view=self.driver.find_elements(By.XPATH,'//*[@id=\"metadata-line\"]/span[1]')\n",
    "            timepassed=self.driver.find_elements(By.XPATH, '//*[@id=\"metadata-line\"]/span[2]')\n",
    "\n",
    "        # converting to a dataframe and transforming data\n",
    "        data=pd.DataFrame({'Title':title,'View Count':view,'Uploaded':timepassed})\n",
    "        data['Title'] = data['Title'].map(lambda x: x.text)\n",
    "        data['View Count'] = data['View Count'].map(lambda x: x.text)\n",
    "        data['Uploaded'] = data['Uploaded'].map(lambda x: x.text)\n",
    "\n",
    "        return data"
   ]
  },
  {
   "cell_type": "code",
   "execution_count": null,
   "metadata": {},
   "outputs": [],
   "source": [
    "instance=Youtube_Scrapper('https://www.youtube.com/user/Apple/videos')"
   ]
  },
  {
   "cell_type": "code",
   "execution_count": null,
   "metadata": {},
   "outputs": [],
   "source": [
    "data=instance.display_data()\n",
    "data.head()"
   ]
  }
 ],
 "metadata": {
  "kernelspec": {
   "display_name": "Python 3.9.12 ('base')",
   "language": "python",
   "name": "python3"
  },
  "language_info": {
   "codemirror_mode": {
    "name": "ipython",
    "version": 3
   },
   "file_extension": ".py",
   "mimetype": "text/x-python",
   "name": "python",
   "nbconvert_exporter": "python",
   "pygments_lexer": "ipython3",
   "version": "3.9.12"
  },
  "orig_nbformat": 4,
  "vscode": {
   "interpreter": {
    "hash": "40d3a090f54c6569ab1632332b64b2c03c39dcf918b08424e98f38b5ae0af88f"
   }
  }
 },
 "nbformat": 4,
 "nbformat_minor": 2
}
