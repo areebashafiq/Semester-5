{
 "cells": [
  {
   "cell_type": "markdown",
   "metadata": {},
   "source": [
    "### Learning to scrap data from youtube using selenium"
   ]
  },
  {
   "cell_type": "code",
   "execution_count": 18,
   "metadata": {},
   "outputs": [],
   "source": [
    "import selenium # importing library to use\n",
    "import pandas as pd"
   ]
  },
  {
   "cell_type": "code",
   "execution_count": 19,
   "metadata": {},
   "outputs": [],
   "source": [
    "from selenium import webdriver #importing webdriver from selenium, for our light-weight work"
   ]
  },
  {
   "cell_type": "code",
   "execution_count": 20,
   "metadata": {},
   "outputs": [],
   "source": [
    "driver_path = '/Users/carbon/Downloads/edgedriver_mac64/msedgedriver' #sving driver path"
   ]
  },
  {
   "cell_type": "code",
   "execution_count": null,
   "metadata": {},
   "outputs": [],
   "source": [
    "driver=webdriver.Edge('/Users/carbon/Downloads/edgedriver_mac64/msedgedriver') #configuring web-driver"
   ]
  },
  {
   "cell_type": "markdown",
   "metadata": {},
   "source": [
    "Now the task is to import data from a youtube channel"
   ]
  },
  {
   "cell_type": "code",
   "execution_count": null,
   "metadata": {},
   "outputs": [],
   "source": [
    "url_path='https://www.youtube.com/user/Apple/videos' # defining url"
   ]
  },
  {
   "cell_type": "code",
   "execution_count": null,
   "metadata": {},
   "outputs": [],
   "source": [
    "# driver.get(url_path) # this command will open page, but automated should be opened first\n",
    "driver.get('https://www.youtube.com/user/Apple/videos') # this command will open page, but automated should be opened first"
   ]
  },
  {
   "cell_type": "code",
   "execution_count": null,
   "metadata": {},
   "outputs": [],
   "source": [
    "\"\"\"\n",
    "now things that are required\n",
    "- Titles of all videos\n",
    "- Views on each video\n",
    "\n",
    "Store this data as dictionery\n",
    "\n",
    "create youtube data scrapper class and make constructor to initiate process, \n",
    "make functions for passing url and opening webpage, \n",
    "define functions for all these searches, including posted time\n",
    "give data in an excel file\n",
    "\n",
    "we can use pandas or dictioneries to properly format data\n",
    "\"\"\"\n",
    "from selenium.webdriver.common.by import By\n",
    "videos=driver.find_elements(By.CLASS_NAME,\"style-scope ytd-grid-video-renderer\")"
   ]
  },
  {
   "cell_type": "code",
   "execution_count": null,
   "metadata": {},
   "outputs": [],
   "source": [
    "print(videos)"
   ]
  },
  {
   "cell_type": "code",
   "execution_count": null,
   "metadata": {},
   "outputs": [],
   "source": [
    "# Now we will extract information by iterations\n",
    "for video in videos:\n",
    "    title=driver.find_elements(By.XPATH,'//*[@id=\"video-title\"]')\n",
    "    view=driver.find_elements(By.XPATH,'//*[@id=\"metadata-line\"]/span[1]')\n",
    "    timepassed=driver.find_elements(By.XPATH, '//*[@id=\"metadata-line\"]/span[2]')"
   ]
  },
  {
   "cell_type": "code",
   "execution_count": null,
   "metadata": {},
   "outputs": [],
   "source": [
    "import itertools\n",
    "data={i.text:j.text for (i,j) in zip(title,view)}"
   ]
  },
  {
   "cell_type": "code",
   "execution_count": null,
   "metadata": {},
   "outputs": [],
   "source": [
    "for i,j in data.items():\n",
    "    print(i,j,sep=\" : \")"
   ]
  },
  {
   "cell_type": "code",
   "execution_count": null,
   "metadata": {},
   "outputs": [],
   "source": [
    "data=pd.DataFrame({'Title':title,'View Count':view,'Uploaded':timepassed})\n",
    "data['Title'] = data['Title'].map(lambda x: x.text)\n",
    "data['View Count'] = data['View Count'].map(lambda x: x.text)\n",
    "data['Uploaded'] = data['Uploaded'].map(lambda x: x.text)"
   ]
  },
  {
   "cell_type": "code",
   "execution_count": null,
   "metadata": {},
   "outputs": [],
   "source": [
    "data.head()"
   ]
  },
  {
   "cell_type": "code",
   "execution_count": null,
   "metadata": {},
   "outputs": [],
   "source": [
    "driver=webdriver.Edge('/Users/carbon/Downloads/edgedriver_mac64/msedgedriver')\n",
    "driver.get('https://www.youtube.com/user/Apple/videos') # this will open automation\n",
    "videos=driver.find_elements(By.CLASS_NAME,\"style-scope ytd-grid-video-renderer\")\n",
    "\n",
    "for video in videos:\n",
    "    title=driver.find_elements(By.XPATH,'//*[@id=\"video-title\"]')\n",
    "    view=driver.find_elements(By.XPATH,'//*[@id=\"metadata-line\"]/span[1]')\n",
    "    timepassed=driver.find_elements(By.XPATH, '//*[@id=\"metadata-line\"]/span[2]')\n",
    "\n",
    "# converting to a dataframe and transforming data\n",
    "data=pd.DataFrame({'Title':title,'View Count':view,'Uploaded':timepassed})\n",
    "data['Title'] = data['Title'].map(lambda x: x.text)\n",
    "data['View Count'] = data['View Count'].map(lambda x: x.text)\n",
    "data['Uploaded'] = data['Uploaded'].map(lambda x: x.text)"
   ]
  }
 ],
 "metadata": {
  "kernelspec": {
   "display_name": "Python 3.10.5 64-bit",
   "language": "python",
   "name": "python3"
  },
  "language_info": {
   "codemirror_mode": {
    "name": "ipython",
    "version": 3
   },
   "file_extension": ".py",
   "mimetype": "text/x-python",
   "name": "python",
   "nbconvert_exporter": "python",
   "pygments_lexer": "ipython3",
   "version": "3.10.5"
  },
  "orig_nbformat": 4,
  "vscode": {
   "interpreter": {
    "hash": "aee8b7b246df8f9039afb4144a1f6fd8d2ca17a180786b69acc140d282b71a49"
   }
  }
 },
 "nbformat": 4,
 "nbformat_minor": 2
}
