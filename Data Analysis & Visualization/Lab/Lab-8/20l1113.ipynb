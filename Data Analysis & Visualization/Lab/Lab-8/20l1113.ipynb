{
 "cells": [
  {
   "cell_type": "code",
   "execution_count": 255,
   "metadata": {},
   "outputs": [],
   "source": [
    "# implementing logistic regression"
   ]
  },
  {
   "cell_type": "code",
   "execution_count": 256,
   "metadata": {},
   "outputs": [],
   "source": [
    "# importing libraries\n",
    "\n",
    "import numpy as np\n",
    "import pandas as pd\n",
    "import matplotlib.pyplot as plt\n",
    "import seaborn as sns\n",
    "%matplotlib inline"
   ]
  },
  {
   "cell_type": "code",
   "execution_count": 257,
   "metadata": {},
   "outputs": [
    {
     "data": {
      "text/html": [
       "<div>\n",
       "<style scoped>\n",
       "    .dataframe tbody tr th:only-of-type {\n",
       "        vertical-align: middle;\n",
       "    }\n",
       "\n",
       "    .dataframe tbody tr th {\n",
       "        vertical-align: top;\n",
       "    }\n",
       "\n",
       "    .dataframe thead th {\n",
       "        text-align: right;\n",
       "    }\n",
       "</style>\n",
       "<table border=\"1\" class=\"dataframe\">\n",
       "  <thead>\n",
       "    <tr style=\"text-align: right;\">\n",
       "      <th></th>\n",
       "      <th>Height (cm)</th>\n",
       "      <th>Label</th>\n",
       "      <th>sig</th>\n",
       "      <th>f(X)</th>\n",
       "      <th>error</th>\n",
       "      <th>WF</th>\n",
       "      <th>y_pred</th>\n",
       "      <th>b</th>\n",
       "      <th>-36.8424613773466</th>\n",
       "      <th>Unnamed: 9</th>\n",
       "    </tr>\n",
       "  </thead>\n",
       "  <tbody>\n",
       "    <tr>\n",
       "      <th>0</th>\n",
       "      <td>120.0</td>\n",
       "      <td>0.0</td>\n",
       "      <td>0.000006</td>\n",
       "      <td>-5.421616e-07</td>\n",
       "      <td>0.000006</td>\n",
       "      <td>4.369884e-09</td>\n",
       "      <td>0.0</td>\n",
       "      <td>w</td>\n",
       "      <td>0.206870</td>\n",
       "      <td>NaN</td>\n",
       "    </tr>\n",
       "    <tr>\n",
       "      <th>1</th>\n",
       "      <td>124.0</td>\n",
       "      <td>0.0</td>\n",
       "      <td>0.000014</td>\n",
       "      <td>-1.240214e-06</td>\n",
       "      <td>0.000014</td>\n",
       "      <td>2.362882e-08</td>\n",
       "      <td>0.0</td>\n",
       "      <td>examples</td>\n",
       "      <td>12.000000</td>\n",
       "      <td>NaN</td>\n",
       "    </tr>\n",
       "    <tr>\n",
       "      <th>2</th>\n",
       "      <td>125.0</td>\n",
       "      <td>0.0</td>\n",
       "      <td>0.000017</td>\n",
       "      <td>-1.525240e-06</td>\n",
       "      <td>0.000017</td>\n",
       "      <td>3.602563e-08</td>\n",
       "      <td>0.0</td>\n",
       "      <td>lr</td>\n",
       "      <td>0.020000</td>\n",
       "      <td>NaN</td>\n",
       "    </tr>\n",
       "    <tr>\n",
       "      <th>3</th>\n",
       "      <td>128.0</td>\n",
       "      <td>0.0</td>\n",
       "      <td>0.000032</td>\n",
       "      <td>-2.837008e-06</td>\n",
       "      <td>0.000032</td>\n",
       "      <td>1.276288e-07</td>\n",
       "      <td>0.0</td>\n",
       "      <td>nb</td>\n",
       "      <td>-36.828097</td>\n",
       "      <td>-36.842461</td>\n",
       "    </tr>\n",
       "    <tr>\n",
       "      <th>4</th>\n",
       "      <td>130.0</td>\n",
       "      <td>0.0</td>\n",
       "      <td>0.000048</td>\n",
       "      <td>-4.290814e-06</td>\n",
       "      <td>0.000048</td>\n",
       "      <td>2.965050e-07</td>\n",
       "      <td>0.0</td>\n",
       "      <td>nw</td>\n",
       "      <td>0.247338</td>\n",
       "      <td>0.206870</td>\n",
       "    </tr>\n",
       "  </tbody>\n",
       "</table>\n",
       "</div>"
      ],
      "text/plain": [
       "   Height (cm)  Label       sig          f(X)     error            WF  y_pred  \\\n",
       "0        120.0    0.0  0.000006 -5.421616e-07  0.000006  4.369884e-09     0.0   \n",
       "1        124.0    0.0  0.000014 -1.240214e-06  0.000014  2.362882e-08     0.0   \n",
       "2        125.0    0.0  0.000017 -1.525240e-06  0.000017  3.602563e-08     0.0   \n",
       "3        128.0    0.0  0.000032 -2.837008e-06  0.000032  1.276288e-07     0.0   \n",
       "4        130.0    0.0  0.000048 -4.290814e-06  0.000048  2.965050e-07     0.0   \n",
       "\n",
       "          b  -36.8424613773466  Unnamed: 9  \n",
       "0         w           0.206870         NaN  \n",
       "1  examples          12.000000         NaN  \n",
       "2        lr           0.020000         NaN  \n",
       "3        nb         -36.828097  -36.842461  \n",
       "4        nw           0.247338    0.206870  "
      ]
     },
     "execution_count": 257,
     "metadata": {},
     "output_type": "execute_result"
    }
   ],
   "source": [
    "# importing dataset\n",
    "\n",
    "dataset = pd.read_excel('Machine Learning Algos.xlsx',sheet_name='Logistic Regression').head(12)\n",
    "dataset.head()"
   ]
  },
  {
   "cell_type": "code",
   "execution_count": 258,
   "metadata": {},
   "outputs": [],
   "source": [
    "# selecting features\n",
    "features = dataset['Height (cm)']\n",
    "\n",
    "# selecting labels\n",
    "labels = dataset['Label']"
   ]
  },
  {
   "cell_type": "code",
   "execution_count": 259,
   "metadata": {},
   "outputs": [
    {
     "data": {
      "text/plain": [
       "(array([[0.24473587]]), array([-38.31130303]))"
      ]
     },
     "execution_count": 259,
     "metadata": {},
     "output_type": "execute_result"
    }
   ],
   "source": [
    "# logistic regression by sklearn\n",
    "from sklearn.linear_model import LogisticRegression\n",
    "logreg = LogisticRegression()\n",
    "logreg.fit(features.values.reshape(-1,1), labels)\n",
    "logreg.coef_, logreg.intercept_"
   ]
  },
  {
   "cell_type": "code",
   "execution_count": 260,
   "metadata": {},
   "outputs": [
    {
     "data": {
      "text/plain": [
       "0.0007565415791482554"
      ]
     },
     "execution_count": 260,
     "metadata": {},
     "output_type": "execute_result"
    }
   ],
   "source": [
    "# sklearn cost function\n",
    "from sklearn.metrics import log_loss\n",
    "log_loss(labels, logreg.predict_proba(features.values.reshape(-1,1)))"
   ]
  },
  {
   "cell_type": "code",
   "execution_count": 261,
   "metadata": {},
   "outputs": [
    {
     "name": "stderr",
     "output_type": "stream",
     "text": [
      "/var/folders/cr/hc4rlj593_13pvcn96cdsn6h0000gn/T/ipykernel_10950/4172600567.py:8: RuntimeWarning: divide by zero encountered in log\n",
      "  cost = (1/m) * np.sum(-labels*np.log(predictions) - (1-labels)*np.log(1-predictions))\n",
      "/var/folders/cr/hc4rlj593_13pvcn96cdsn6h0000gn/T/ipykernel_10950/4172600567.py:3: RuntimeWarning: overflow encountered in exp\n",
      "  return 1/(1+np.exp(-x))\n"
     ]
    }
   ],
   "source": [
    "# implementing logistic regression from scratch\n",
    "def sigmoid(x):\n",
    "    return 1/(1+np.exp(-x))\n",
    "\n",
    "def cost_function(features, labels, weights):\n",
    "    m = len(labels)\n",
    "    predictions = sigmoid(np.dot(features, weights))\n",
    "    cost = (1/m) * np.sum(-labels*np.log(predictions) - (1-labels)*np.log(1-predictions))\n",
    "    return cost\n",
    "\n",
    "def update_weights(features, labels, weights, lr):\n",
    "    m = len(labels)\n",
    "    predictions = sigmoid(np.dot(features, weights))\n",
    "    gradient = np.dot(features.T, predictions-labels)\n",
    "    weights -= lr * gradient\n",
    "    return weights\n",
    "\n",
    "def train(features, labels, weights, lr, iters):\n",
    "    cost_history = []\n",
    "    for i in range(iters):\n",
    "        weights = update_weights(features, labels, weights, lr)\n",
    "        cost = cost_function(features, labels, weights)\n",
    "        cost_history.append(cost)\n",
    "    return weights, cost_history\n",
    "\n",
    "# training the model\n",
    "weights = np.zeros(2)\n",
    "features = np.c_[np.ones(len(features)), features]\n",
    "weights, cost_history = train(features, labels, weights, 0.01, 10000)"
   ]
  },
  {
   "cell_type": "code",
   "execution_count": 262,
   "metadata": {},
   "outputs": [
    {
     "data": {
      "text/plain": [
       "array([-41.27559218,   0.26498447])"
      ]
     },
     "execution_count": 262,
     "metadata": {},
     "output_type": "execute_result"
    }
   ],
   "source": [
    "weights"
   ]
  },
  {
   "cell_type": "code",
   "execution_count": 263,
   "metadata": {},
   "outputs": [
    {
     "data": {
      "text/plain": [
       "0.0004457758460319275"
      ]
     },
     "execution_count": 263,
     "metadata": {},
     "output_type": "execute_result"
    }
   ],
   "source": [
    "cost_history[-1]"
   ]
  },
  {
   "cell_type": "code",
   "execution_count": 264,
   "metadata": {},
   "outputs": [
    {
     "data": {
      "text/plain": [
       "array([7.65526188e-05, 2.20913635e-04, 2.87921904e-04, 6.37333532e-04,\n",
       "       1.08227084e-03, 8.30546762e-04, 9.98376608e-01, 9.99567949e-01,\n",
       "       9.99885114e-01, 9.99969458e-01, 9.99991881e-01, 9.99997842e-01])"
      ]
     },
     "execution_count": 264,
     "metadata": {},
     "output_type": "execute_result"
    }
   ],
   "source": [
    "# predicting the labels\n",
    "def predict(features, weights):\n",
    "    z = np.dot(features, weights)\n",
    "    return sigmoid(z)\n",
    "\n",
    "predictions = predict(features, weights)\n",
    "predictions"
   ]
  },
  {
   "cell_type": "code",
   "execution_count": 265,
   "metadata": {},
   "outputs": [
    {
     "data": {
      "text/plain": [
       "array([0, 0, 0, 0, 0, 0, 1, 1, 1, 1, 1, 1])"
      ]
     },
     "execution_count": 265,
     "metadata": {},
     "output_type": "execute_result"
    }
   ],
   "source": [
    "# applying threshold\n",
    "predictions = np.where(predictions > 0.5, 1, 0)\n",
    "predictions"
   ]
  },
  {
   "cell_type": "code",
   "execution_count": 266,
   "metadata": {},
   "outputs": [
    {
     "data": {
      "text/html": [
       "<div>\n",
       "<style scoped>\n",
       "    .dataframe tbody tr th:only-of-type {\n",
       "        vertical-align: middle;\n",
       "    }\n",
       "\n",
       "    .dataframe tbody tr th {\n",
       "        vertical-align: top;\n",
       "    }\n",
       "\n",
       "    .dataframe thead th {\n",
       "        text-align: right;\n",
       "    }\n",
       "</style>\n",
       "<table border=\"1\" class=\"dataframe\">\n",
       "  <thead>\n",
       "    <tr style=\"text-align: right;\">\n",
       "      <th></th>\n",
       "      <th>features</th>\n",
       "      <th>labels</th>\n",
       "      <th>sigmoid</th>\n",
       "      <th>error</th>\n",
       "      <th>y_pred</th>\n",
       "    </tr>\n",
       "  </thead>\n",
       "  <tbody>\n",
       "    <tr>\n",
       "      <th>0</th>\n",
       "      <td>120.0</td>\n",
       "      <td>0.0</td>\n",
       "      <td>0.000077</td>\n",
       "      <td>0.0</td>\n",
       "      <td>0</td>\n",
       "    </tr>\n",
       "    <tr>\n",
       "      <th>1</th>\n",
       "      <td>124.0</td>\n",
       "      <td>0.0</td>\n",
       "      <td>0.000221</td>\n",
       "      <td>0.0</td>\n",
       "      <td>0</td>\n",
       "    </tr>\n",
       "    <tr>\n",
       "      <th>2</th>\n",
       "      <td>125.0</td>\n",
       "      <td>0.0</td>\n",
       "      <td>0.000288</td>\n",
       "      <td>0.0</td>\n",
       "      <td>0</td>\n",
       "    </tr>\n",
       "    <tr>\n",
       "      <th>3</th>\n",
       "      <td>128.0</td>\n",
       "      <td>0.0</td>\n",
       "      <td>0.000637</td>\n",
       "      <td>0.0</td>\n",
       "      <td>0</td>\n",
       "    </tr>\n",
       "    <tr>\n",
       "      <th>4</th>\n",
       "      <td>130.0</td>\n",
       "      <td>0.0</td>\n",
       "      <td>0.001082</td>\n",
       "      <td>0.0</td>\n",
       "      <td>0</td>\n",
       "    </tr>\n",
       "    <tr>\n",
       "      <th>5</th>\n",
       "      <td>129.0</td>\n",
       "      <td>0.0</td>\n",
       "      <td>0.000831</td>\n",
       "      <td>0.0</td>\n",
       "      <td>0</td>\n",
       "    </tr>\n",
       "    <tr>\n",
       "      <th>6</th>\n",
       "      <td>180.0</td>\n",
       "      <td>1.0</td>\n",
       "      <td>0.998377</td>\n",
       "      <td>0.0</td>\n",
       "      <td>1</td>\n",
       "    </tr>\n",
       "    <tr>\n",
       "      <th>7</th>\n",
       "      <td>185.0</td>\n",
       "      <td>1.0</td>\n",
       "      <td>0.999568</td>\n",
       "      <td>0.0</td>\n",
       "      <td>1</td>\n",
       "    </tr>\n",
       "    <tr>\n",
       "      <th>8</th>\n",
       "      <td>190.0</td>\n",
       "      <td>1.0</td>\n",
       "      <td>0.999885</td>\n",
       "      <td>0.0</td>\n",
       "      <td>1</td>\n",
       "    </tr>\n",
       "    <tr>\n",
       "      <th>9</th>\n",
       "      <td>195.0</td>\n",
       "      <td>1.0</td>\n",
       "      <td>0.999969</td>\n",
       "      <td>0.0</td>\n",
       "      <td>1</td>\n",
       "    </tr>\n",
       "    <tr>\n",
       "      <th>10</th>\n",
       "      <td>200.0</td>\n",
       "      <td>1.0</td>\n",
       "      <td>0.999992</td>\n",
       "      <td>0.0</td>\n",
       "      <td>1</td>\n",
       "    </tr>\n",
       "    <tr>\n",
       "      <th>11</th>\n",
       "      <td>205.0</td>\n",
       "      <td>1.0</td>\n",
       "      <td>0.999998</td>\n",
       "      <td>0.0</td>\n",
       "      <td>1</td>\n",
       "    </tr>\n",
       "  </tbody>\n",
       "</table>\n",
       "</div>"
      ],
      "text/plain": [
       "    features  labels   sigmoid  error  y_pred\n",
       "0      120.0     0.0  0.000077    0.0       0\n",
       "1      124.0     0.0  0.000221    0.0       0\n",
       "2      125.0     0.0  0.000288    0.0       0\n",
       "3      128.0     0.0  0.000637    0.0       0\n",
       "4      130.0     0.0  0.001082    0.0       0\n",
       "5      129.0     0.0  0.000831    0.0       0\n",
       "6      180.0     1.0  0.998377    0.0       1\n",
       "7      185.0     1.0  0.999568    0.0       1\n",
       "8      190.0     1.0  0.999885    0.0       1\n",
       "9      195.0     1.0  0.999969    0.0       1\n",
       "10     200.0     1.0  0.999992    0.0       1\n",
       "11     205.0     1.0  0.999998    0.0       1"
      ]
     },
     "execution_count": 266,
     "metadata": {},
     "output_type": "execute_result"
    }
   ],
   "source": [
    "# creating a dataframe of all the predictions\n",
    "df = pd.DataFrame({'features': features[:,1], 'labels': labels, 'sigmoid': predict(features, weights), 'error': labels-predictions, 'y_pred': predictions})\n",
    "df"
   ]
  },
  {
   "cell_type": "code",
   "execution_count": null,
   "metadata": {},
   "outputs": [],
   "source": [
    "# appending the column in the data frame"
   ]
  }
 ],
 "metadata": {
  "kernelspec": {
   "display_name": "Python 3.9.13 ('tensorflow')",
   "language": "python",
   "name": "python3"
  },
  "language_info": {
   "codemirror_mode": {
    "name": "ipython",
    "version": 3
   },
   "file_extension": ".py",
   "mimetype": "text/x-python",
   "name": "python",
   "nbconvert_exporter": "python",
   "pygments_lexer": "ipython3",
   "version": "3.9.13"
  },
  "orig_nbformat": 4,
  "vscode": {
   "interpreter": {
    "hash": "ee7d7838ef53998fd22ad7449b76e48b4013ea11e59d28ee193f2cd757746339"
   }
  }
 },
 "nbformat": 4,
 "nbformat_minor": 2
}
