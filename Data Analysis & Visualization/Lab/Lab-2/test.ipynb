{
 "cells": [
  {
   "cell_type": "code",
   "execution_count": null,
   "metadata": {},
   "outputs": [],
   "source": [
    "# pip install oauth2 # this library needs to be installed in collab\n",
    "# this library is to authenticate api key fro api token\n",
    "# pip install dataset"
   ]
  },
  {
   "cell_type": "code",
   "execution_count": null,
   "metadata": {},
   "outputs": [],
   "source": [
    "\"\"\"\n",
    "Task is to check out comments on a video or product\n",
    "we need to filter out positive and negative recommendations\n",
    "From positives we need to find out the ones in favor\n",
    "We need to do some form of textual analysis to get insights and decide by ratio of negativ:positive to see if better or worse.\n",
    "\n",
    "Top sellers of a product on amazon by:\n",
    "- more comments\n",
    "- filter out fake comments (not required, a separate field)\n",
    "\n",
    "We can use these basis to see statistics of a product for recommendations\n",
    "Sentiment tells if a comment is positivee or negative whereas recommendation is based on feedback\n",
    "we can further be feature specific in al teh positve comments (price, strengths)/(what basis are we using to give this view)\n",
    "\n",
    "Comments and reviews is a huge field of NLP which is not required right now\n",
    "\"\"\""
   ]
  },
  {
   "cell_type": "code",
   "execution_count": null,
   "metadata": {},
   "outputs": [],
   "source": [
    "# Today's task is to extract comments from any youtube video"
   ]
  },
  {
   "cell_type": "code",
   "execution_count": null,
   "metadata": {},
   "outputs": [],
   "source": [
    "import selenium\n",
    "from selenium import webdriver\n",
    "import pandas as pd"
   ]
  },
  {
   "cell_type": "code",
   "execution_count": null,
   "metadata": {},
   "outputs": [],
   "source": [
    "driver=webdriver.Chrome('/Users/carbon/Downloads/chromedriver') #configuring web-driver"
   ]
  },
  {
   "cell_type": "code",
   "execution_count": null,
   "metadata": {},
   "outputs": [],
   "source": [
    "# now we need to provide a video link and extract al comments for that video in a dataframe, with header as title\n",
    "url_path='https://www.youtube.com/watch?v=PEFUuP3eWCc' # defining url"
   ]
  },
  {
   "cell_type": "code",
   "execution_count": null,
   "metadata": {},
   "outputs": [],
   "source": [
    "driver.get(url_path)"
   ]
  },
  {
   "cell_type": "code",
   "execution_count": null,
   "metadata": {},
   "outputs": [],
   "source": [
    "from selenium.webdriver.common.by import By\n",
    "comments=driver.find_elements(By.CLASS_NAME,\"style-scope ytd-item-section-renderer\")"
   ]
  },
  {
   "cell_type": "code",
   "execution_count": null,
   "metadata": {},
   "outputs": [],
   "source": [
    "# now extracting alll the comments and person that gave that comment\n",
    "for i in comments:\n",
    "    name=driver.find_elements(By.XPATH,'//*[@id=\"author-text\"]/span')\n",
    "    comment=driver.find_elements(By.XPATH,'//*[@id=\"content-text\"]')"
   ]
  },
  {
   "cell_type": "code",
   "execution_count": null,
   "metadata": {},
   "outputs": [],
   "source": [
    "import itertools\n",
    "data={i.text:j.text for (i,j) in zip(name,comment)}"
   ]
  },
  {
   "cell_type": "code",
   "execution_count": null,
   "metadata": {},
   "outputs": [],
   "source": [
    "print(data)"
   ]
  },
  {
   "cell_type": "code",
   "execution_count": null,
   "metadata": {},
   "outputs": [],
   "source": [
    "data=pd.DataFrame({'Name':name,'Comment':comment})\n",
    "data['Name'] = data['Name'].map(lambda x: x.text)\n",
    "data['Comment'] = data['Comment'].map(lambda x: x.text)"
   ]
  },
  {
   "cell_type": "code",
   "execution_count": 97,
   "metadata": {},
   "outputs": [
    {
     "data": {
      "text/html": [
       "<div>\n",
       "<style scoped>\n",
       "    .dataframe tbody tr th:only-of-type {\n",
       "        vertical-align: middle;\n",
       "    }\n",
       "\n",
       "    .dataframe tbody tr th {\n",
       "        vertical-align: top;\n",
       "    }\n",
       "\n",
       "    .dataframe thead th {\n",
       "        text-align: right;\n",
       "    }\n",
       "</style>\n",
       "<table border=\"1\" class=\"dataframe\">\n",
       "  <thead>\n",
       "    <tr style=\"text-align: right;\">\n",
       "      <th></th>\n",
       "      <th>Name</th>\n",
       "      <th>Comment</th>\n",
       "    </tr>\n",
       "  </thead>\n",
       "  <tbody>\n",
       "    <tr>\n",
       "      <th>0</th>\n",
       "      <td>Alynis W</td>\n",
       "      <td>I personally also love the Live Translate feat...</td>\n",
       "    </tr>\n",
       "    <tr>\n",
       "      <th>1</th>\n",
       "      <td>Maxim Krivov</td>\n",
       "      <td>Interesting, I found the touch volume controls...</td>\n",
       "    </tr>\n",
       "    <tr>\n",
       "      <th>2</th>\n",
       "      <td>Basim Newby</td>\n",
       "      <td>Always a great review.  In regards to the swip...</td>\n",
       "    </tr>\n",
       "    <tr>\n",
       "      <th>3</th>\n",
       "      <td>VeeTeeF</td>\n",
       "      <td>The biggest restriction for me when it comes t...</td>\n",
       "    </tr>\n",
       "    <tr>\n",
       "      <th>4</th>\n",
       "      <td>BrobaFett</td>\n",
       "      <td>I really like the design, sound and battery li...</td>\n",
       "    </tr>\n",
       "  </tbody>\n",
       "</table>\n",
       "</div>"
      ],
      "text/plain": [
       "           Name                                            Comment\n",
       "0      Alynis W  I personally also love the Live Translate feat...\n",
       "1  Maxim Krivov  Interesting, I found the touch volume controls...\n",
       "2   Basim Newby  Always a great review.  In regards to the swip...\n",
       "3       VeeTeeF  The biggest restriction for me when it comes t...\n",
       "4     BrobaFett  I really like the design, sound and battery li..."
      ]
     },
     "execution_count": 97,
     "metadata": {},
     "output_type": "execute_result"
    }
   ],
   "source": [
    "data.head()"
   ]
  },
  {
   "cell_type": "code",
   "execution_count": null,
   "metadata": {},
   "outputs": [],
   "source": [
    "data.to_csv('output.csv')"
   ]
  }
 ],
 "metadata": {
  "kernelspec": {
   "display_name": "Python 3.9.12 ('base')",
   "language": "python",
   "name": "python3"
  },
  "language_info": {
   "codemirror_mode": {
    "name": "ipython",
    "version": 3
   },
   "file_extension": ".py",
   "mimetype": "text/x-python",
   "name": "python",
   "nbconvert_exporter": "python",
   "pygments_lexer": "ipython3",
   "version": "3.9.12"
  },
  "orig_nbformat": 4,
  "vscode": {
   "interpreter": {
    "hash": "40d3a090f54c6569ab1632332b64b2c03c39dcf918b08424e98f38b5ae0af88f"
   }
  }
 },
 "nbformat": 4,
 "nbformat_minor": 2
}
