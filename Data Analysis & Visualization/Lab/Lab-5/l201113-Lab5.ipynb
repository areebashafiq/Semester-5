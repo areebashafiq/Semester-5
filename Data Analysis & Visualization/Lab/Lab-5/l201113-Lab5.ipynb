{
 "cells": [
  {
   "cell_type": "code",
   "execution_count": 109,
   "metadata": {},
   "outputs": [],
   "source": [
    "# importing libraries to use\n",
    "import pandas as pd\n",
    "import numpy as np\n",
    "from math import log"
   ]
  },
  {
   "cell_type": "code",
   "execution_count": 110,
   "metadata": {},
   "outputs": [
    {
     "data": {
      "text/html": [
       "<div>\n",
       "<style scoped>\n",
       "    .dataframe tbody tr th:only-of-type {\n",
       "        vertical-align: middle;\n",
       "    }\n",
       "\n",
       "    .dataframe tbody tr th {\n",
       "        vertical-align: top;\n",
       "    }\n",
       "\n",
       "    .dataframe thead th {\n",
       "        text-align: right;\n",
       "    }\n",
       "</style>\n",
       "<table border=\"1\" class=\"dataframe\">\n",
       "  <thead>\n",
       "    <tr style=\"text-align: right;\">\n",
       "      <th></th>\n",
       "      <th>Unnamed: 0</th>\n",
       "      <th>count</th>\n",
       "      <th>hate_speech</th>\n",
       "      <th>offensive_language</th>\n",
       "      <th>neither</th>\n",
       "      <th>class</th>\n",
       "      <th>tweet</th>\n",
       "    </tr>\n",
       "  </thead>\n",
       "  <tbody>\n",
       "    <tr>\n",
       "      <th>0</th>\n",
       "      <td>0</td>\n",
       "      <td>3</td>\n",
       "      <td>0</td>\n",
       "      <td>0</td>\n",
       "      <td>3</td>\n",
       "      <td>2</td>\n",
       "      <td>!!! RT @mayasolovely: As a woman you shouldn't...</td>\n",
       "    </tr>\n",
       "    <tr>\n",
       "      <th>1</th>\n",
       "      <td>1</td>\n",
       "      <td>3</td>\n",
       "      <td>0</td>\n",
       "      <td>3</td>\n",
       "      <td>0</td>\n",
       "      <td>1</td>\n",
       "      <td>!!!!! RT @mleew17: boy dats cold...tyga dwn ba...</td>\n",
       "    </tr>\n",
       "    <tr>\n",
       "      <th>2</th>\n",
       "      <td>2</td>\n",
       "      <td>3</td>\n",
       "      <td>0</td>\n",
       "      <td>3</td>\n",
       "      <td>0</td>\n",
       "      <td>1</td>\n",
       "      <td>!!!!!!! RT @UrKindOfBrand Dawg!!!! RT @80sbaby...</td>\n",
       "    </tr>\n",
       "    <tr>\n",
       "      <th>3</th>\n",
       "      <td>3</td>\n",
       "      <td>3</td>\n",
       "      <td>0</td>\n",
       "      <td>2</td>\n",
       "      <td>1</td>\n",
       "      <td>1</td>\n",
       "      <td>!!!!!!!!! RT @C_G_Anderson: @viva_based she lo...</td>\n",
       "    </tr>\n",
       "    <tr>\n",
       "      <th>4</th>\n",
       "      <td>4</td>\n",
       "      <td>6</td>\n",
       "      <td>0</td>\n",
       "      <td>6</td>\n",
       "      <td>0</td>\n",
       "      <td>1</td>\n",
       "      <td>!!!!!!!!!!!!! RT @ShenikaRoberts: The shit you...</td>\n",
       "    </tr>\n",
       "  </tbody>\n",
       "</table>\n",
       "</div>"
      ],
      "text/plain": [
       "   Unnamed: 0  count  hate_speech  offensive_language  neither  class  \\\n",
       "0           0      3            0                   0        3      2   \n",
       "1           1      3            0                   3        0      1   \n",
       "2           2      3            0                   3        0      1   \n",
       "3           3      3            0                   2        1      1   \n",
       "4           4      6            0                   6        0      1   \n",
       "\n",
       "                                               tweet  \n",
       "0  !!! RT @mayasolovely: As a woman you shouldn't...  \n",
       "1  !!!!! RT @mleew17: boy dats cold...tyga dwn ba...  \n",
       "2  !!!!!!! RT @UrKindOfBrand Dawg!!!! RT @80sbaby...  \n",
       "3  !!!!!!!!! RT @C_G_Anderson: @viva_based she lo...  \n",
       "4  !!!!!!!!!!!!! RT @ShenikaRoberts: The shit you...  "
      ]
     },
     "execution_count": 110,
     "metadata": {},
     "output_type": "execute_result"
    }
   ],
   "source": [
    "# reading data from csv file\n",
    "data=pd.read_csv(\"labeled_data.csv\")\n",
    "data.head()"
   ]
  },
  {
   "cell_type": "code",
   "execution_count": 111,
   "metadata": {},
   "outputs": [],
   "source": [
    "# dropping first column as index is repeated\n",
    "data=data.drop(data.columns[0],axis=1)\n",
    "data=data.head(10)"
   ]
  },
  {
   "cell_type": "code",
   "execution_count": 112,
   "metadata": {},
   "outputs": [
    {
     "data": {
      "text/html": [
       "<div>\n",
       "<style scoped>\n",
       "    .dataframe tbody tr th:only-of-type {\n",
       "        vertical-align: middle;\n",
       "    }\n",
       "\n",
       "    .dataframe tbody tr th {\n",
       "        vertical-align: top;\n",
       "    }\n",
       "\n",
       "    .dataframe thead th {\n",
       "        text-align: right;\n",
       "    }\n",
       "</style>\n",
       "<table border=\"1\" class=\"dataframe\">\n",
       "  <thead>\n",
       "    <tr style=\"text-align: right;\">\n",
       "      <th></th>\n",
       "      <th>count</th>\n",
       "      <th>hate_speech</th>\n",
       "      <th>offensive_language</th>\n",
       "      <th>neither</th>\n",
       "      <th>class</th>\n",
       "      <th>tweet</th>\n",
       "    </tr>\n",
       "  </thead>\n",
       "  <tbody>\n",
       "    <tr>\n",
       "      <th>0</th>\n",
       "      <td>3</td>\n",
       "      <td>0</td>\n",
       "      <td>0</td>\n",
       "      <td>3</td>\n",
       "      <td>2</td>\n",
       "      <td>!!! RT @mayasolovely: As a woman you shouldn't...</td>\n",
       "    </tr>\n",
       "    <tr>\n",
       "      <th>1</th>\n",
       "      <td>3</td>\n",
       "      <td>0</td>\n",
       "      <td>3</td>\n",
       "      <td>0</td>\n",
       "      <td>1</td>\n",
       "      <td>!!!!! RT @mleew17: boy dats cold...tyga dwn ba...</td>\n",
       "    </tr>\n",
       "    <tr>\n",
       "      <th>2</th>\n",
       "      <td>3</td>\n",
       "      <td>0</td>\n",
       "      <td>3</td>\n",
       "      <td>0</td>\n",
       "      <td>1</td>\n",
       "      <td>!!!!!!! RT @UrKindOfBrand Dawg!!!! RT @80sbaby...</td>\n",
       "    </tr>\n",
       "    <tr>\n",
       "      <th>3</th>\n",
       "      <td>3</td>\n",
       "      <td>0</td>\n",
       "      <td>2</td>\n",
       "      <td>1</td>\n",
       "      <td>1</td>\n",
       "      <td>!!!!!!!!! RT @C_G_Anderson: @viva_based she lo...</td>\n",
       "    </tr>\n",
       "    <tr>\n",
       "      <th>4</th>\n",
       "      <td>6</td>\n",
       "      <td>0</td>\n",
       "      <td>6</td>\n",
       "      <td>0</td>\n",
       "      <td>1</td>\n",
       "      <td>!!!!!!!!!!!!! RT @ShenikaRoberts: The shit you...</td>\n",
       "    </tr>\n",
       "    <tr>\n",
       "      <th>5</th>\n",
       "      <td>3</td>\n",
       "      <td>1</td>\n",
       "      <td>2</td>\n",
       "      <td>0</td>\n",
       "      <td>1</td>\n",
       "      <td>!!!!!!!!!!!!!!!!!!\"@T_Madison_x: The shit just...</td>\n",
       "    </tr>\n",
       "    <tr>\n",
       "      <th>6</th>\n",
       "      <td>3</td>\n",
       "      <td>0</td>\n",
       "      <td>3</td>\n",
       "      <td>0</td>\n",
       "      <td>1</td>\n",
       "      <td>!!!!!!\"@__BrighterDays: I can not just sit up ...</td>\n",
       "    </tr>\n",
       "    <tr>\n",
       "      <th>7</th>\n",
       "      <td>3</td>\n",
       "      <td>0</td>\n",
       "      <td>3</td>\n",
       "      <td>0</td>\n",
       "      <td>1</td>\n",
       "      <td>!!!!&amp;#8220;@selfiequeenbri: cause I'm tired of...</td>\n",
       "    </tr>\n",
       "    <tr>\n",
       "      <th>8</th>\n",
       "      <td>3</td>\n",
       "      <td>0</td>\n",
       "      <td>3</td>\n",
       "      <td>0</td>\n",
       "      <td>1</td>\n",
       "      <td>\" &amp;amp; you might not get ya bitch back &amp;amp; ...</td>\n",
       "    </tr>\n",
       "    <tr>\n",
       "      <th>9</th>\n",
       "      <td>3</td>\n",
       "      <td>1</td>\n",
       "      <td>2</td>\n",
       "      <td>0</td>\n",
       "      <td>1</td>\n",
       "      <td>\" @rhythmixx_ :hobbies include: fighting Maria...</td>\n",
       "    </tr>\n",
       "  </tbody>\n",
       "</table>\n",
       "</div>"
      ],
      "text/plain": [
       "   count  hate_speech  offensive_language  neither  class  \\\n",
       "0      3            0                   0        3      2   \n",
       "1      3            0                   3        0      1   \n",
       "2      3            0                   3        0      1   \n",
       "3      3            0                   2        1      1   \n",
       "4      6            0                   6        0      1   \n",
       "5      3            1                   2        0      1   \n",
       "6      3            0                   3        0      1   \n",
       "7      3            0                   3        0      1   \n",
       "8      3            0                   3        0      1   \n",
       "9      3            1                   2        0      1   \n",
       "\n",
       "                                               tweet  \n",
       "0  !!! RT @mayasolovely: As a woman you shouldn't...  \n",
       "1  !!!!! RT @mleew17: boy dats cold...tyga dwn ba...  \n",
       "2  !!!!!!! RT @UrKindOfBrand Dawg!!!! RT @80sbaby...  \n",
       "3  !!!!!!!!! RT @C_G_Anderson: @viva_based she lo...  \n",
       "4  !!!!!!!!!!!!! RT @ShenikaRoberts: The shit you...  \n",
       "5  !!!!!!!!!!!!!!!!!!\"@T_Madison_x: The shit just...  \n",
       "6  !!!!!!\"@__BrighterDays: I can not just sit up ...  \n",
       "7  !!!!&#8220;@selfiequeenbri: cause I'm tired of...  \n",
       "8  \" &amp; you might not get ya bitch back &amp; ...  \n",
       "9  \" @rhythmixx_ :hobbies include: fighting Maria...  "
      ]
     },
     "execution_count": 112,
     "metadata": {},
     "output_type": "execute_result"
    }
   ],
   "source": [
    "data"
   ]
  },
  {
   "cell_type": "code",
   "execution_count": 113,
   "metadata": {},
   "outputs": [],
   "source": [
    "# creating bag of words\n",
    "def create_BOW(temp_data):\n",
    "    BOW=[] # array to store BOW\n",
    "\n",
    "    for j in temp_data: # iterating in a row\n",
    "        temp_dict={} # creating a temporary dictionary record\n",
    "        for i in j.strip().split(): # iterating over individual words\n",
    "            if i in temp_dict: # increase counter if already present\n",
    "                temp_dict[i]=temp_dict[i]+1\n",
    "            else: # adding to dictionary if not present\n",
    "                temp_dict[i]=1\n",
    "        BOW.append(temp_dict) # adding the dictionary record to array\n",
    "    return BOW # returning array"
   ]
  },
  {
   "cell_type": "code",
   "execution_count": 114,
   "metadata": {},
   "outputs": [
    {
     "name": "stdout",
     "output_type": "stream",
     "text": [
      "{'!!!': 1, 'RT': 1, '@mayasolovely:': 1, 'As': 1, 'a': 2, 'woman': 1, 'you': 2, \"shouldn't\": 1, 'complain': 1, 'about': 1, 'cleaning': 1, 'up': 1, 'your': 1, 'house.': 1, '&amp;': 1, 'as': 1, 'man': 1, 'should': 1, 'always': 1, 'take': 1, 'the': 1, 'trash': 1, 'out...': 1}\n"
     ]
    }
   ],
   "source": [
    "BOW=create_BOW(data.tweet) # creating Bag Of Words\n",
    "print(BOW[0])"
   ]
  },
  {
   "cell_type": "code",
   "execution_count": 115,
   "metadata": {},
   "outputs": [],
   "source": [
    "# creating TF\n",
    "def create_tf(arr):\n",
    "    tf=[] # array to store TF\n",
    "    for i in range(len(arr)): # iterating over each record\n",
    "        temp={} # creating a temporary dictionary\n",
    "        for j in arr[i]: # iterating of each word\n",
    "            temp[j]=arr[i][j]/len(arr[i]) # calculating TF for each word in BOW\n",
    "        tf.append(temp) # adding to array of TF\n",
    "    return tf # returning array"
   ]
  },
  {
   "cell_type": "code",
   "execution_count": 116,
   "metadata": {},
   "outputs": [
    {
     "name": "stdout",
     "output_type": "stream",
     "text": [
      "{'!!!': 0.043478260869565216, 'RT': 0.043478260869565216, '@mayasolovely:': 0.043478260869565216, 'As': 0.043478260869565216, 'a': 0.08695652173913043, 'woman': 0.043478260869565216, 'you': 0.08695652173913043, \"shouldn't\": 0.043478260869565216, 'complain': 0.043478260869565216, 'about': 0.043478260869565216, 'cleaning': 0.043478260869565216, 'up': 0.043478260869565216, 'your': 0.043478260869565216, 'house.': 0.043478260869565216, '&amp;': 0.043478260869565216, 'as': 0.043478260869565216, 'man': 0.043478260869565216, 'should': 0.043478260869565216, 'always': 0.043478260869565216, 'take': 0.043478260869565216, 'the': 0.043478260869565216, 'trash': 0.043478260869565216, 'out...': 0.043478260869565216}\n"
     ]
    }
   ],
   "source": [
    "tf = create_tf(BOW) # creating TF from BOW\n",
    "print(tf[0])"
   ]
  },
  {
   "cell_type": "code",
   "execution_count": 117,
   "metadata": {},
   "outputs": [],
   "source": [
    "# creating vocabulary\n",
    "def create_vocab(BOW):\n",
    "    vocab={} # creating a dictionary \n",
    "    for i in BOW:\n",
    "        for j in i:\n",
    "            if j in vocab:\n",
    "                vocab[j]+=1   \n",
    "            else:\n",
    "                vocab[j]=1\n",
    "    return vocab"
   ]
  },
  {
   "cell_type": "code",
   "execution_count": 118,
   "metadata": {},
   "outputs": [
    {
     "name": "stdout",
     "output_type": "stream",
     "text": [
      "{'!!!': 1, 'RT': 5, '@mayasolovely:': 1, 'As': 1, 'a': 3, 'woman': 1, 'you': 5, \"shouldn't\": 1, 'complain': 1, 'about': 2, 'cleaning': 1, 'up': 2, 'your': 1, 'house.': 1, '&amp;': 2, 'as': 2, 'man': 1, 'should': 1, 'always': 1, 'take': 1, 'the': 3, 'trash': 1, 'out...': 1, '!!!!!': 1, '@mleew17:': 1, 'boy': 1, 'dats': 1, 'cold...tyga': 1, 'dwn': 1, 'bad': 1, 'for': 3, 'cuffin': 1, 'dat': 1, 'hoe': 1, 'in': 1, '1st': 1, 'place!!': 1, '!!!!!!!': 1, '@UrKindOfBrand': 1, 'Dawg!!!!': 1, '@80sbaby4life:': 1, 'You': 1, 'ever': 1, 'fuck': 1, 'bitch': 5, 'and': 3, 'she': 2, 'start': 1, 'to': 2, 'cry?': 1, 'be': 2, 'confused': 1, 'shit': 4, '!!!!!!!!!': 1, '@C_G_Anderson:': 1, '@viva_based': 1, 'look': 1, 'like': 1, 'tranny': 1, '!!!!!!!!!!!!!': 1, '@ShenikaRoberts:': 1, 'The': 2, 'hear': 1, 'me': 1, 'might': 2, 'true': 1, 'or': 1, 'it': 1, 'faker': 1, 'than': 1, 'who': 1, 'told': 1, 'ya': 2, '&#57361;': 1, '!!!!!!!!!!!!!!!!!!\"@T_Madison_x:': 1, 'just': 2, 'blows': 1, 'me..claim': 1, 'so': 1, 'faithful': 1, 'down': 1, 'somebody': 1, 'but': 1, 'still': 1, 'fucking': 1, 'with': 1, 'hoes!': 1, '&#128514;&#128514;&#128514;\"': 1, '!!!!!!\"@__BrighterDays:': 1, 'I': 1, 'can': 1, 'not': 2, 'sit': 1, 'HATE': 1, 'on': 1, 'another': 1, '..': 1, 'got': 1, 'too': 1, 'much': 1, 'going': 1, 'on!\"': 1, '!!!!&#8220;@selfiequeenbri:': 1, 'cause': 1, \"I'm\": 1, 'tired': 1, 'of': 1, 'big': 1, 'bitches': 1, 'coming': 1, 'us': 1, 'skinny': 1, 'girls!!&#8221;': 1, '\"': 2, 'get': 1, 'back': 1, 'thats': 1, 'that': 1, '@rhythmixx_': 1, ':hobbies': 1, 'include:': 1, 'fighting': 1, 'Mariam\"': 1}\n"
     ]
    }
   ],
   "source": [
    "vocab=create_vocab(BOW)\n",
    "print(vocab)"
   ]
  },
  {
   "cell_type": "code",
   "execution_count": 119,
   "metadata": {},
   "outputs": [],
   "source": [
    "# creating IDF of entire vocabulary\n",
    "def create_IDF(BOW,vocab):\n",
    "    # iterate for each word in all documents\n",
    "    IDF={} # creating a temporary dictionary\n",
    "    length=len(BOW) # calculating number of documents\n",
    "    for i in vocab.keys(): # iterating for each word in vocabulary\n",
    "        temp=0 # creating a variable for storing count of document\n",
    "        for j in range(length): # iterating for each record\n",
    "            if i in BOW[j].keys(): # checking if word is present in document\n",
    "                temp+=1 # incrementing document count\n",
    "        IDF[i]=1+log(length/temp) # storing IDF for a given word\n",
    "    return IDF # returning dictionary of IDF values"
   ]
  },
  {
   "cell_type": "code",
   "execution_count": 120,
   "metadata": {},
   "outputs": [],
   "source": [
    "IDF=create_IDF(BOW,vocab)"
   ]
  },
  {
   "cell_type": "code",
   "execution_count": 121,
   "metadata": {},
   "outputs": [],
   "source": [
    "# calculating tf-idf\n",
    "def create_TFIDF(TF,IDF):\n",
    "    tfidf=[] # creating a temporary array\n",
    "    for i in range(len(TF)): # iterating for each record\n",
    "        temp={} # a temporary dictionary for storing tfidf\n",
    "        for j in TF[i].keys(): # for each key in record (word)\n",
    "            temp[j]=TF[i][j]*IDF[j] # calculating tf-idf for each word in tf\n",
    "        tfidf.append(temp) # adding a record to array\n",
    "    return tfidf"
   ]
  },
  {
   "cell_type": "code",
   "execution_count": 122,
   "metadata": {},
   "outputs": [],
   "source": [
    "TF_IDF=create_TFIDF(tf,IDF)"
   ]
  },
  {
   "cell_type": "code",
   "execution_count": 123,
   "metadata": {},
   "outputs": [
    {
     "data": {
      "text/plain": [
       "[{'!!!': 0.14359065621713243,\n",
       "  'RT': 0.07361509480695415,\n",
       "  '@mayasolovely:': 0.14359065621713243,\n",
       "  'As': 0.14359065621713243,\n",
       "  'a': 0.1916498090718205,\n",
       "  'woman': 0.14359065621713243,\n",
       "  'you': 0.1472301896139083,\n",
       "  \"shouldn't\": 0.14359065621713243,\n",
       "  'complain': 0.14359065621713243,\n",
       "  'about': 0.1134538222797435,\n",
       "  'cleaning': 0.14359065621713243,\n",
       "  'up': 0.1134538222797435,\n",
       "  'your': 0.14359065621713243,\n",
       "  'house.': 0.14359065621713243,\n",
       "  '&amp;': 0.1134538222797435,\n",
       "  'as': 0.1134538222797435,\n",
       "  'man': 0.14359065621713243,\n",
       "  'should': 0.14359065621713243,\n",
       "  'always': 0.14359065621713243,\n",
       "  'take': 0.14359065621713243,\n",
       "  'the': 0.09582490453591025,\n",
       "  'trash': 0.14359065621713243,\n",
       "  'out...': 0.14359065621713243},\n",
       " {'!!!!!': 0.20641156831212787,\n",
       "  'RT': 0.10582169878499659,\n",
       "  '@mleew17:': 0.20641156831212787,\n",
       "  'boy': 0.20641156831212787,\n",
       "  'dats': 0.20641156831212787,\n",
       "  'cold...tyga': 0.20641156831212787,\n",
       "  'dwn': 0.20641156831212787,\n",
       "  'bad': 0.20641156831212787,\n",
       "  'for': 0.137748300270371,\n",
       "  'cuffin': 0.20641156831212787,\n",
       "  'dat': 0.20641156831212787,\n",
       "  'hoe': 0.20641156831212787,\n",
       "  'in': 0.20641156831212787,\n",
       "  'the': 0.137748300270371,\n",
       "  '1st': 0.20641156831212787,\n",
       "  'place!!': 0.20641156831212787},\n",
       " {'!!!!!!!': 0.1738202680523182,\n",
       "  'RT': 0.17822601900631002,\n",
       "  '@UrKindOfBrand': 0.1738202680523182,\n",
       "  'Dawg!!!!': 0.1738202680523182,\n",
       "  '@80sbaby4life:': 0.1738202680523182,\n",
       "  'You': 0.3476405361046364,\n",
       "  'ever': 0.1738202680523182,\n",
       "  'fuck': 0.1738202680523182,\n",
       "  'a': 0.11599856864873347,\n",
       "  'bitch': 0.08911300950315501,\n",
       "  'and': 0.11599856864873347,\n",
       "  'she': 0.13733883749653159,\n",
       "  'start': 0.1738202680523182,\n",
       "  'to': 0.13733883749653159,\n",
       "  'cry?': 0.1738202680523182,\n",
       "  'be': 0.13733883749653159,\n",
       "  'confused': 0.1738202680523182,\n",
       "  'as': 0.13733883749653159,\n",
       "  'shit': 0.100857406940745},\n",
       " {'!!!!!!!!!': 0.36695389922156063,\n",
       "  'RT': 0.1881274645066606,\n",
       "  '@C_G_Anderson:': 0.36695389922156063,\n",
       "  '@viva_based': 0.36695389922156063,\n",
       "  'she': 0.28993754582601117,\n",
       "  'look': 0.36695389922156063,\n",
       "  'like': 0.36695389922156063,\n",
       "  'a': 0.24488586714732619,\n",
       "  'tranny': 0.36695389922156063},\n",
       " {'!!!!!!!!!!!!!': 0.14359065621713243,\n",
       "  'RT': 0.07361509480695415,\n",
       "  '@ShenikaRoberts:': 0.14359065621713243,\n",
       "  'The': 0.1134538222797435,\n",
       "  'shit': 0.08331698834235457,\n",
       "  'you': 0.07361509480695415,\n",
       "  'hear': 0.14359065621713243,\n",
       "  'about': 0.1134538222797435,\n",
       "  'me': 0.14359065621713243,\n",
       "  'might': 0.226907644559487,\n",
       "  'be': 0.226907644559487,\n",
       "  'true': 0.14359065621713243,\n",
       "  'or': 0.14359065621713243,\n",
       "  'it': 0.28718131243426487,\n",
       "  'faker': 0.14359065621713243,\n",
       "  'than': 0.14359065621713243,\n",
       "  'the': 0.09582490453591025,\n",
       "  'bitch': 0.07361509480695415,\n",
       "  'who': 0.14359065621713243,\n",
       "  'told': 0.14359065621713243,\n",
       "  'to': 0.1134538222797435,\n",
       "  'ya': 0.1134538222797435,\n",
       "  '&#57361;': 0.14359065621713243},\n",
       " {'!!!!!!!!!!!!!!!!!!\"@T_Madison_x:': 0.1738202680523182,\n",
       "  'The': 0.13733883749653159,\n",
       "  'shit': 0.100857406940745,\n",
       "  'just': 0.13733883749653159,\n",
       "  'blows': 0.1738202680523182,\n",
       "  'me..claim': 0.1738202680523182,\n",
       "  'you': 0.08911300950315501,\n",
       "  'so': 0.1738202680523182,\n",
       "  'faithful': 0.1738202680523182,\n",
       "  'and': 0.11599856864873347,\n",
       "  'down': 0.1738202680523182,\n",
       "  'for': 0.11599856864873347,\n",
       "  'somebody': 0.1738202680523182,\n",
       "  'but': 0.1738202680523182,\n",
       "  'still': 0.1738202680523182,\n",
       "  'fucking': 0.1738202680523182,\n",
       "  'with': 0.1738202680523182,\n",
       "  'hoes!': 0.1738202680523182,\n",
       "  '&#128514;&#128514;&#128514;\"': 0.1738202680523182},\n",
       " {'!!!!!!\"@__BrighterDays:': 0.1738202680523182,\n",
       "  'I': 0.3476405361046364,\n",
       "  'can': 0.1738202680523182,\n",
       "  'not': 0.13733883749653159,\n",
       "  'just': 0.13733883749653159,\n",
       "  'sit': 0.1738202680523182,\n",
       "  'up': 0.13733883749653159,\n",
       "  'and': 0.11599856864873347,\n",
       "  'HATE': 0.1738202680523182,\n",
       "  'on': 0.1738202680523182,\n",
       "  'another': 0.1738202680523182,\n",
       "  'bitch': 0.08911300950315501,\n",
       "  '..': 0.1738202680523182,\n",
       "  'got': 0.1738202680523182,\n",
       "  'too': 0.1738202680523182,\n",
       "  'much': 0.1738202680523182,\n",
       "  'shit': 0.100857406940745,\n",
       "  'going': 0.1738202680523182,\n",
       "  'on!\"': 0.1738202680523182},\n",
       " {'!!!!&#8220;@selfiequeenbri:': 0.2540450071533882,\n",
       "  'cause': 0.2540450071533882,\n",
       "  \"I'm\": 0.2540450071533882,\n",
       "  'tired': 0.2540450071533882,\n",
       "  'of': 0.2540450071533882,\n",
       "  'you': 0.1302420908123035,\n",
       "  'big': 0.2540450071533882,\n",
       "  'bitches': 0.2540450071533882,\n",
       "  'coming': 0.2540450071533882,\n",
       "  'for': 0.16953636956353355,\n",
       "  'us': 0.2540450071533882,\n",
       "  'skinny': 0.2540450071533882,\n",
       "  'girls!!&#8221;': 0.2540450071533882},\n",
       " {'\"': 0.4744432568062001,\n",
       "  '&amp;': 0.4744432568062001,\n",
       "  'you': 0.15392247095999503,\n",
       "  'might': 0.23722162840310004,\n",
       "  'not': 0.23722162840310004,\n",
       "  'get': 0.3002350084540042,\n",
       "  'ya': 0.23722162840310004,\n",
       "  'bitch': 0.15392247095999503,\n",
       "  'back': 0.3002350084540042,\n",
       "  'thats': 0.3002350084540042,\n",
       "  'that': 0.3002350084540042},\n",
       " {'\"': 0.3727768446334429,\n",
       "  '@rhythmixx_': 0.4717978704277208,\n",
       "  ':hobbies': 0.4717978704277208,\n",
       "  'include:': 0.4717978704277208,\n",
       "  'fighting': 0.4717978704277208,\n",
       "  'Mariam\"': 0.4717978704277208,\n",
       "  'bitch': 0.24187816865142076}]"
      ]
     },
     "execution_count": 123,
     "metadata": {},
     "output_type": "execute_result"
    }
   ],
   "source": [
    "TF_IDF"
   ]
  },
  {
   "cell_type": "markdown",
   "metadata": {},
   "source": [
    "### Now cleaning data and calculating BOW/TF-IDF"
   ]
  },
  {
   "cell_type": "code",
   "execution_count": 124,
   "metadata": {},
   "outputs": [
    {
     "data": {
      "text/plain": [
       "0    !!! RT @mayasolovely: As a woman you shouldn't...\n",
       "1    !!!!! RT @mleew17: boy dats cold...tyga dwn ba...\n",
       "2    !!!!!!! RT @UrKindOfBrand Dawg!!!! RT @80sbaby...\n",
       "3    !!!!!!!!! RT @C_G_Anderson: @viva_based she lo...\n",
       "4    !!!!!!!!!!!!! RT @ShenikaRoberts: The shit you...\n",
       "5    !!!!!!!!!!!!!!!!!!\"@T_Madison_x: The shit just...\n",
       "6    !!!!!!\"@__BrighterDays: I can not just sit up ...\n",
       "7    !!!!&#8220;@selfiequeenbri: cause I'm tired of...\n",
       "8    \" &amp; you might not get ya bitch back &amp; ...\n",
       "9    \" @rhythmixx_ :hobbies include: fighting Maria...\n",
       "Name: tweet, dtype: object"
      ]
     },
     "execution_count": 124,
     "metadata": {},
     "output_type": "execute_result"
    }
   ],
   "source": [
    "new_data=data.tweet\n",
    "new_data"
   ]
  },
  {
   "cell_type": "code",
   "execution_count": 125,
   "metadata": {},
   "outputs": [
    {
     "name": "stdout",
     "output_type": "stream",
     "text": [
      "0     RT mayasolovely As a woman you shouldnt compl...\n",
      "1     RT mleew17 boy dats coldtyga dwn bad for cuff...\n",
      "2     RT UrKindOfBrand Dawg RT 80sbaby4life You eve...\n",
      "3       RT CGAnderson vivabased she look like a tranny\n",
      "4     RT ShenikaRoberts The shit you hear about me ...\n",
      "5    TMadisonx The shit just blows meclaim you so f...\n",
      "6    BrighterDays I can not just sit up and HATE on...\n",
      "7    8220selfiequeenbri cause Im tired of you big b...\n",
      "8     amp you might not get ya bitch back amp thats...\n",
      "9     rhythmixx hobbies include fighting Mariam\\n\\n...\n",
      "Name: tweet, dtype: object\n"
     ]
    },
    {
     "name": "stderr",
     "output_type": "stream",
     "text": [
      "/var/folders/cr/hc4rlj593_13pvcn96cdsn6h0000gn/T/ipykernel_11366/641318486.py:10: SettingWithCopyWarning: \n",
      "A value is trying to be set on a copy of a slice from a DataFrame\n",
      "\n",
      "See the caveats in the documentation: https://pandas.pydata.org/pandas-docs/stable/user_guide/indexing.html#returning-a-view-versus-a-copy\n",
      "  new_data[i]=test_str\n"
     ]
    }
   ],
   "source": [
    "# removing punctuations\n",
    "\n",
    "punc = '''!()-[]{};:'\"\\,<>./?@#$%^&*_~'''\n",
    "\n",
    "for i in range(len(new_data)):\n",
    "    test_str=new_data[i]\n",
    "    for ele in test_str:\n",
    "        if ele in punc:\n",
    "            test_str = test_str.replace(ele, \"\")\n",
    "    new_data[i]=test_str\n",
    "\n",
    "print(new_data)"
   ]
  },
  {
   "cell_type": "code",
   "execution_count": 126,
   "metadata": {},
   "outputs": [
    {
     "name": "stderr",
     "output_type": "stream",
     "text": [
      "/var/folders/cr/hc4rlj593_13pvcn96cdsn6h0000gn/T/ipykernel_11366/2988627063.py:25: SettingWithCopyWarning: \n",
      "A value is trying to be set on a copy of a slice from a DataFrame\n",
      "\n",
      "See the caveats in the documentation: https://pandas.pydata.org/pandas-docs/stable/user_guide/indexing.html#returning-a-view-versus-a-copy\n",
      "  new_data[i]=temp.strip()\n"
     ]
    }
   ],
   "source": [
    "# removong punctutations from tweets\n",
    "from nltk.corpus import stopwords\n",
    "from nltk.stem import PorterStemmer\n",
    "from nltk.tokenize import word_tokenize\n",
    "from nltk.stem import WordNetLemmatizer\n",
    "\n",
    "ps = PorterStemmer()\n",
    "lemmatizer = WordNetLemmatizer()\n",
    "\n",
    "for i in range(len(new_data)):\n",
    "    example_sent = new_data[i].strip()\n",
    "    stop_words = set(stopwords.words('english'))\n",
    "    word_tokens = word_tokenize(example_sent)\n",
    "    filtered_sentence = [w for w in word_tokens if not w.lower() in stop_words]\n",
    "    filtered_sentence = []\n",
    "    for w in word_tokens:\n",
    "        if w not in stop_words:\n",
    "            filtered_sentence.append(w)\n",
    "\n",
    "    # stemming, lemmatizing and combining into a sentence\n",
    "    temp=''\n",
    "    for j in filtered_sentence:\n",
    "        temp+=lemmatizer.lemmatize(ps.stem(j))\n",
    "        temp+=' '\n",
    "    new_data[i]=temp.strip()"
   ]
  },
  {
   "cell_type": "code",
   "execution_count": 127,
   "metadata": {},
   "outputs": [
    {
     "data": {
      "text/plain": [
       "0    rt mayasolov a woman shouldnt complain clean h...\n",
       "1    rt mleew17 boy dat coldtyga dwn bad cuffin dat...\n",
       "2    rt urkindofbrand dawg rt 80sbaby4lif you ever ...\n",
       "3               rt cganderson vivabas look like tranni\n",
       "4    rt shenikarobert the shit hear might true migh...\n",
       "5    tmadisonx the shit blow meclaim faith somebodi...\n",
       "6    brighterday i sit hate anoth bitch i got much ...\n",
       "7    8220selfiequeenbri caus im tire big bitch come...\n",
       "8                 amp might get ya bitch back amp that\n",
       "9            rhythmixx hobbi includ fight mariam bitch\n",
       "Name: tweet, dtype: object"
      ]
     },
     "execution_count": 127,
     "metadata": {},
     "output_type": "execute_result"
    }
   ],
   "source": [
    "new_data"
   ]
  },
  {
   "cell_type": "code",
   "execution_count": 128,
   "metadata": {},
   "outputs": [
    {
     "name": "stdout",
     "output_type": "stream",
     "text": [
      "[{'rt': 1, 'mayasolov': 1, 'a': 1, 'woman': 1, 'shouldnt': 1, 'complain': 1, 'clean': 1, 'hous': 1, 'amp': 1, 'man': 1, 'alway': 1, 'take': 1, 'trash': 1}, {'rt': 1, 'mleew17': 1, 'boy': 1, 'dat': 2, 'coldtyga': 1, 'dwn': 1, 'bad': 1, 'cuffin': 1, 'hoe': 1, '1st': 1, 'place': 1}, {'rt': 2, 'urkindofbrand': 1, 'dawg': 1, '80sbaby4lif': 1, 'you': 2, 'ever': 1, 'fuck': 1, 'bitch': 1, 'start': 1, 'cri': 1, 'confus': 1, 'shit': 1}, {'rt': 1, 'cganderson': 1, 'vivabas': 1, 'look': 1, 'like': 1, 'tranni': 1}, {'rt': 1, 'shenikarobert': 1, 'the': 1, 'shit': 1, 'hear': 1, 'might': 2, 'true': 1, 'faker': 1, 'bitch': 1, 'told': 1, 'ya': 1, '57361': 1}, {'tmadisonx': 1, 'the': 1, 'shit': 1, 'blow': 1, 'meclaim': 1, 'faith': 1, 'somebodi': 1, 'still': 1, 'fuck': 1, 'hoe': 1, '128514128514128514': 1}, {'brighterday': 1, 'i': 2, 'sit': 1, 'hate': 1, 'anoth': 1, 'bitch': 1, 'got': 1, 'much': 1, 'shit': 1, 'go': 1}, {'8220selfiequeenbri': 1, 'caus': 1, 'im': 1, 'tire': 1, 'big': 1, 'bitch': 1, 'come': 1, 'u': 1, 'skinni': 1, 'girls8221': 1}, {'amp': 2, 'might': 1, 'get': 1, 'ya': 1, 'bitch': 1, 'back': 1, 'that': 1}, {'rhythmixx': 1, 'hobbi': 1, 'includ': 1, 'fight': 1, 'mariam': 1, 'bitch': 1}]\n"
     ]
    }
   ],
   "source": [
    "BOW=create_BOW(new_data)\n",
    "print(BOW)"
   ]
  },
  {
   "cell_type": "code",
   "execution_count": 129,
   "metadata": {},
   "outputs": [
    {
     "name": "stdout",
     "output_type": "stream",
     "text": [
      "[{'rt': 0.07692307692307693, 'mayasolov': 0.07692307692307693, 'a': 0.07692307692307693, 'woman': 0.07692307692307693, 'shouldnt': 0.07692307692307693, 'complain': 0.07692307692307693, 'clean': 0.07692307692307693, 'hous': 0.07692307692307693, 'amp': 0.07692307692307693, 'man': 0.07692307692307693, 'alway': 0.07692307692307693, 'take': 0.07692307692307693, 'trash': 0.07692307692307693}, {'rt': 0.09090909090909091, 'mleew17': 0.09090909090909091, 'boy': 0.09090909090909091, 'dat': 0.18181818181818182, 'coldtyga': 0.09090909090909091, 'dwn': 0.09090909090909091, 'bad': 0.09090909090909091, 'cuffin': 0.09090909090909091, 'hoe': 0.09090909090909091, '1st': 0.09090909090909091, 'place': 0.09090909090909091}, {'rt': 0.16666666666666666, 'urkindofbrand': 0.08333333333333333, 'dawg': 0.08333333333333333, '80sbaby4lif': 0.08333333333333333, 'you': 0.16666666666666666, 'ever': 0.08333333333333333, 'fuck': 0.08333333333333333, 'bitch': 0.08333333333333333, 'start': 0.08333333333333333, 'cri': 0.08333333333333333, 'confus': 0.08333333333333333, 'shit': 0.08333333333333333}, {'rt': 0.16666666666666666, 'cganderson': 0.16666666666666666, 'vivabas': 0.16666666666666666, 'look': 0.16666666666666666, 'like': 0.16666666666666666, 'tranni': 0.16666666666666666}, {'rt': 0.08333333333333333, 'shenikarobert': 0.08333333333333333, 'the': 0.08333333333333333, 'shit': 0.08333333333333333, 'hear': 0.08333333333333333, 'might': 0.16666666666666666, 'true': 0.08333333333333333, 'faker': 0.08333333333333333, 'bitch': 0.08333333333333333, 'told': 0.08333333333333333, 'ya': 0.08333333333333333, '57361': 0.08333333333333333}, {'tmadisonx': 0.09090909090909091, 'the': 0.09090909090909091, 'shit': 0.09090909090909091, 'blow': 0.09090909090909091, 'meclaim': 0.09090909090909091, 'faith': 0.09090909090909091, 'somebodi': 0.09090909090909091, 'still': 0.09090909090909091, 'fuck': 0.09090909090909091, 'hoe': 0.09090909090909091, '128514128514128514': 0.09090909090909091}, {'brighterday': 0.1, 'i': 0.2, 'sit': 0.1, 'hate': 0.1, 'anoth': 0.1, 'bitch': 0.1, 'got': 0.1, 'much': 0.1, 'shit': 0.1, 'go': 0.1}, {'8220selfiequeenbri': 0.1, 'caus': 0.1, 'im': 0.1, 'tire': 0.1, 'big': 0.1, 'bitch': 0.1, 'come': 0.1, 'u': 0.1, 'skinni': 0.1, 'girls8221': 0.1}, {'amp': 0.2857142857142857, 'might': 0.14285714285714285, 'get': 0.14285714285714285, 'ya': 0.14285714285714285, 'bitch': 0.14285714285714285, 'back': 0.14285714285714285, 'that': 0.14285714285714285}, {'rhythmixx': 0.16666666666666666, 'hobbi': 0.16666666666666666, 'includ': 0.16666666666666666, 'fight': 0.16666666666666666, 'mariam': 0.16666666666666666, 'bitch': 0.16666666666666666}]\n"
     ]
    }
   ],
   "source": [
    "tf = create_tf(BOW)\n",
    "print(tf)"
   ]
  },
  {
   "cell_type": "code",
   "execution_count": 130,
   "metadata": {},
   "outputs": [
    {
     "name": "stdout",
     "output_type": "stream",
     "text": [
      "{'rt': 5, 'mayasolov': 1, 'a': 1, 'woman': 1, 'shouldnt': 1, 'complain': 1, 'clean': 1, 'hous': 1, 'amp': 2, 'man': 1, 'alway': 1, 'take': 1, 'trash': 1, 'mleew17': 1, 'boy': 1, 'dat': 1, 'coldtyga': 1, 'dwn': 1, 'bad': 1, 'cuffin': 1, 'hoe': 2, '1st': 1, 'place': 1, 'urkindofbrand': 1, 'dawg': 1, '80sbaby4lif': 1, 'you': 1, 'ever': 1, 'fuck': 2, 'bitch': 6, 'start': 1, 'cri': 1, 'confus': 1, 'shit': 4, 'cganderson': 1, 'vivabas': 1, 'look': 1, 'like': 1, 'tranni': 1, 'shenikarobert': 1, 'the': 2, 'hear': 1, 'might': 2, 'true': 1, 'faker': 1, 'told': 1, 'ya': 2, '57361': 1, 'tmadisonx': 1, 'blow': 1, 'meclaim': 1, 'faith': 1, 'somebodi': 1, 'still': 1, '128514128514128514': 1, 'brighterday': 1, 'i': 1, 'sit': 1, 'hate': 1, 'anoth': 1, 'got': 1, 'much': 1, 'go': 1, '8220selfiequeenbri': 1, 'caus': 1, 'im': 1, 'tire': 1, 'big': 1, 'come': 1, 'u': 1, 'skinni': 1, 'girls8221': 1, 'get': 1, 'back': 1, 'that': 1, 'rhythmixx': 1, 'hobbi': 1, 'includ': 1, 'fight': 1, 'mariam': 1}\n"
     ]
    }
   ],
   "source": [
    "vocab=create_vocab(BOW)\n",
    "print(vocab)"
   ]
  },
  {
   "cell_type": "code",
   "execution_count": 131,
   "metadata": {},
   "outputs": [
    {
     "data": {
      "text/plain": [
       "[{'rt': 0.1302420908123035,\n",
       "  'mayasolov': 0.2540450071533882,\n",
       "  'a': 0.2540450071533882,\n",
       "  'woman': 0.2540450071533882,\n",
       "  'shouldnt': 0.2540450071533882,\n",
       "  'complain': 0.2540450071533882,\n",
       "  'clean': 0.2540450071533882,\n",
       "  'hous': 0.2540450071533882,\n",
       "  'amp': 0.2007259932641616,\n",
       "  'man': 0.2540450071533882,\n",
       "  'alway': 0.2540450071533882,\n",
       "  'take': 0.2540450071533882,\n",
       "  'trash': 0.2540450071533882},\n",
       " {'rt': 0.15392247095999503,\n",
       "  'mleew17': 0.3002350084540042,\n",
       "  'boy': 0.3002350084540042,\n",
       "  'dat': 0.6004700169080084,\n",
       "  'coldtyga': 0.3002350084540042,\n",
       "  'dwn': 0.3002350084540042,\n",
       "  'bad': 0.3002350084540042,\n",
       "  'cuffin': 0.3002350084540042,\n",
       "  'hoe': 0.23722162840310004,\n",
       "  '1st': 0.3002350084540042,\n",
       "  'place': 0.3002350084540042},\n",
       " {'rt': 0.2821911967599909,\n",
       "  'urkindofbrand': 0.2752154244161705,\n",
       "  'dawg': 0.2752154244161705,\n",
       "  '80sbaby4lif': 0.2752154244161705,\n",
       "  'you': 0.550430848832341,\n",
       "  'ever': 0.2752154244161705,\n",
       "  'fuck': 0.21745315936950838,\n",
       "  'bitch': 0.12590213531383254,\n",
       "  'start': 0.2752154244161705,\n",
       "  'cri': 0.2752154244161705,\n",
       "  'confus': 0.2752154244161705,\n",
       "  'shit': 0.15969089432284625},\n",
       " {'rt': 0.2821911967599909,\n",
       "  'cganderson': 0.550430848832341,\n",
       "  'vivabas': 0.550430848832341,\n",
       "  'look': 0.550430848832341,\n",
       "  'like': 0.550430848832341,\n",
       "  'tranni': 0.550430848832341},\n",
       " {'rt': 0.14109559837999544,\n",
       "  'shenikarobert': 0.2752154244161705,\n",
       "  'the': 0.21745315936950838,\n",
       "  'shit': 0.15969089432284625,\n",
       "  'hear': 0.2752154244161705,\n",
       "  'might': 0.43490631873901675,\n",
       "  'true': 0.2752154244161705,\n",
       "  'faker': 0.2752154244161705,\n",
       "  'bitch': 0.12590213531383254,\n",
       "  'told': 0.2752154244161705,\n",
       "  'ya': 0.21745315936950838,\n",
       "  '57361': 0.2752154244161705},\n",
       " {'tmadisonx': 0.3002350084540042,\n",
       "  'the': 0.23722162840310004,\n",
       "  'shit': 0.17420824835219592,\n",
       "  'blow': 0.3002350084540042,\n",
       "  'meclaim': 0.3002350084540042,\n",
       "  'faith': 0.3002350084540042,\n",
       "  'somebodi': 0.3002350084540042,\n",
       "  'still': 0.3002350084540042,\n",
       "  'fuck': 0.23722162840310004,\n",
       "  'hoe': 0.23722162840310004,\n",
       "  '128514128514128514': 0.3002350084540042},\n",
       " {'brighterday': 0.3302585092994046,\n",
       "  'i': 0.6605170185988092,\n",
       "  'sit': 0.3302585092994046,\n",
       "  'hate': 0.3302585092994046,\n",
       "  'anoth': 0.3302585092994046,\n",
       "  'bitch': 0.1510825623765991,\n",
       "  'got': 0.3302585092994046,\n",
       "  'much': 0.3302585092994046,\n",
       "  'shit': 0.1916290731874155,\n",
       "  'go': 0.3302585092994046},\n",
       " {'8220selfiequeenbri': 0.3302585092994046,\n",
       "  'caus': 0.3302585092994046,\n",
       "  'im': 0.3302585092994046,\n",
       "  'tire': 0.3302585092994046,\n",
       "  'big': 0.3302585092994046,\n",
       "  'bitch': 0.1510825623765991,\n",
       "  'come': 0.3302585092994046,\n",
       "  'u': 0.3302585092994046,\n",
       "  'skinni': 0.3302585092994046,\n",
       "  'girls8221': 0.3302585092994046},\n",
       " {'amp': 0.7455536892668858,\n",
       "  'might': 0.3727768446334429,\n",
       "  'get': 0.4717978704277208,\n",
       "  'ya': 0.3727768446334429,\n",
       "  'bitch': 0.2158322319665701,\n",
       "  'back': 0.4717978704277208,\n",
       "  'that': 0.4717978704277208},\n",
       " {'rhythmixx': 0.550430848832341,\n",
       "  'hobbi': 0.550430848832341,\n",
       "  'includ': 0.550430848832341,\n",
       "  'fight': 0.550430848832341,\n",
       "  'mariam': 0.550430848832341,\n",
       "  'bitch': 0.2518042706276651}]"
      ]
     },
     "execution_count": 131,
     "metadata": {},
     "output_type": "execute_result"
    }
   ],
   "source": [
    "IDF=create_IDF(BOW,vocab)\n",
    "TF_IDF=create_TFIDF(tf,IDF)\n",
    "TF_IDF"
   ]
  }
 ],
 "metadata": {
  "kernelspec": {
   "display_name": "Python 3.9.12 ('base')",
   "language": "python",
   "name": "python3"
  },
  "language_info": {
   "codemirror_mode": {
    "name": "ipython",
    "version": 3
   },
   "file_extension": ".py",
   "mimetype": "text/x-python",
   "name": "python",
   "nbconvert_exporter": "python",
   "pygments_lexer": "ipython3",
   "version": "3.9.12"
  },
  "orig_nbformat": 4,
  "vscode": {
   "interpreter": {
    "hash": "40d3a090f54c6569ab1632332b64b2c03c39dcf918b08424e98f38b5ae0af88f"
   }
  }
 },
 "nbformat": 4,
 "nbformat_minor": 2
}
