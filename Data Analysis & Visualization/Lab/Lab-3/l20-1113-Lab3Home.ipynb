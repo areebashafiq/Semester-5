{
 "cells": [
  {
   "cell_type": "markdown",
   "metadata": {},
   "source": [
    "Abdul Saboor (20L-1113 | BDS-5A1)\n",
    "\n",
    "This workbook contains an implementation of a linear regression model which is applied on a cleaned dataset\n",
    "along with the original dataset that was distoted to create dirty data. All codeblocks have a comment block explaining what that code is doing."
   ]
  },
  {
   "cell_type": "code",
   "execution_count": 16,
   "metadata": {},
   "outputs": [],
   "source": [
    "\"\"\"\n",
    "Importing modules to use\n",
    "\"\"\"\n",
    "\n",
    "import pandas as pd\n",
    "import numpy as np\n",
    "from sklearn.model_selection import train_test_split\n",
    "from sklearn import linear_model\n",
    "from sklearn.metrics import accuracy_score,mean_squared_error, r2_score"
   ]
  },
  {
   "cell_type": "markdown",
   "metadata": {},
   "source": [
    "# Working on Cleaned Data"
   ]
  },
  {
   "cell_type": "markdown",
   "metadata": {},
   "source": [
    "### Reading and Transforming Data"
   ]
  },
  {
   "cell_type": "code",
   "execution_count": 17,
   "metadata": {},
   "outputs": [
    {
     "data": {
      "text/html": [
       "<div>\n",
       "<style scoped>\n",
       "    .dataframe tbody tr th:only-of-type {\n",
       "        vertical-align: middle;\n",
       "    }\n",
       "\n",
       "    .dataframe tbody tr th {\n",
       "        vertical-align: top;\n",
       "    }\n",
       "\n",
       "    .dataframe thead th {\n",
       "        text-align: right;\n",
       "    }\n",
       "</style>\n",
       "<table border=\"1\" class=\"dataframe\">\n",
       "  <thead>\n",
       "    <tr style=\"text-align: right;\">\n",
       "      <th></th>\n",
       "      <th>Unnamed: 0</th>\n",
       "      <th>sepal length</th>\n",
       "      <th>sepal width</th>\n",
       "      <th>petal length</th>\n",
       "      <th>petal width</th>\n",
       "      <th>target</th>\n",
       "    </tr>\n",
       "  </thead>\n",
       "  <tbody>\n",
       "    <tr>\n",
       "      <th>0</th>\n",
       "      <td>0</td>\n",
       "      <td>10.2</td>\n",
       "      <td>7.0</td>\n",
       "      <td>5.6</td>\n",
       "      <td>0.8</td>\n",
       "      <td>Iris-setosa</td>\n",
       "    </tr>\n",
       "    <tr>\n",
       "      <th>1</th>\n",
       "      <td>1</td>\n",
       "      <td>9.8</td>\n",
       "      <td>6.0</td>\n",
       "      <td>5.6</td>\n",
       "      <td>0.8</td>\n",
       "      <td>Iris-setosa</td>\n",
       "    </tr>\n",
       "    <tr>\n",
       "      <th>2</th>\n",
       "      <td>2</td>\n",
       "      <td>9.4</td>\n",
       "      <td>6.4</td>\n",
       "      <td>5.2</td>\n",
       "      <td>0.8</td>\n",
       "      <td>Iris-setosa</td>\n",
       "    </tr>\n",
       "    <tr>\n",
       "      <th>3</th>\n",
       "      <td>3</td>\n",
       "      <td>9.2</td>\n",
       "      <td>6.2</td>\n",
       "      <td>6.0</td>\n",
       "      <td>0.8</td>\n",
       "      <td>Iris-setosa</td>\n",
       "    </tr>\n",
       "    <tr>\n",
       "      <th>4</th>\n",
       "      <td>4</td>\n",
       "      <td>10.0</td>\n",
       "      <td>7.2</td>\n",
       "      <td>5.6</td>\n",
       "      <td>0.8</td>\n",
       "      <td>Iris-setosa</td>\n",
       "    </tr>\n",
       "  </tbody>\n",
       "</table>\n",
       "</div>"
      ],
      "text/plain": [
       "   Unnamed: 0  sepal length  sepal width  petal length  petal width  \\\n",
       "0           0          10.2          7.0           5.6          0.8   \n",
       "1           1           9.8          6.0           5.6          0.8   \n",
       "2           2           9.4          6.4           5.2          0.8   \n",
       "3           3           9.2          6.2           6.0          0.8   \n",
       "4           4          10.0          7.2           5.6          0.8   \n",
       "\n",
       "        target  \n",
       "0  Iris-setosa  \n",
       "1  Iris-setosa  \n",
       "2  Iris-setosa  \n",
       "3  Iris-setosa  \n",
       "4  Iris-setosa  "
      ]
     },
     "execution_count": 17,
     "metadata": {},
     "output_type": "execute_result"
    }
   ],
   "source": [
    "\"\"\"\n",
    "Reading data from excel file and checking if data has been read correctly.\n",
    "\"\"\"\n",
    "\n",
    "data=pd.read_excel('cleaned data.xlsx')\n",
    "data.head()"
   ]
  },
  {
   "cell_type": "code",
   "execution_count": 18,
   "metadata": {},
   "outputs": [
    {
     "data": {
      "text/html": [
       "<div>\n",
       "<style scoped>\n",
       "    .dataframe tbody tr th:only-of-type {\n",
       "        vertical-align: middle;\n",
       "    }\n",
       "\n",
       "    .dataframe tbody tr th {\n",
       "        vertical-align: top;\n",
       "    }\n",
       "\n",
       "    .dataframe thead th {\n",
       "        text-align: right;\n",
       "    }\n",
       "</style>\n",
       "<table border=\"1\" class=\"dataframe\">\n",
       "  <thead>\n",
       "    <tr style=\"text-align: right;\">\n",
       "      <th></th>\n",
       "      <th>sepal length</th>\n",
       "      <th>sepal width</th>\n",
       "      <th>petal length</th>\n",
       "      <th>petal width</th>\n",
       "      <th>target</th>\n",
       "    </tr>\n",
       "  </thead>\n",
       "  <tbody>\n",
       "    <tr>\n",
       "      <th>0</th>\n",
       "      <td>10.2</td>\n",
       "      <td>7.0</td>\n",
       "      <td>5.6</td>\n",
       "      <td>0.8</td>\n",
       "      <td>Iris-setosa</td>\n",
       "    </tr>\n",
       "    <tr>\n",
       "      <th>1</th>\n",
       "      <td>9.8</td>\n",
       "      <td>6.0</td>\n",
       "      <td>5.6</td>\n",
       "      <td>0.8</td>\n",
       "      <td>Iris-setosa</td>\n",
       "    </tr>\n",
       "    <tr>\n",
       "      <th>2</th>\n",
       "      <td>9.4</td>\n",
       "      <td>6.4</td>\n",
       "      <td>5.2</td>\n",
       "      <td>0.8</td>\n",
       "      <td>Iris-setosa</td>\n",
       "    </tr>\n",
       "    <tr>\n",
       "      <th>3</th>\n",
       "      <td>9.2</td>\n",
       "      <td>6.2</td>\n",
       "      <td>6.0</td>\n",
       "      <td>0.8</td>\n",
       "      <td>Iris-setosa</td>\n",
       "    </tr>\n",
       "    <tr>\n",
       "      <th>4</th>\n",
       "      <td>10.0</td>\n",
       "      <td>7.2</td>\n",
       "      <td>5.6</td>\n",
       "      <td>0.8</td>\n",
       "      <td>Iris-setosa</td>\n",
       "    </tr>\n",
       "  </tbody>\n",
       "</table>\n",
       "</div>"
      ],
      "text/plain": [
       "   sepal length  sepal width  petal length  petal width       target\n",
       "0          10.2          7.0           5.6          0.8  Iris-setosa\n",
       "1           9.8          6.0           5.6          0.8  Iris-setosa\n",
       "2           9.4          6.4           5.2          0.8  Iris-setosa\n",
       "3           9.2          6.2           6.0          0.8  Iris-setosa\n",
       "4          10.0          7.2           5.6          0.8  Iris-setosa"
      ]
     },
     "execution_count": 18,
     "metadata": {},
     "output_type": "execute_result"
    }
   ],
   "source": [
    "\"\"\"\n",
    "Dropping the first column of indexes as it is redundant.\n",
    "\"\"\"\n",
    "\n",
    "data=data.drop([data.columns[0]],axis=1)\n",
    "data.head()"
   ]
  },
  {
   "cell_type": "code",
   "execution_count": 19,
   "metadata": {},
   "outputs": [
    {
     "data": {
      "text/html": [
       "<div>\n",
       "<style scoped>\n",
       "    .dataframe tbody tr th:only-of-type {\n",
       "        vertical-align: middle;\n",
       "    }\n",
       "\n",
       "    .dataframe tbody tr th {\n",
       "        vertical-align: top;\n",
       "    }\n",
       "\n",
       "    .dataframe thead th {\n",
       "        text-align: right;\n",
       "    }\n",
       "</style>\n",
       "<table border=\"1\" class=\"dataframe\">\n",
       "  <thead>\n",
       "    <tr style=\"text-align: right;\">\n",
       "      <th></th>\n",
       "      <th>sepal length</th>\n",
       "      <th>sepal width</th>\n",
       "      <th>petal length</th>\n",
       "      <th>petal width</th>\n",
       "      <th>target</th>\n",
       "    </tr>\n",
       "  </thead>\n",
       "  <tbody>\n",
       "    <tr>\n",
       "      <th>0</th>\n",
       "      <td>10.2</td>\n",
       "      <td>7.0</td>\n",
       "      <td>5.6</td>\n",
       "      <td>0.8</td>\n",
       "      <td>1</td>\n",
       "    </tr>\n",
       "    <tr>\n",
       "      <th>1</th>\n",
       "      <td>9.8</td>\n",
       "      <td>6.0</td>\n",
       "      <td>5.6</td>\n",
       "      <td>0.8</td>\n",
       "      <td>1</td>\n",
       "    </tr>\n",
       "    <tr>\n",
       "      <th>2</th>\n",
       "      <td>9.4</td>\n",
       "      <td>6.4</td>\n",
       "      <td>5.2</td>\n",
       "      <td>0.8</td>\n",
       "      <td>1</td>\n",
       "    </tr>\n",
       "    <tr>\n",
       "      <th>3</th>\n",
       "      <td>9.2</td>\n",
       "      <td>6.2</td>\n",
       "      <td>6.0</td>\n",
       "      <td>0.8</td>\n",
       "      <td>1</td>\n",
       "    </tr>\n",
       "    <tr>\n",
       "      <th>4</th>\n",
       "      <td>10.0</td>\n",
       "      <td>7.2</td>\n",
       "      <td>5.6</td>\n",
       "      <td>0.8</td>\n",
       "      <td>1</td>\n",
       "    </tr>\n",
       "  </tbody>\n",
       "</table>\n",
       "</div>"
      ],
      "text/plain": [
       "   sepal length  sepal width  petal length  petal width target\n",
       "0          10.2          7.0           5.6          0.8      1\n",
       "1           9.8          6.0           5.6          0.8      1\n",
       "2           9.4          6.4           5.2          0.8      1\n",
       "3           9.2          6.2           6.0          0.8      1\n",
       "4          10.0          7.2           5.6          0.8      1"
      ]
     },
     "execution_count": 19,
     "metadata": {},
     "output_type": "execute_result"
    }
   ],
   "source": [
    "\"\"\"\n",
    "Now before a model can be implemented there is a need to change the output variable (target) to a neumeric value\n",
    "rather than string. So, following convnetion is used:\n",
    "1: Iris-setosa\n",
    "2: Iris-versicolor\n",
    "3: Iris-virginica\n",
    "\"\"\"\n",
    "\n",
    "data.loc[data[\"target\"] == \"Iris-setosa\", \"target\"] = 1\n",
    "data.loc[data[\"target\"] == \"Iris-versicolor\", \"target\"] = 2\n",
    "data.loc[data[\"target\"] == \"Iris-virginica\", \"target\"] = 3\n",
    "data.head()"
   ]
  },
  {
   "cell_type": "markdown",
   "metadata": {},
   "source": [
    "### Splitting into training and testing data"
   ]
  },
  {
   "cell_type": "code",
   "execution_count": 20,
   "metadata": {},
   "outputs": [],
   "source": [
    "\"\"\"\n",
    "Here the data frame is split into training and testing data on a 80:20 ratio. This is done to validate the results\n",
    "after training to know how well the model has performed.\n",
    "\"\"\"\n",
    "\n",
    "train,test=train_test_split(data,test_size=0.2,random_state=42,shuffle=True)"
   ]
  },
  {
   "cell_type": "markdown",
   "metadata": {},
   "source": [
    "### Applying regression model"
   ]
  },
  {
   "cell_type": "code",
   "execution_count": 21,
   "metadata": {},
   "outputs": [
    {
     "data": {
      "text/html": [
       "<div>\n",
       "<style scoped>\n",
       "    .dataframe tbody tr th:only-of-type {\n",
       "        vertical-align: middle;\n",
       "    }\n",
       "\n",
       "    .dataframe tbody tr th {\n",
       "        vertical-align: top;\n",
       "    }\n",
       "\n",
       "    .dataframe thead th {\n",
       "        text-align: right;\n",
       "    }\n",
       "</style>\n",
       "<table border=\"1\" class=\"dataframe\">\n",
       "  <thead>\n",
       "    <tr style=\"text-align: right;\">\n",
       "      <th></th>\n",
       "      <th>sepal length</th>\n",
       "      <th>sepal width</th>\n",
       "      <th>petal length</th>\n",
       "      <th>petal width</th>\n",
       "    </tr>\n",
       "  </thead>\n",
       "  <tbody>\n",
       "    <tr>\n",
       "      <th>4</th>\n",
       "      <td>10.0</td>\n",
       "      <td>7.2</td>\n",
       "      <td>5.6</td>\n",
       "      <td>0.8</td>\n",
       "    </tr>\n",
       "    <tr>\n",
       "      <th>26</th>\n",
       "      <td>10.4</td>\n",
       "      <td>7.0</td>\n",
       "      <td>6.0</td>\n",
       "      <td>0.8</td>\n",
       "    </tr>\n",
       "    <tr>\n",
       "      <th>123</th>\n",
       "      <td>12.2</td>\n",
       "      <td>6.0</td>\n",
       "      <td>19.6</td>\n",
       "      <td>7.2</td>\n",
       "    </tr>\n",
       "    <tr>\n",
       "      <th>128</th>\n",
       "      <td>12.8</td>\n",
       "      <td>5.6</td>\n",
       "      <td>22.4</td>\n",
       "      <td>8.8</td>\n",
       "    </tr>\n",
       "    <tr>\n",
       "      <th>16</th>\n",
       "      <td>10.2</td>\n",
       "      <td>7.0</td>\n",
       "      <td>5.6</td>\n",
       "      <td>1.2</td>\n",
       "    </tr>\n",
       "    <tr>\n",
       "      <th>...</th>\n",
       "      <td>...</td>\n",
       "      <td>...</td>\n",
       "      <td>...</td>\n",
       "      <td>...</td>\n",
       "    </tr>\n",
       "    <tr>\n",
       "      <th>71</th>\n",
       "      <td>13.2</td>\n",
       "      <td>6.0</td>\n",
       "      <td>17.6</td>\n",
       "      <td>5.6</td>\n",
       "    </tr>\n",
       "    <tr>\n",
       "      <th>106</th>\n",
       "      <td>13.0</td>\n",
       "      <td>6.4</td>\n",
       "      <td>20.4</td>\n",
       "      <td>8.0</td>\n",
       "    </tr>\n",
       "    <tr>\n",
       "      <th>14</th>\n",
       "      <td>11.6</td>\n",
       "      <td>8.0</td>\n",
       "      <td>4.8</td>\n",
       "      <td>0.8</td>\n",
       "    </tr>\n",
       "    <tr>\n",
       "      <th>92</th>\n",
       "      <td>11.4</td>\n",
       "      <td>5.8</td>\n",
       "      <td>16.8</td>\n",
       "      <td>5.2</td>\n",
       "    </tr>\n",
       "    <tr>\n",
       "      <th>102</th>\n",
       "      <td>9.8</td>\n",
       "      <td>5.0</td>\n",
       "      <td>18.0</td>\n",
       "      <td>6.8</td>\n",
       "    </tr>\n",
       "  </tbody>\n",
       "</table>\n",
       "<p>116 rows × 4 columns</p>\n",
       "</div>"
      ],
      "text/plain": [
       "     sepal length  sepal width  petal length  petal width\n",
       "4            10.0          7.2           5.6          0.8\n",
       "26           10.4          7.0           6.0          0.8\n",
       "123          12.2          6.0          19.6          7.2\n",
       "128          12.8          5.6          22.4          8.8\n",
       "16           10.2          7.0           5.6          1.2\n",
       "..            ...          ...           ...          ...\n",
       "71           13.2          6.0          17.6          5.6\n",
       "106          13.0          6.4          20.4          8.0\n",
       "14           11.6          8.0           4.8          0.8\n",
       "92           11.4          5.8          16.8          5.2\n",
       "102           9.8          5.0          18.0          6.8\n",
       "\n",
       "[116 rows x 4 columns]"
      ]
     },
     "execution_count": 21,
     "metadata": {},
     "output_type": "execute_result"
    }
   ],
   "source": [
    "\"\"\"\n",
    "Here the x and y parameters for use in model are being declared.\n",
    "\"\"\"\n",
    "\n",
    "# x=train[['sepal length','sepal width','petal length','petal width']]\n",
    "x=train.iloc[:,:-1]\n",
    "y=train['target']\n",
    "x"
   ]
  },
  {
   "cell_type": "code",
   "execution_count": 22,
   "metadata": {},
   "outputs": [
    {
     "data": {
      "text/plain": [
       "LinearRegression()"
      ]
     },
     "execution_count": 22,
     "metadata": {},
     "output_type": "execute_result"
    }
   ],
   "source": [
    "\"\"\"\n",
    "Now that all variables are defined it is simple to apply a multi-variable regression model on data.\n",
    "This block trains the regression model.\n",
    "\"\"\"\n",
    "\n",
    "regr = linear_model.LinearRegression()\n",
    "regr.fit(x, y)"
   ]
  },
  {
   "cell_type": "code",
   "execution_count": 23,
   "metadata": {},
   "outputs": [
    {
     "data": {
      "text/plain": [
       "array([0.88671757, 2.77571872, 0.88280401, 0.93009948, 1.00958646,\n",
       "       2.90594134, 0.99723601, 2.43218961, 2.61347918, 0.97322177,\n",
       "       0.88867484, 2.49209517, 2.90777538, 2.04966604, 2.8517452 ,\n",
       "       0.92225253, 2.05808309, 3.06549159, 1.0005341 , 2.16836794,\n",
       "       3.28032015, 2.5803357 , 0.99012108, 2.09035866, 0.89733168,\n",
       "       2.1494925 , 2.33748263, 3.01231264, 3.20421631, 0.89733168])"
      ]
     },
     "execution_count": 23,
     "metadata": {},
     "output_type": "execute_result"
    }
   ],
   "source": [
    "\"\"\"\n",
    "Now that model is trained, testing data can be used to validate model. This code block extracts testing data's\n",
    "input parameters and uses them to generate a prediction from trained model.\n",
    "\"\"\"\n",
    "\n",
    "prediction=regr.predict(test.iloc[:,:-1])\n",
    "prediction"
   ]
  },
  {
   "cell_type": "code",
   "execution_count": 24,
   "metadata": {},
   "outputs": [
    {
     "data": {
      "text/plain": [
       "array([1, 3, 1, 1, 1, 3, 1, 2, 3, 1, 1, 2, 3, 2, 3, 1, 2, 3, 1, 2, 3, 3,\n",
       "       1, 2, 1, 2, 2, 3, 3, 1])"
      ]
     },
     "execution_count": 24,
     "metadata": {},
     "output_type": "execute_result"
    }
   ],
   "source": [
    "\"\"\"\n",
    "The output from regression model is not integral but rather whole numbers. However the model has specific labels\n",
    "and this continuous output needs to be discretized. So, the output of model is rounded to nearest integer.\n",
    "\"\"\"\n",
    "\n",
    "y_pred=np.rint(prediction).astype(int)\n",
    "y_pred"
   ]
  },
  {
   "cell_type": "code",
   "execution_count": 25,
   "metadata": {},
   "outputs": [],
   "source": [
    "\"\"\"\n",
    "Now that model has been trained, there is a need to validate model's output to asses accuracy on given dataset.\n",
    "\"\"\"\n",
    "\n",
    "cleaned_training_size=len(train)\n",
    "cleaned_testing_size=len(test)\n",
    "cleaned_accuracy_score=accuracy_score(test['target'].tolist(),y_pred.tolist()) # accuracy score\n",
    "cleaned_squared_error=mean_squared_error(test['target'].tolist(),y_pred.tolist()) # mean squared error\n",
    "cleaned_dett_coeff=r2_score(test['target'].tolist(),y_pred.tolist()) # coefficient of determination"
   ]
  },
  {
   "cell_type": "markdown",
   "metadata": {},
   "source": [
    "# Working on Original Data"
   ]
  },
  {
   "cell_type": "code",
   "execution_count": 26,
   "metadata": {},
   "outputs": [],
   "source": [
    "\"\"\"\n",
    "Here all the code blocks are combined into one to perform same operations on original data.\n",
    "The validation results are stored for later use.\n",
    "\"\"\"\n",
    "\n",
    "data=pd.read_excel('Original Iris.xlsx') # reading data file into a dataframe\n",
    "\n",
    "data=data.drop([data.columns[0]],axis=1) # dropping the index column\n",
    "\n",
    "# transforming output variables for use in the model\n",
    "data.loc[data[\"target\"] == \"Iris-setosa\", \"target\"] = 1\n",
    "data.loc[data[\"target\"] == \"Iris-versicolor\", \"target\"] = 2\n",
    "data.loc[data[\"target\"] == \"Iris-virginica\", \"target\"] = 3\n",
    "\n",
    "train,test=train_test_split(data,test_size=0.2,random_state=42,shuffle=True) # splitting data into training and testing datasets\n",
    "\n",
    "# Separating input and output variables form training data to use in model\n",
    "x=train.iloc[:,:-1]\n",
    "y=train['target']\n",
    "\n",
    "# fitting regression model on given dataset\n",
    "regr = linear_model.LinearRegression()\n",
    "regr.fit(x, y)\n",
    "\n",
    "prediction=regr.predict(test.iloc[:,:-1]) # storing prediction based on testing data\n",
    "\n",
    "y_pred=np.rint(prediction).astype(int) # converting continuous predicted output to nearest integer\n",
    "\n",
    "# calculating and storing validation parameters\n",
    "original_training_size=len(train)\n",
    "original_testing_size=len(test)\n",
    "original_accuracy_score=accuracy_score(test['target'].tolist(),y_pred.tolist()) # accuracy score\n",
    "original_squared_error=mean_squared_error(test['target'].tolist(),y_pred.tolist()) # mean squared error\n",
    "original_dett_coeff=r2_score(test['target'].tolist(),y_pred.tolist()) # coefficient of determination"
   ]
  },
  {
   "cell_type": "markdown",
   "metadata": {},
   "source": [
    "# Working on Dirty Data"
   ]
  },
  {
   "cell_type": "code",
   "execution_count": 27,
   "metadata": {},
   "outputs": [],
   "source": [
    "\"\"\"\n",
    "Here all the code blocks are combined into one to perform same operations on original data.\n",
    "The validation results are stored for later use.\n",
    "\"\"\"\n",
    "\n",
    "data=pd.read_excel('my_iris.xlsx') # reading data file into a dataframe\n",
    "\n",
    "data=data.dropna()\n",
    "\n",
    "data=data.drop([data.columns[0]],axis=1) # dropping the index column\n",
    "\n",
    "# transforming output variables for use in the model\n",
    "data.loc[data[\"target\"] == \"Iris-setosa\", \"target\"] = 1\n",
    "data.loc[data[\"target\"] == \"Iris-versicolor\", \"target\"] = 2\n",
    "data.loc[data[\"target\"] == \"Iris-virginica\", \"target\"] = 3\n",
    "\n",
    "train,test=train_test_split(data,test_size=0.2,random_state=42,shuffle=True) # splitting data into training and testing datasets\n",
    "\n",
    "# Separating input and output variables form training data to use in model\n",
    "x=train.iloc[:,:-1]\n",
    "y=train['target']\n",
    "\n",
    "# fitting regression model on given dataset\n",
    "regr = linear_model.LinearRegression()\n",
    "regr.fit(x, y)\n",
    "\n",
    "prediction=regr.predict(test.iloc[:,:-1]) # storing prediction based on testing data\n",
    "\n",
    "y_pred=np.rint(prediction).astype(int) # converting continuous predicted output to nearest integer\n",
    "\n",
    "# calculating and storing validation parameters\n",
    "dirty_training_size=len(train)\n",
    "dirty_testing_size=len(test)\n",
    "dirty_accuracy_score=accuracy_score(test['target'].tolist(),y_pred.tolist()) # accuracy score\n",
    "dirty_squared_error=mean_squared_error(test['target'].tolist(),y_pred.tolist()) # mean squared error\n",
    "dirty_dett_coeff=r2_score(test['target'].tolist(),y_pred.tolist()) # coefficient of determination"
   ]
  },
  {
   "cell_type": "markdown",
   "metadata": {},
   "source": [
    "# Report"
   ]
  },
  {
   "cell_type": "code",
   "execution_count": 28,
   "metadata": {},
   "outputs": [
    {
     "name": "stdout",
     "output_type": "stream",
     "text": [
      "Benchmark: \n",
      "\n",
      "Parameters for original dataset (120 training examples, 30 testing examples) are as follows:\n",
      "  1. Accuracy Score is:1.0\n",
      "  2. Mean squared error: 0.00\n",
      "  3. Coefficient of determination: 1.00\n",
      "\n",
      "-----------------------------------------------------------------\n",
      "\n",
      "Parameters for dirty dataset (80 training examples, 20 testing examples) are as follows:\n",
      "  1. Accuracy Score is:0.95\n",
      "  2. Mean squared error: 0.05\n",
      "  3. Coefficient of determination: 0.91\n",
      "\n",
      "Parameters for cleaned dataset (116 training examples, 30 testing examples) are as follows:\n",
      "  1. Accuracy Score is:0.9333333333333333\n",
      "  2. Mean squared error: 0.07\n",
      "  3. Coefficient of determination: 0.91\n"
     ]
    }
   ],
   "source": [
    "\"\"\"\n",
    "This blocks prints the values of all validation vaiables used to compare the implementation on different datasets.\n",
    "\"\"\"\n",
    "\n",
    "print(f\"Benchmark: \\n\")\n",
    "print(f\"Parameters for original dataset ({original_training_size} training examples, {original_testing_size} testing examples) are as follows:\")\n",
    "print(f\"  1. Accuracy Score is:{original_accuracy_score}\",)\n",
    "# The mean squared error\n",
    "print(\"  2. Mean squared error: %.2f\" % original_squared_error)\n",
    "# The coefficient of determination: 1 is perfect prediction\n",
    "print(\"  3. Coefficient of determination: %.2f\" % original_dett_coeff)\n",
    "\n",
    "print(f\"\\n-----------------------------------------------------------------\\n\")\n",
    "\n",
    "print(f\"Parameters for dirty dataset ({dirty_training_size} training examples, {dirty_testing_size} testing examples) are as follows:\")\n",
    "print(f\"  1. Accuracy Score is:{dirty_accuracy_score}\",)\n",
    "# The mean squared error\n",
    "print(\"  2. Mean squared error: %.2f\" % dirty_squared_error)\n",
    "# The coefficient of determination: 1 is perfect prediction\n",
    "print(\"  3. Coefficient of determination: %.2f\" % dirty_dett_coeff)\n",
    "\n",
    "print(f\"\\nParameters for cleaned dataset ({cleaned_training_size} training examples, {cleaned_testing_size} testing examples) are as follows:\")\n",
    "print(f\"  1. Accuracy Score is:{cleaned_accuracy_score}\",)\n",
    "# The mean squared error\n",
    "print(\"  2. Mean squared error: %.2f\" % cleaned_squared_error)\n",
    "# The coefficient of determination: 1 is perfect prediction\n",
    "print(\"  3. Coefficient of determination: %.2f\" % cleaned_dett_coeff)"
   ]
  },
  {
   "cell_type": "code",
   "execution_count": 29,
   "metadata": {},
   "outputs": [
    {
     "data": {
      "text/plain": [
       "[Text(0.5, 1.0, 'Coefficient of Determination')]"
      ]
     },
     "execution_count": 29,
     "metadata": {},
     "output_type": "execute_result"
    },
    {
     "data": {
      "image/png": "[encoded data removed]",
      "text/plain": [
       "<Figure size 1728x432 with 4 Axes>"
      ]
     },
     "metadata": {
      "needs_background": "light"
     },
     "output_type": "display_data"
    }
   ],
   "source": [
    "\"\"\"\n",
    "This block plots the following parameters for a vizualization of all three datasets:\n",
    "  1. Data Size\n",
    "  2. Accuracy Score of fitted model\n",
    "  3. Mean Squared Error of model\n",
    "  4. Coefficient of Determination\n",
    "\"\"\"\n",
    "\n",
    "import seaborn as sns\n",
    "import matplotlib.pyplot as plt\n",
    "\n",
    "sns.set_palette(sns.color_palette(\"Set2\"))\n",
    "fig,axes=plt.subplots(1,4,figsize=(24,6))\n",
    "sns.barplot(x=[\"Original\",\"cleaned\",\"dirty\"],y=[(original_training_size + original_testing_size),(cleaned_training_size + cleaned_testing_size),(dirty_training_size + dirty_testing_size)],ax=axes[0]).set(title='Data Size')\n",
    "sns.barplot(x=[\"Original\",\"cleaned\",\"dirty\"],y=[original_accuracy_score,cleaned_accuracy_score,dirty_accuracy_score],ax=axes[1]).set(title='Accuracy Score')\n",
    "sns.barplot(x=[\"Original\",\"cleaned\",\"dirty\"],y=[original_squared_error,cleaned_squared_error,dirty_squared_error],ax=axes[2]).set(title='Mean Squared Error')\n",
    "sns.barplot(x=[\"Original\",\"cleaned\",\"dirty\"],y=[original_dett_coeff,cleaned_dett_coeff,dirty_dett_coeff],ax=axes[3]).set(title='Coefficient of Determination')"
   ]
  },
  {
   "cell_type": "code",
   "execution_count": 30,
   "metadata": {},
   "outputs": [
    {
     "name": "stdout",
     "output_type": "stream",
     "text": [
      "\n"
     ]
    }
   ],
   "source": [
    "\"\"\"\n",
    "After Analyzing the performance on Data, the following conclusions can be reached:\n",
    "\n",
    "  1: The model performs perfectly on original dataset and yields highest prediction results.\n",
    "\n",
    "  2: The difficult part is deciding the working the provided dirty set and then again after cleaning that dataset. One thing to note here\n",
    "     is that although the model shows a slightly better performance on dirty dataset. In real world this is not acceptable as there\n",
    "     were many null values not accounted for in model and ignoring them resulted in a 33% loss from original dataset. So, for any application\n",
    "     a cleaner dataset with maximum possible trainign examples is preferred.\n",
    "    \n",
    "  3: Finally, the cleaned dataset resulted in a 93% accuracy in predictions compared to original dataset. This shows that the data was \n",
    "     cleaned quite properly and resulted more than 90% accuracy. In addition to that the mean-squared error is quite low, having a value of 0.07.\n",
    "     Now this compared to oriiginal can be interpreted as cleaned data having an almost perfect fit with exception to a few outliers.\n",
    "\n",
    "In Conclusion, the cleaning methods used were efficient, resulting in useful data that trained model with minimum abnormalities. The resulting \n",
    "model handled most predictions accurately as tested with the randomly separated testing data from input sample.\n",
    "\"\"\"\n",
    "print() # to give clear output"
   ]
  }
 ],
 "metadata": {
  "kernelspec": {
   "display_name": "Python 3.9.12 ('base')",
   "language": "python",
   "name": "python3"
  },
  "language_info": {
   "codemirror_mode": {
    "name": "ipython",
    "version": 3
   },
   "file_extension": ".py",
   "mimetype": "text/x-python",
   "name": "python",
   "nbconvert_exporter": "python",
   "pygments_lexer": "ipython3",
   "version": "3.9.12"
  },
  "orig_nbformat": 4,
  "vscode": {
   "interpreter": {
    "hash": "40d3a090f54c6569ab1632332b64b2c03c39dcf918b08424e98f38b5ae0af88f"
   }
  }
 },
 "nbformat": 4,
 "nbformat_minor": 2
}
