{
 "cells": [
  {
   "cell_type": "code",
   "execution_count": 2,
   "metadata": {},
   "outputs": [],
   "source": [
    "# This is a test file implementation for google sheets data"
   ]
  },
  {
   "cell_type": "code",
   "execution_count": null,
   "metadata": {},
   "outputs": [],
   "source": [
    "\"\"\"\n",
    "BEFORE RUNNING:\n",
    "---------------\n",
    "1. If not already done, enable the Google Sheets API\n",
    "   and check the quota for your project at\n",
    "   https://console.developers.google.com/apis/api/sheets\n",
    "2. Install the Python client library for Google APIs by running\n",
    "   `pip install --upgrade google-api-python-client`\n",
    "\"\"\"\n",
    "from pprint import pprint\n",
    "\n",
    "from googleapiclient import discovery\n",
    "\n",
    "# TODO: Change placeholder below to generate authentication credentials. See\n",
    "# https://developers.google.com/sheets/quickstart/python#step_3_set_up_the_sample\n",
    "#\n",
    "# Authorize using one of the following scopes:\n",
    "#     'https://www.googleapis.com/auth/drive'\n",
    "#     'https://www.googleapis.com/auth/drive.file'\n",
    "#     'https://www.googleapis.com/auth/spreadsheets'\n",
    "credentials = None\n",
    "\n",
    "service = discovery.build('sheets', 'v4', credentials=credentials)\n",
    "\n",
    "# The ID of the spreadsheet to update.\n",
    "spreadsheet_id = '1MnrmEo99y1kl5Dc02teGmyUslMS5xYdfkJYKR3GX23g'  # TODO: Update placeholder value.\n",
    "\n",
    "# The A1 notation of a range to search for a logical table of data.\n",
    "# Values will be appended after the last row of the table.\n",
    "range_ = 'A1:H1'  # TODO: Update placeholder value.\n",
    "\n",
    "# How the input data should be interpreted.\n",
    "value_input_option = ''  # TODO: Update placeholder value.\n",
    "\n",
    "# How the input data should be inserted.\n",
    "insert_data_option = ''  # TODO: Update placeholder value.\n",
    "\n",
    "value_range_body = {\n",
    "    # TODO: Add desired entries to the request body.\n",
    "}\n",
    "\n",
    "request = service.spreadsheets().values().append(spreadsheetId=spreadsheet_id, range=range_, valueInputOption=value_input_option, insertDataOption=insert_data_option, body=value_range_body)\n",
    "response = request.execute()\n",
    "\n",
    "# TODO: Change code below to process the `response` dict:\n",
    "pprint(response)"
   ]
  }
 ],
 "metadata": {
  "kernelspec": {
   "display_name": "Python 3.9.12 ('base')",
   "language": "python",
   "name": "python3"
  },
  "language_info": {
   "codemirror_mode": {
    "name": "ipython",
    "version": 3
   },
   "file_extension": ".py",
   "mimetype": "text/x-python",
   "name": "python",
   "nbconvert_exporter": "python",
   "pygments_lexer": "ipython3",
   "version": "3.9.12"
  },
  "orig_nbformat": 4,
  "vscode": {
   "interpreter": {
    "hash": "40d3a090f54c6569ab1632332b64b2c03c39dcf918b08424e98f38b5ae0af88f"
   }
  }
 },
 "nbformat": 4,
 "nbformat_minor": 2
}
