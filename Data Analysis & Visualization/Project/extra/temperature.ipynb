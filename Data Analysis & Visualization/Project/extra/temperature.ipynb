{
 "cells": [
  {
   "cell_type": "code",
   "execution_count": null,
   "metadata": {},
   "outputs": [],
   "source": [
    "# function to convert utc to human readable time\n",
    "def utc2time(ts):\n",
    "    import datetime\n",
    "    return list(map(int,datetime.datetime.utcfromtimestamp(ts).strftime('%Y %m %d %H').split()))"
   ]
  },
  {
   "cell_type": "code",
   "execution_count": null,
   "metadata": {},
   "outputs": [],
   "source": [
    "# this function returns number of days in a month\n",
    "def days_in_month(year, month):\n",
    "    from calendar import monthrange\n",
    "    return monthrange(year, month)[1]"
   ]
  },
  {
   "cell_type": "code",
   "execution_count": null,
   "metadata": {},
   "outputs": [],
   "source": [
    "# creating a list of all the coordinates\n",
    "def make_coord():\n",
    "    coord=[]\n",
    "\n",
    "    count = 1\n",
    "\n",
    "    lat=31.39\n",
    "    for i in range(10):\n",
    "        lon=74.29\n",
    "        for j in range(8):\n",
    "            lon=round(lon,2)\n",
    "            lat=round(lat,2)\n",
    "            coord.append([count,[lat,lon]])\n",
    "            count+=1\n",
    "            # print(f\"lat:{lat}, lon:{lon}\")\n",
    "            lon-=0.02\n",
    "        lat-=0.02\n",
    "\n",
    "    lat=31.29\n",
    "    for i in range(5):\n",
    "        lon=74.13\n",
    "        for j in range(2):\n",
    "            lon=round(lon,2)\n",
    "            lat=round(lat,2)\n",
    "            coord.append([count,[lat,lon]])\n",
    "            count+=1\n",
    "            # print(f\"lat:{lat}, lon:{lon}\")\n",
    "            lon-=0.02\n",
    "        lat-=0.02\n",
    "    return coord"
   ]
  },
  {
   "cell_type": "code",
   "execution_count": null,
   "metadata": {},
   "outputs": [],
   "source": [
    "def params(data,hour,index,lon,lat):\n",
    "    # a function that returns a list of parameters against a given json\n",
    "    dt=data['list'][hour]['dt']\n",
    "    aqi=data['list'][hour]['main']['aqi']\n",
    "    co=data['list'][hour]['components']['co']\n",
    "    no=data['list'][hour]['components']['no']\n",
    "    no2=data['list'][hour]['components']['no2']\n",
    "    o3=data['list'][hour]['components']['o3']\n",
    "    so2=data['list'][hour]['components']['so2']\n",
    "    pm2_5=data['list'][hour]['components']['pm2_5']\n",
    "    pm10=data['list'][hour]['components']['pm10']\n",
    "    nh3=data['list'][hour]['components']['nh3']\n",
    "\n",
    "    temp=utc2time(dt)\n",
    "\n",
    "    return [temp[0],temp[1],temp[2],temp[3],index,lon,lat,aqi,co,no,no2,o3,so2,nh3,pm2_5,pm10]"
   ]
  },
  {
   "cell_type": "code",
   "execution_count": null,
   "metadata": {},
   "outputs": [],
   "source": [
    "# function that returns dataframe of temperature coordinates for a day based on coordinates and timestamp\n",
    "import requests\n",
    "import pandas as pd\n",
    "def temp_data(coord,ts):\n",
    "\n",
    "    # getting number of days\n",
    "    date=utc2time(ts)\n",
    "    year=date[0]\n",
    "    month=date[1]\n",
    "    day=date[2]\n",
    "\n",
    "\n",
    "    # ts is the timestamp\n",
    "    # coord is the coordinates\n",
    "    url = f\"https://api.weatherbit.io/v2.0/history/hourly?lat={coord[0]}&lon={coord[1]}&start_date={year}-{month}-{day}%3A00&end_date={year}-{month}-{day}%3A24&key=5e76500a32524b8281b8b0ecd8822c19\"\n",
    "    r = requests.get(url = url)\n",
    "    temp=r.json()\n",
    "    arr=[]\n",
    "    for i in range(24):\n",
    "        arr.append([temp['data'][i]['app_temp'],temp['data'][i]['dewpt'],temp['data'][i]['weather']['description']])\n",
    "    return pd.DataFrame(arr,columns=['temp','dewpt','condition'])"
   ]
  },
  {
   "cell_type": "code",
   "execution_count": null,
   "metadata": {},
   "outputs": [],
   "source": [
    "# Function that returns a dataframe for pollution data for a day based on coordinates and timestamp\n",
    "import requests\n",
    "import pandas as pd\n",
    "def poll_data(coord,ts,zone):\n",
    "    \n",
    "        # getting number of days\n",
    "        date=utc2time(ts)\n",
    "        year=date[0]\n",
    "        month=date[1]\n",
    "        day=date[2]\n",
    "    \n",
    "        # ts is the timestamp\n",
    "        # coord is the coordinates\n",
    "        url = f\"https://api.openweathermap.org/data/2.5/air_pollution/history?lat={coord[0]}&lon={coord[1]}&start={ts}&end={ts+82800}&appid=8d9efe95caf3922348a458d615abeb8c\"\n",
    "        r = requests.get(url = url)\n",
    "        data=r.json()\n",
    "        arr=[]\n",
    "        for i in range(24):\n",
    "            arr.append(params(data,i,zone,coord[0],coord[1]))\n",
    "        return pd.DataFrame(arr,columns=['year','month','day','hour','zone','lon','lat','aqi','co','no','no2','o3','so2','nh3','pm2_5','pm10'])"
   ]
  },
  {
   "cell_type": "code",
   "execution_count": null,
   "metadata": {},
   "outputs": [],
   "source": [
    "# function that extracts data for a day and returns a dataframe\n",
    "def get_data(coord,ts):\n",
    "    sleep(1) # to avoid rate limit\n",
    "    temp=temp_data(coord[1],ts)\n",
    "    poll=poll_data(coord[1],ts,coord[0])\n",
    "    return pd.concat([poll, temp], axis=1)"
   ]
  },
  {
   "cell_type": "code",
   "execution_count": null,
   "metadata": {},
   "outputs": [],
   "source": [
    "'''\n",
    "steps to do:\n",
    "1. read timestamp from csv\n",
    "2. get next day from timestamp\n",
    "3. get number of days loop should be called\n",
    "4. create coordinates\n",
    "5. create a loop to get data for each coordinate\n",
    "    - get pollution data for each day\n",
    "    - get weather data for each day\n",
    "    - combine both dataframes\n",
    "6. combine dataframes in that specified order\n",
    "7. append dataframe to csv\n",
    "8. save updated timestamp to csv\n",
    "'''\n",
    "\n",
    "import pandas as pd\n",
    "from time import sleep\n",
    "\n",
    "# reading timestamp from txt file into a variable\n",
    "try:\n",
    "    with open('timestamp.txt','r') as f:\n",
    "        timestamp=int(f.read())\n",
    "# writing timestamp to txt file if not found\n",
    "except:\n",
    "    timestamp=1609459200 # for january 1, 2021\n",
    "    with open('timestamp.txt','w') as f:\n",
    "        f.write(str(timestamp))\n",
    "\n",
    "# getting number of days loop should be called\n",
    "days=days_in_month(utc2time(timestamp)[0],utc2time(timestamp)[1])\n",
    "# creating coordinates\n",
    "coord=make_coord()\n",
    "\n",
    "# creating a loop to get data for each coordinate\n",
    "for i in range(1): # loop for days\n",
    "    temp = []\n",
    "    for j in range(len(coord)): # loop for coordinates\n",
    "        temp.append(get_data(coord[j],timestamp))\n",
    "\n",
    "# adding headings to csv if not found\n",
    "try:\n",
    "    with open('data.csv','r') as f:\n",
    "        pass\n",
    "except:\n",
    "    with open('data.csv','w') as f:\n",
    "        f.write('year,month,day,hour,zone,lon,lat,aqi,co,no,no2,o3,so2,nh3,pm2_5,pm10,temp,dewpt,condition')\n",
    "\n",
    "# combining dataframes in that specified order\n",
    "pd.concat(temp, axis=0).sort_index(kind='merge').to_csv('data.csv', index=False, header=False, mode='a')\n",
    "\n",
    "# writing updated timestamp to txt file\n",
    "with open('timestamp.txt','w') as f:\n",
    "    f.write(str(timestamp+86400))"
   ]
  },
  {
   "cell_type": "code",
   "execution_count": null,
   "metadata": {},
   "outputs": [],
   "source": [
    "url = f\"https://api.weatherbit.io/v2.0/history/hourly?lat=31.39&lon=74.29&start_date=2021-01-01%3A00&end_date=2021-12-31%3A24&key=2de09181eb414ef5934361dcea304b71\"\n",
    "r = requests.get(url = url)\n",
    "temp=r.json()"
   ]
  },
  {
   "cell_type": "code",
   "execution_count": null,
   "metadata": {},
   "outputs": [],
   "source": [
    "# normalizing data for each day into a dataframe\n",
    "timestamp=1609459200\n",
    "arr=[]\n",
    "for i in range(len(temp['data'])):\n",
    "    temp1=utc2time(timestamp)\n",
    "    arr.append([temp1[0],temp1[1],temp1[2],temp1[3],temp['data'][i]['app_temp'],temp['data'][i]['dewpt'],temp['data'][i]['weather']['description']])\n",
    "    timestamp+=3600\n",
    "df=pd.DataFrame(arr,columns=['year','month','day','hour','temp','dewpt','condition'])"
   ]
  },
  {
   "cell_type": "code",
   "execution_count": null,
   "metadata": {},
   "outputs": [],
   "source": [
    "df"
   ]
  },
  {
   "cell_type": "code",
   "execution_count": null,
   "metadata": {},
   "outputs": [],
   "source": [
    "# getting data of a year from openweathermap\n",
    "import requests\n",
    "url = f\"https://api.openweathermap.org/data/2.5/air_pollution/history?lat=31.39&lon=74.29&start=1609459200&end=1640995200&appid=8d9efe95caf3922348a458d615abeb8c\"\n",
    "r = requests.get(url = url)\n",
    "temp1=r.json()"
   ]
  },
  {
   "cell_type": "code",
   "execution_count": null,
   "metadata": {},
   "outputs": [],
   "source": [
    "# normalizing data for each day into a dataframe\n",
    "arr=[]\n",
    "for i in range(len(temp1['list'])):\n",
    "    arr.append(params(temp1,i,1,31.39,74.29))\n",
    "df1=pd.DataFrame(arr,columns=['year','month','day','hour','zone','lon','lat','aqi','co','no','no2','o3','so2','nh3','pm2_5','pm10'])"
   ]
  },
  {
   "cell_type": "code",
   "execution_count": null,
   "metadata": {},
   "outputs": [],
   "source": [
    "pd.concat([df1, df], axis=1).to_csv('year_data.csv', index=False, mode='a')"
   ]
  },
  {
   "cell_type": "markdown",
   "metadata": {},
   "source": [
    "Implementation for a year"
   ]
  },
  {
   "cell_type": "code",
   "execution_count": null,
   "metadata": {},
   "outputs": [],
   "source": [
    "import requests\n",
    "import pandas as pd\n",
    "df_arr=[]\n",
    "coord=make_coord()\n",
    "for i in coord:\n",
    "    r=requests.get(f\"https://api.weatherbit.io/v2.0/history/hourly?lat={i[1][0]}&lon={i[1][1]}&start_date=2021-01-01%3A00&end_date=2021-12-31%3A24&key=5e76500a32524b8281b8b0ecd8822c19\")\n",
    "    temp=r.json()\n",
    "    r=requests.get(f\"https://api.openweathermap.org/data/2.5/air_pollution/history?lat={i[1][0]}&lon={i[1][1]}&start=1609459200&end=1640995200&appid=8d9efe95caf3922348a458d615abeb8c\")\n",
    "    temp1=r.json()\n",
    "    \n",
    "    # normalizing temperature data\n",
    "    timestamp=1609459200\n",
    "    arr=[]\n",
    "    for j in range(len(temp['data'])):\n",
    "        temp2=utc2time(timestamp)\n",
    "        arr.append([temp2[0],temp2[1],temp2[2],temp2[3],temp['data'][j]['app_temp'],temp['data'][j]['dewpt'],temp['data'][j]['weather']['description']])\n",
    "        timestamp+=3600\n",
    "    df=pd.DataFrame(arr,columns=['year','month','day','hour','temp','dewpt','condition'])\n",
    "\n",
    "    # normalizing pollution data\n",
    "    arr=[]\n",
    "    for j in range(len(temp1['list'])):\n",
    "        arr.append(params(temp1,j,i[0],i[1][0],i[1][1]))\n",
    "    df1=pd.DataFrame(arr,columns=['year','month','day','hour','zone','lon','lat','aqi','co','no','no2','o3','so2','nh3','pm2_5','pm10'])\n",
    "\n",
    "    # combining dataframes\n",
    "    df_arr.append(pd.concat([df1, df], axis=1))\n",
    "\n",
    "# combining all dataframes into one\n",
    "df=pd.concat(df_arr, axis=0).sort_index(kind='merge')\n",
    "\n",
    "# saving data to csv\n",
    "df.to_csv('year_data.csv', index=False, mode='a')"
   ]
  },
  {
   "cell_type": "code",
   "execution_count": null,
   "metadata": {},
   "outputs": [],
   "source": [
    "# reading a json file into dictionary\n",
    "import json\n",
    "with open('temperature.json') as f:\n",
    "    data = json.load(f)\n",
    "\n",
    "data"
   ]
  },
  {
   "cell_type": "code",
   "execution_count": null,
   "metadata": {},
   "outputs": [],
   "source": [
    "# storing dictionery into json file\n",
    "import json\n",
    "with open('temperature1.json', 'w') as f:\n",
    "    json.dump(data, f)"
   ]
  },
  {
   "cell_type": "code",
   "execution_count": null,
   "metadata": {},
   "outputs": [],
   "source": [
    "url = f\"https://api.weatherbit.io/v2.0/history/hourly?lat=31.39&lon=74.29&start_date=2021-01-01%3A00&end_date=2021-12-31%3A24&key=5e76500a32524b8281b8b0ecd8822c19\"\n",
    "url = f\"https://api.openweathermap.org/data/2.5/air_pollution/history?lat=31.39&lon=74.29&start=1609459200&end=1640995200&appid=8d9efe95caf3922348a458d615abeb8c\""
   ]
  }
 ],
 "metadata": {
  "kernelspec": {
   "display_name": "Python 3.9.12 ('base')",
   "language": "python",
   "name": "python3"
  },
  "language_info": {
   "codemirror_mode": {
    "name": "ipython",
    "version": 3
   },
   "file_extension": ".py",
   "mimetype": "text/x-python",
   "name": "python",
   "nbconvert_exporter": "python",
   "pygments_lexer": "ipython3",
   "version": "3.9.12"
  },
  "orig_nbformat": 4,
  "vscode": {
   "interpreter": {
    "hash": "40d3a090f54c6569ab1632332b64b2c03c39dcf918b08424e98f38b5ae0af88f"
   }
  }
 },
 "nbformat": 4,
 "nbformat_minor": 2
}
