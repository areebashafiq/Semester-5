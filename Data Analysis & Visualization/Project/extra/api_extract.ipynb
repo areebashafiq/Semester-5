{
 "cells": [
  {
   "cell_type": "code",
   "execution_count": 1,
   "metadata": {},
   "outputs": [],
   "source": [
    "# This is the file that extracts data for a day from the API and saves it to a file"
   ]
  },
  {
   "cell_type": "code",
   "execution_count": 2,
   "metadata": {},
   "outputs": [],
   "source": [
    "# creating a list of all the coordinates\n",
    "def make_coord():\n",
    "    coord=[]\n",
    "\n",
    "    count = 1\n",
    "\n",
    "    lat=31.39\n",
    "    for i in range(10):\n",
    "        lon=74.29\n",
    "        for j in range(8):\n",
    "            lon=round(lon,2)\n",
    "            lat=round(lat,2)\n",
    "            coord.append([count,[lat,lon]])\n",
    "            count+=1\n",
    "            # print(f\"lat:{lat}, lon:{lon}\")\n",
    "            lon-=0.02\n",
    "        lat-=0.02\n",
    "\n",
    "    lat=31.29\n",
    "    for i in range(5):\n",
    "        lon=74.13\n",
    "        for j in range(2):\n",
    "            lon=round(lon,2)\n",
    "            lat=round(lat,2)\n",
    "            coord.append([count,[lat,lon]])\n",
    "            count+=1\n",
    "            # print(f\"lat:{lat}, lon:{lon}\")\n",
    "            lon-=0.02\n",
    "        lat-=0.02\n",
    "    return coord"
   ]
  },
  {
   "cell_type": "code",
   "execution_count": 4,
   "metadata": {},
   "outputs": [],
   "source": [
    "from datetime import datetime\n",
    "\n",
    "# function to convert utc to an array of time\n",
    "def utc2time(ts):\n",
    "    ts+=18000\n",
    "    year=int(datetime.utcfromtimestamp(ts).strftime('%Y'))\n",
    "    month=int(datetime.utcfromtimestamp(ts).strftime('%m'))\n",
    "    day=int(datetime.utcfromtimestamp(ts).strftime('%d'))\n",
    "    hour=int(datetime.utcfromtimestamp(ts).strftime('%H'))\n",
    "    return [int(year),int(month),day,hour]"
   ]
  },
  {
   "cell_type": "code",
   "execution_count": 5,
   "metadata": {},
   "outputs": [],
   "source": [
    "def params(data,num,index):\n",
    "    # a function that returns a list of parameters against a given json\n",
    "    dt=data['list'][num]['dt']\n",
    "    aqi=data['list'][num]['main']['aqi']\n",
    "    co=data['list'][num]['components']['co']\n",
    "    no=data['list'][num]['components']['no']\n",
    "    no2=data['list'][num]['components']['no2']\n",
    "    o3=data['list'][num]['components']['o3']\n",
    "    so2=data['list'][num]['components']['so2']\n",
    "    pm2_5=data['list'][num]['components']['pm2_5']\n",
    "    pm10=data['list'][num]['components']['pm10']\n",
    "    nh3=data['list'][num]['components']['nh3']\n",
    "\n",
    "    temp=utc2time(dt)\n",
    "\n",
    "    return [temp[0],temp[1],temp[2],temp[3],index,aqi,co,no,no2,o3,so2,nh3,pm2_5,pm10]"
   ]
  },
  {
   "cell_type": "code",
   "execution_count": 6,
   "metadata": {},
   "outputs": [],
   "source": [
    "# return data for a day for a set of coordinates\n",
    "import requests\n",
    "from time import sleep\n",
    "def api_request(coord,time):\n",
    "    sleep(1)\n",
    "    url = f\"https://api.openweathermap.org/data/2.5/air_pollution/history?lat={coord[0]}&lon={coord[1]}&start={time}&end={time+82800}&appid=8d9efe95caf3922348a458d615abeb8c\"\n",
    "    r = requests.get(url = url)\n",
    "    return r.json()"
   ]
  },
  {
   "cell_type": "code",
   "execution_count": 7,
   "metadata": {},
   "outputs": [],
   "source": [
    "def extract_vals(temp,index):\n",
    "    data=[]\n",
    "    for i in range(len(temp['list'])):\n",
    "        data.append(params(temp,i,index))\n",
    "    return data"
   ]
  },
  {
   "cell_type": "code",
   "execution_count": 8,
   "metadata": {},
   "outputs": [],
   "source": [
    "import pandas as pd\n",
    "def get_data_by_zone(num,time):\n",
    "    coord=make_coord()\n",
    "    df=pd.DataFrame(extract_vals(api_request(coord[num][1],time),coord[num][0]),columns=['year','month','day','hour','zone','aqi','co','no','no2','o3','so2','nh3','pm2_5','pm10'])\n",
    "    return df\n",
    "# get_data_by_zone(0,1666810800)"
   ]
  },
  {
   "cell_type": "code",
   "execution_count": 9,
   "metadata": {},
   "outputs": [],
   "source": [
    "temp=[]\n",
    "for i in range(5):\n",
    "    temp.append(get_data_by_zone(i,1609441200))"
   ]
  },
  {
   "cell_type": "code",
   "execution_count": 17,
   "metadata": {},
   "outputs": [],
   "source": [
    "def get_day(day):\n",
    "    temp = []\n",
    "    for i in range(5):\n",
    "        temp.append(get_data_by_zone(i, day))\n",
    "\n",
    "    pd.concat(temp, axis=0).sort_index(kind='merge').to_csv(\n",
    "        'data.csv', index=False, header=False, mode='a')"
   ]
  },
  {
   "cell_type": "code",
   "execution_count": 18,
   "metadata": {},
   "outputs": [
    {
     "ename": "KeyboardInterrupt",
     "evalue": "",
     "output_type": "error",
     "traceback": [
      "\u001b[0;31m---------------------------------------------------------------------------\u001b[0m",
      "\u001b[0;31mKeyboardInterrupt\u001b[0m                         Traceback (most recent call last)",
      "\u001b[1;32m/Users/carbon/Documents/Semester-5/Data Analysis & Visualization/Project/api_extract.ipynb Cell 10\u001b[0m in \u001b[0;36m<cell line: 2>\u001b[0;34m()\u001b[0m\n\u001b[1;32m      <a href='vscode-notebook-cell:/Users/carbon/Documents/Semester-5/Data%20Analysis%20%26%20Visualization/Project/api_extract.ipynb#X15sZmlsZQ%3D%3D?line=2'>3</a>\u001b[0m get_day(time_stamp)\n\u001b[1;32m      <a href='vscode-notebook-cell:/Users/carbon/Documents/Semester-5/Data%20Analysis%20%26%20Visualization/Project/api_extract.ipynb#X15sZmlsZQ%3D%3D?line=3'>4</a>\u001b[0m time_stamp \u001b[39m+\u001b[39m\u001b[39m=\u001b[39m \u001b[39m86400\u001b[39m\n\u001b[0;32m----> <a href='vscode-notebook-cell:/Users/carbon/Documents/Semester-5/Data%20Analysis%20%26%20Visualization/Project/api_extract.ipynb#X15sZmlsZQ%3D%3D?line=4'>5</a>\u001b[0m sleep(\u001b[39m30\u001b[39;49m)\n",
      "\u001b[0;31mKeyboardInterrupt\u001b[0m: "
     ]
    }
   ],
   "source": [
    "time_stamp = 1609441200\n",
    "for i in range(2):\n",
    "    get_day(time_stamp)\n",
    "    time_stamp += 86400"
   ]
  }
 ],
 "metadata": {
  "kernelspec": {
   "display_name": "Python 3.9.12 ('base')",
   "language": "python",
   "name": "python3"
  },
  "language_info": {
   "codemirror_mode": {
    "name": "ipython",
    "version": 3
   },
   "file_extension": ".py",
   "mimetype": "text/x-python",
   "name": "python",
   "nbconvert_exporter": "python",
   "pygments_lexer": "ipython3",
   "version": "3.9.12"
  },
  "orig_nbformat": 4,
  "vscode": {
   "interpreter": {
    "hash": "40d3a090f54c6569ab1632332b64b2c03c39dcf918b08424e98f38b5ae0af88f"
   }
  }
 },
 "nbformat": 4,
 "nbformat_minor": 2
}
