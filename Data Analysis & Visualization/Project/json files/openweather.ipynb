{
 "cells": [
  {
   "cell_type": "code",
   "execution_count": 9,
   "metadata": {},
   "outputs": [],
   "source": [
    "# This file reads and transforms all open weather json files into a single csv file"
   ]
  },
  {
   "cell_type": "code",
   "execution_count": 10,
   "metadata": {},
   "outputs": [],
   "source": [
    "# function to convert utc to human readable time\n",
    "def utc2time(ts):\n",
    "    import datetime\n",
    "    return list(map(int,datetime.datetime.utcfromtimestamp(ts).strftime('%Y %m %d %H').split()))"
   ]
  },
  {
   "cell_type": "code",
   "execution_count": 11,
   "metadata": {},
   "outputs": [],
   "source": [
    "def params(data,hour,index,lon,lat):\n",
    "    # a function that returns a list of parameters against a given json\n",
    "    dt=data['list'][hour]['dt']\n",
    "    aqi=data['list'][hour]['main']['aqi']\n",
    "    co=data['list'][hour]['components']['co']\n",
    "    no=data['list'][hour]['components']['no']\n",
    "    no2=data['list'][hour]['components']['no2']\n",
    "    o3=data['list'][hour]['components']['o3']\n",
    "    so2=data['list'][hour]['components']['so2']\n",
    "    pm2_5=data['list'][hour]['components']['pm2_5']\n",
    "    pm10=data['list'][hour]['components']['pm10']\n",
    "    nh3=data['list'][hour]['components']['nh3']\n",
    "\n",
    "    temp=utc2time(dt)\n",
    "\n",
    "    return [temp[0],temp[1],temp[2],temp[3],index,lon,lat,aqi,co,no,no2,o3,so2,nh3,pm2_5,pm10]"
   ]
  },
  {
   "cell_type": "code",
   "execution_count": 12,
   "metadata": {},
   "outputs": [],
   "source": [
    "# function returns dataframe with temperature and dewpoint for longitude and latitude\n",
    "def get_meteo(longitude,latitude):\n",
    "    import pandas as pd\n",
    "    import requests\n",
    "    response = requests.get('https://archive-api.open-meteo.com/v1/era5?latitude='+str(latitude)+'&longitude='+str(longitude)+'&start_date=2021-01-01&end_date=2021-12-31&hourly=temperature_2m,dewpoint_2m')\n",
    "    data=response.json()\n",
    "    df=pd.DataFrame(data['hourly']['temperature_2m'],columns=['temperature'])\n",
    "    df['dewpoint']=data['hourly']['dewpoint_2m']\n",
    "    df.drop([i for i in range(624,649)])\n",
    "    return df"
   ]
  },
  {
   "cell_type": "code",
   "execution_count": 13,
   "metadata": {},
   "outputs": [],
   "source": [
    "# this function reads indexed file, transforms and returns a dataframe\n",
    "\n",
    "def read_file(index):\n",
    "    import pandas as pd\n",
    "    import json\n",
    "\n",
    "    # reading the json file\n",
    "    with open(f'air_pollution{index}.json') as f:\n",
    "        data = json.load(f)\n",
    "\n",
    "    # defining longitude and latitude\n",
    "    lon=data['coord']['lon']\n",
    "    lat=data['coord']['lat']\n",
    "\n",
    "    # Transforming the json file into a dataframe\n",
    "    arr=[]\n",
    "    for i in range(len(data['list'])):\n",
    "        arr.append(params(data,i,index,lon,lat))\n",
    "    df1 = pd.DataFrame(arr,columns=['year','month','day','hour','zone','lon','lat','aqi','co','no','no2','o3','so2','nh3','pm2_5','pm10'])\n",
    "    df2=get_meteo(lon,lat)\n",
    "    df1['temperature']=df2['temperature']\n",
    "    df1['dewpoint']=df2['dewpoint']\n",
    "    return df1"
   ]
  },
  {
   "cell_type": "code",
   "execution_count": 14,
   "metadata": {},
   "outputs": [],
   "source": [
    "arr=[read_file(i).drop([624,8734]) for i in range(1,91)] # need to drop record for 27 jan and last record for each file"
   ]
  },
  {
   "cell_type": "code",
   "execution_count": 15,
   "metadata": {},
   "outputs": [],
   "source": [
    "# combining all the dataframes into a single dataframe\n",
    "import pandas as pd\n",
    "pd.concat(arr, axis=0).sort_index(kind='merge').to_csv('data.csv', index=False, mode='a')"
   ]
  }
 ],
 "metadata": {
  "kernelspec": {
   "display_name": "Python 3.9.12 ('base')",
   "language": "python",
   "name": "python3"
  },
  "language_info": {
   "codemirror_mode": {
    "name": "ipython",
    "version": 3
   },
   "file_extension": ".py",
   "mimetype": "text/x-python",
   "name": "python",
   "nbconvert_exporter": "python",
   "pygments_lexer": "ipython3",
   "version": "3.9.12"
  },
  "orig_nbformat": 4,
  "vscode": {
   "interpreter": {
    "hash": "40d3a090f54c6569ab1632332b64b2c03c39dcf918b08424e98f38b5ae0af88f"
   }
  }
 },
 "nbformat": 4,
 "nbformat_minor": 2
}
