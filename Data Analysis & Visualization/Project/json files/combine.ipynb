{
 "cells": [
  {
   "cell_type": "code",
   "execution_count": 3,
   "metadata": {},
   "outputs": [],
   "source": [
    "# this cell combines two json files into one dataframe after all the preprocessing steps\n",
    "\n",
    "# fucntion for date conversion of openweather data\n",
    "def convert_date(ts):\n",
    "    import pandas as pd\n",
    "    ts=pd.to_datetime(ts, unit='s')\n",
    "    year=ts.year\n",
    "    month=ts.month\n",
    "    day=ts.day\n",
    "    hour=ts.hour\n",
    "    return [year, month, day, hour]\n",
    "\n",
    "# combining the two json files into one dataframe for a particular zone\n",
    "def combine_data(zone):\n",
    "        import pandas as pd\n",
    "        import json\n",
    "\n",
    "        # reading openweather data\n",
    "        with open(f\"openweather/air_pollution{zone}.json\") as f:\n",
    "                openweather = json.load(f)\n",
    "\n",
    "        # getting longitude and latitude\n",
    "        longitude = openweather['coord']['lon']\n",
    "        latitude = openweather['coord']['lat']\n",
    "\n",
    "        # converting openweather data to dataframe\n",
    "        arr=[convert_date(openweather['list'][i]['dt'])+[zone, longitude,latitude,openweather['list'][0]['main']['aqi']]+\n",
    "                list(openweather['list'][i]['components'].values()) for i in range(len(openweather['list']))]\n",
    "        openweather = pd.DataFrame(arr, columns=['year','month','day','hour','zone',\n",
    "                'longitude','latitude','aqi','co','no','no2','o3','so2','pm2_5','pm10','nh3'])\n",
    "\n",
    "\n",
    "        # reading meteo data\n",
    "        with open(f\"meteo/temperature{zone}.json\") as f:\n",
    "                meteo = json.load(f)\n",
    "        \n",
    "        arr=[convert_date(pd.to_datetime(meteo['hourly']['time'][i]))+[longitude,latitude,\n",
    "                meteo['hourly']['temperature_2m'][i], meteo['hourly']['dewpoint_2m'][i]] for i in range(len(meteo['hourly']['time']))]\n",
    "        meteo = pd.DataFrame(arr, columns=['year','month','day','hour','longitude','latitude','temperature','dewpt'])\n",
    "        \n",
    "        # # reading weatherbit data\n",
    "        # with open(f\"weatherbit/temperature{zone}.json\") as f:\n",
    "        #         weatherbit = json.load(f)\n",
    "\n",
    "        # arr=[convert_date(weatherbit['data'][i]['ts'])+[longitude,latitude]+[weatherbit['data'][i]['app_temp']\n",
    "        #         ,weatherbit['data'][i]['dewpt'],weatherbit['data'][i]['weather']['description']] for i in range(len(weatherbit['data']))]\n",
    "        # weatherbit = pd.DataFrame(arr, columns=['year','month','day','hour','longitude','latitude','temperature','dewpt','condition'])\n",
    "\n",
    "        # merging openweather and weatherbit data\n",
    "        return pd.merge(openweather, meteo, on=['year','month','day','hour','longitude','latitude']).drop([8734])"
   ]
  },
  {
   "cell_type": "code",
   "execution_count": 4,
   "metadata": {},
   "outputs": [],
   "source": [
    "combine_data(1).to_csv('data.csv', index=False)"
   ]
  },
  {
   "cell_type": "code",
   "execution_count": 5,
   "metadata": {},
   "outputs": [],
   "source": [
    "# concatenating all the dataframes into one\n",
    "import pandas as pd\n",
    "pd.concat([combine_data(i) for i in range(1, 91)]).sort_index(kind='merge').to_csv('combined_data.csv', index=False)"
   ]
  },
  {
   "cell_type": "code",
   "execution_count": 6,
   "metadata": {},
   "outputs": [
    {
     "data": {
      "text/plain": [
       "'\\nFollowing data is missing from the combined data:\\n   1. 2021-01-27 00:01:00 - 2021-01-27 23:59:59 ~ 23 records\\n   2. 2021-01-28 00:00:00 - 2021-01-28 00:59:59 ~ 1 record\\n   3. 2021-12-31 22:00:00 - 2021-12-31 22:59:59 ~ 1 record\\n\\n   Total missing records per zone: 25\\n   Total missing records for 90 zones: 2250\\n   \\n   Total records in combined data: 1,44,250\\n'"
      ]
     },
     "execution_count": 6,
     "metadata": {},
     "output_type": "execute_result"
    }
   ],
   "source": [
    " '''\n",
    " Following data is missing from the combined data:\n",
    "    1. 2021-01-27 00:01:00 - 2021-01-27 23:59:59 ~ 23 records\n",
    "    2. 2021-01-28 00:00:00 - 2021-01-28 00:59:59 ~ 1 record\n",
    "    3. 2021-12-31 22:00:00 - 2021-12-31 22:59:59 ~ 1 record\n",
    "\n",
    "    Total missing records per zone: 25\n",
    "    Total missing records for 90 zones: 2250\n",
    "    \n",
    "    Total records in combined data: 1,44,250\n",
    " '''"
   ]
  }
 ],
 "metadata": {
  "kernelspec": {
   "display_name": "Python 3.9.12 ('base')",
   "language": "python",
   "name": "python3"
  },
  "language_info": {
   "codemirror_mode": {
    "name": "ipython",
    "version": 3
   },
   "file_extension": ".py",
   "mimetype": "text/x-python",
   "name": "python",
   "nbconvert_exporter": "python",
   "pygments_lexer": "ipython3",
   "version": "3.9.12"
  },
  "orig_nbformat": 4,
  "vscode": {
   "interpreter": {
    "hash": "40d3a090f54c6569ab1632332b64b2c03c39dcf918b08424e98f38b5ae0af88f"
   }
  }
 },
 "nbformat": 4,
 "nbformat_minor": 2
}
