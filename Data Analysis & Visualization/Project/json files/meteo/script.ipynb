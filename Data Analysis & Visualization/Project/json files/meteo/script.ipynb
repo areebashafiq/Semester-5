{
 "cells": [
  {
   "cell_type": "code",
   "execution_count": 6,
   "metadata": {},
   "outputs": [],
   "source": [
    "# creating a list of all the coordinates\n",
    "def make_coord():\n",
    "    coord=[]\n",
    "\n",
    "    count = 1\n",
    "\n",
    "    lat=31.38\n",
    "    for i in range(5):\n",
    "        lon=74.28\n",
    "        for j in range(4):\n",
    "            lon=round(lon,2)\n",
    "            lat=round(lat,2)\n",
    "            coord.append([count,[lat,lon]])\n",
    "            count+=1\n",
    "            # print(f\"lat:{lat}, lon:{lon}\")\n",
    "            lon-=0.04\n",
    "        lat-=0.04\n",
    "\n",
    "    lat=31.28\n",
    "    for i in range(2):\n",
    "        lon=74.12\n",
    "        for j in range(1):\n",
    "            lon=round(lon,2)\n",
    "            lat=round(lat,2)\n",
    "            coord.append([count,[lat,lon]])\n",
    "            count+=1\n",
    "            # print(f\"lat:{lat}, lon:{lon}\")\n",
    "            lon-=0.04\n",
    "        lat-=0.04\n",
    "    return coord"
   ]
  },
  {
   "cell_type": "code",
   "execution_count": 7,
   "metadata": {},
   "outputs": [],
   "source": [
    "# This script extracts data and saves it in a json file\n",
    "\n",
    "import json\n",
    "import requests\n",
    "\n",
    "coord = make_coord()\n",
    "\n",
    "for i in range(len(coord)):\n",
    "    url = f\"https://archive-api.open-meteo.com/v1/era5?latitude={coord[i][1][0]}&longitude={coord[i][1][1]}&start_date=2021-01-01&end_date=2022-09-30&hourly=temperature_2m,dewpoint_2m\"\n",
    "    response = requests.get(url)\n",
    "    data = response.json()\n",
    "\n",
    "    # writing to json file\n",
    "    with open(f\"temperature{coord[i][0]}.json\", \"w\") as outfile:\n",
    "        json.dump(data, outfile)"
   ]
  },
  {
   "cell_type": "code",
   "execution_count": 8,
   "metadata": {},
   "outputs": [
    {
     "data": {
      "text/plain": [
       "1667170800000.0"
      ]
     },
     "execution_count": 8,
     "metadata": {},
     "output_type": "execute_result"
    }
   ],
   "source": [
    "# date time to unix time\n",
    "import datetime\n",
    "import time\n",
    "\n",
    "def unix_time(dt):\n",
    "    epoch = datetime.datetime.utcfromtimestamp(0)\n",
    "    return (dt - epoch).total_seconds() * 1000.0\n",
    "\n",
    "unix_time(datetime.datetime(2022, 10, 30, 23, 0))"
   ]
  }
 ],
 "metadata": {
  "kernelspec": {
   "display_name": "Python 3.9.12 ('base')",
   "language": "python",
   "name": "python3"
  },
  "language_info": {
   "codemirror_mode": {
    "name": "ipython",
    "version": 3
   },
   "file_extension": ".py",
   "mimetype": "text/x-python",
   "name": "python",
   "nbconvert_exporter": "python",
   "pygments_lexer": "ipython3",
   "version": "3.9.12"
  },
  "orig_nbformat": 4,
  "vscode": {
   "interpreter": {
    "hash": "40d3a090f54c6569ab1632332b64b2c03c39dcf918b08424e98f38b5ae0af88f"
   }
  }
 },
 "nbformat": 4,
 "nbformat_minor": 2
}
