{
 "cells": [
  {
   "cell_type": "code",
   "execution_count": 1,
   "metadata": {},
   "outputs": [],
   "source": [
    "# creating a list of all the coordinates\n",
    "def make_coord():\n",
    "    coord=[]\n",
    "\n",
    "    count = 1\n",
    "\n",
    "    lat=31.39\n",
    "    for i in range(10):\n",
    "        lon=74.29\n",
    "        for j in range(8):\n",
    "            lon=round(lon,2)\n",
    "            lat=round(lat,2)\n",
    "            coord.append([count,[lat,lon]])\n",
    "            count+=1\n",
    "            # print(f\"lat:{lat}, lon:{lon}\")\n",
    "            lon-=0.02\n",
    "        lat-=0.02\n",
    "\n",
    "    lat=31.29\n",
    "    for i in range(5):\n",
    "        lon=74.13\n",
    "        for j in range(2):\n",
    "            lon=round(lon,2)\n",
    "            lat=round(lat,2)\n",
    "            coord.append([count,[lat,lon]])\n",
    "            count+=1\n",
    "            # print(f\"lat:{lat}, lon:{lon}\")\n",
    "            lon-=0.02\n",
    "        lat-=0.02\n",
    "    return coord"
   ]
  },
  {
   "cell_type": "code",
   "execution_count": 2,
   "metadata": {},
   "outputs": [],
   "source": [
    "# This script extracts data and saves it in a json file\n",
    "\n",
    "import json\n",
    "import requests\n",
    "\n",
    "coord = make_coord()\n",
    "\n",
    "for i in range(0,90):\n",
    "    url = f\"https://archive-api.open-meteo.com/v1/era5?latitude={coord[i][1][0]}&longitude={coord[i][1][1]}&start_date=2021-01-01&end_date=2022-10-29&hourly=temperature_2m,dewpoint_2m\"\n",
    "    response = requests.get(url)\n",
    "    data = response.json()\n",
    "\n",
    "    # writing to json file\n",
    "    with open(f\"temperature{coord[i][0]}.json\", \"w\") as outfile:\n",
    "        json.dump(data, outfile)"
   ]
  }
 ],
 "metadata": {
  "kernelspec": {
   "display_name": "Python 3.9.12 ('base')",
   "language": "python",
   "name": "python3"
  },
  "language_info": {
   "codemirror_mode": {
    "name": "ipython",
    "version": 3
   },
   "file_extension": ".py",
   "mimetype": "text/x-python",
   "name": "python",
   "nbconvert_exporter": "python",
   "pygments_lexer": "ipython3",
   "version": "3.9.12"
  },
  "orig_nbformat": 4,
  "vscode": {
   "interpreter": {
    "hash": "40d3a090f54c6569ab1632332b64b2c03c39dcf918b08424e98f38b5ae0af88f"
   }
  }
 },
 "nbformat": 4,
 "nbformat_minor": 2
}
