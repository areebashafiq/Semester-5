{
 "cells": [
  {
   "cell_type": "code",
   "execution_count": 7,
   "metadata": {},
   "outputs": [],
   "source": [
    "# creating a list of all the coordinates\n",
    "def make_coord():\n",
    "    coord=[]\n",
    "\n",
    "    count = 1\n",
    "\n",
    "    lat=31.39\n",
    "    for i in range(10):\n",
    "        lon=74.29\n",
    "        for j in range(8):\n",
    "            lon=round(lon,2)\n",
    "            lat=round(lat,2)\n",
    "            coord.append([count,[lat,lon]])\n",
    "            count+=1\n",
    "            # print(f\"lat:{lat}, lon:{lon}\")\n",
    "            lon-=0.02\n",
    "        lat-=0.02\n",
    "\n",
    "    lat=31.29\n",
    "    for i in range(5):\n",
    "        lon=74.13\n",
    "        for j in range(2):\n",
    "            lon=round(lon,2)\n",
    "            lat=round(lat,2)\n",
    "            coord.append([count,[lat,lon]])\n",
    "            count+=1\n",
    "            # print(f\"lat:{lat}, lon:{lon}\")\n",
    "            lon-=0.02\n",
    "        lat-=0.02\n",
    "    return coord"
   ]
  },
  {
   "cell_type": "code",
   "execution_count": null,
   "metadata": {},
   "outputs": [],
   "source": [
    "coord=make_coord()"
   ]
  },
  {
   "cell_type": "code",
   "execution_count": null,
   "metadata": {},
   "outputs": [],
   "source": [
    "# this cell stores api response in a json file\n",
    "def weatherbit(zone):\n",
    "    # weatherbit api\n",
    "    # capturing the api response\n",
    "\n",
    "    coord=make_coord()\n",
    "\n",
    "    import requests\n",
    "    url = f\"https://api.weatherbit.io/v2.0/history/hourly?lat={coord[zone][1][0]}&lon={coord[zone][1][1]}&start_date=2021-01-01%3A00&end_date=2021-12-31%3A24&key=5e76500a32524b8281b8b0ecd8822c19\"\n",
    "    response = requests.get(url)\n",
    "    data = response.json()\n",
    "\n",
    "    # storing the api response in a json file\n",
    "    with open(f\"temperature{coord[zone][0]}.json\",\"w\") as f:\n",
    "        import json\n",
    "        json.dump(data,f)\n",
    "\n",
    "def openweather(zone):\n",
    "    # openweathermap api\n",
    "    # capturing the api response\n",
    "\n",
    "    coord=make_coord()\n",
    "\n",
    "    import requests\n",
    "    url = f\"https://api.openweathermap.org/data/2.5/air_pollution/history?lat={coord[zone][1][0]}&lon={coord[zone][1][1]}&start=1609459200&end=1640995200&appid=8d9efe95caf3922348a458d615abeb8c\"\n",
    "    response = requests.get(url)\n",
    "    data = response.json()\n",
    "\n",
    "    # storing the api response in a json file\n",
    "    with open(f\"air_pollution{coord[zone][0]}.json\",\"w\") as f:\n",
    "        import json\n",
    "        json.dump(data,f)"
   ]
  },
  {
   "cell_type": "code",
   "execution_count": null,
   "metadata": {},
   "outputs": [],
   "source": [
    "# for i in range(0,90):\n",
    "#     openweather(i)"
   ]
  },
  {
   "cell_type": "code",
   "execution_count": null,
   "metadata": {},
   "outputs": [],
   "source": [
    "weatherbit(0)"
   ]
  },
  {
   "cell_type": "code",
   "execution_count": 5,
   "metadata": {},
   "outputs": [],
   "source": [
    "def get_link(zone,key):\n",
    "    # getting the link of the json file\n",
    "    keys=[\n",
    "        '5e76500a32524b8281b8b0ecd8822c19',\n",
    "        '2de09181eb414ef5934361dcea304b71'\n",
    "    ]\n",
    "    coord=make_coord()\n",
    "    return f\"https://api.weatherbit.io/v2.0/history/hourly?lat={coord[zone][1][0]}&lon={coord[zone][1][1]}&start_date=2021-01-01%3A00&end_date=2021-12-31%3A24&key={keys[key]}\""
   ]
  },
  {
   "cell_type": "code",
   "execution_count": 8,
   "metadata": {},
   "outputs": [
    {
     "data": {
      "text/plain": [
       "'https://api.weatherbit.io/v2.0/history/hourly?lat=31.39&lon=74.15&start_date=2021-01-01%3A00&end_date=2021-12-31%3A24&key=5e76500a32524b8281b8b0ecd8822c19'"
      ]
     },
     "execution_count": 8,
     "metadata": {},
     "output_type": "execute_result"
    }
   ],
   "source": [
    "get_link(7,0)"
   ]
  },
  {
   "cell_type": "code",
   "execution_count": 21,
   "metadata": {},
   "outputs": [],
   "source": [
    "def get_data(zone):\n",
    "    import requests\n",
    "    url = get_link(zone)\n",
    "    response = requests.get(url)\n",
    "    data = response.json()\n",
    "    with open(f\"weatherbit/temperature{zone+1}.json\",\"w\") as f:\n",
    "        import json\n",
    "        json.dump(data,f)"
   ]
  },
  {
   "cell_type": "code",
   "execution_count": null,
   "metadata": {},
   "outputs": [],
   "source": [
    "get_data(3)"
   ]
  }
 ],
 "metadata": {
  "kernelspec": {
   "display_name": "Python 3.9.12 ('base')",
   "language": "python",
   "name": "python3"
  },
  "language_info": {
   "codemirror_mode": {
    "name": "ipython",
    "version": 3
   },
   "file_extension": ".py",
   "mimetype": "text/x-python",
   "name": "python",
   "nbconvert_exporter": "python",
   "pygments_lexer": "ipython3",
   "version": "3.9.12"
  },
  "orig_nbformat": 4,
  "vscode": {
   "interpreter": {
    "hash": "40d3a090f54c6569ab1632332b64b2c03c39dcf918b08424e98f38b5ae0af88f"
   }
  }
 },
 "nbformat": 4,
 "nbformat_minor": 2
}
