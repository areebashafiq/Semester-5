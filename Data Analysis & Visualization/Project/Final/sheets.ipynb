{
 "cells": [
  {
   "cell_type": "code",
   "execution_count": 2,
   "metadata": {},
   "outputs": [],
   "source": [
    "# This is a test file implementation for google sheets data"
   ]
  },
  {
   "cell_type": "code",
   "execution_count": null,
   "metadata": {},
   "outputs": [],
   "source": [
    "\"\"\"\n",
    "BEFORE RUNNING:\n",
    "---------------\n",
    "1. If not already done, enable the Google Sheets API\n",
    "   and check the quota for your project at\n",
    "   https://console.developers.google.com/apis/api/sheets\n",
    "2. Install the Python client library for Google APIs by running\n",
    "   `pip install --upgrade google-api-python-client`\n",
    "\"\"\"\n",
    "from pprint import pprint\n",
    "\n",
    "from googleapiclient import discovery\n",
    "\n",
    "# TODO: Change placeholder below to generate authentication credentials. See\n",
    "# https://developers.google.com/sheets/quickstart/python#step_3_set_up_the_sample\n",
    "#\n",
    "# Authorize using one of the following scopes:\n",
    "#     'https://www.googleapis.com/auth/drive'\n",
    "#     'https://www.googleapis.com/auth/drive.file'\n",
    "#     'https://www.googleapis.com/auth/spreadsheets'\n",
    "credentials = None\n",
    "\n",
    "service = discovery.build('sheets', 'v4', credentials=credentials)\n",
    "\n",
    "# The ID of the spreadsheet to update.\n",
    "spreadsheet_id = '1MnrmEo99y1kl5Dc02teGmyUslMS5xYdfkJYKR3GX23g'  # TODO: Update placeholder value.\n",
    "\n",
    "# The A1 notation of a range to search for a logical table of data.\n",
    "# Values will be appended after the last row of the table.\n",
    "range_ = 'A1:H1'  # TODO: Update placeholder value.\n",
    "\n",
    "# How the input data should be interpreted.\n",
    "value_input_option = ''  # TODO: Update placeholder value.\n",
    "\n",
    "# How the input data should be inserted.\n",
    "insert_data_option = ''  # TODO: Update placeholder value.\n",
    "\n",
    "value_range_body = {\n",
    "    # TODO: Add desired entries to the request body.\n",
    "}\n",
    "\n",
    "request = service.spreadsheets().values().append(spreadsheetId=spreadsheet_id, range=range_, valueInputOption=value_input_option, insertDataOption=insert_data_option, body=value_range_body)\n",
    "response = request.execute()\n",
    "\n",
    "# TODO: Change code below to process the `response` dict:\n",
    "pprint(response)"
   ]
  },
  {
   "cell_type": "code",
   "execution_count": 4,
   "metadata": {},
   "outputs": [
    {
     "ename": "ValueError",
     "evalue": "('Unexpected credentials type', None, 'Expected', 'service_account')",
     "output_type": "error",
     "traceback": [
      "\u001b[0;31m---------------------------------------------------------------------------\u001b[0m",
      "\u001b[0;31mValueError\u001b[0m                                Traceback (most recent call last)",
      "\u001b[1;32m/Users/carbon/Documents/Semester-5/Data Analysis & Visualization/Project/sheets.ipynb Cell 3\u001b[0m in \u001b[0;36m<cell line: 10>\u001b[0;34m()\u001b[0m\n\u001b[1;32m      <a href='vscode-notebook-cell:/Users/carbon/Documents/Semester-5/Data%20Analysis%20%26%20Visualization/Project/sheets.ipynb#W3sZmlsZQ%3D%3D?line=6'>7</a>\u001b[0m \u001b[39m# use creds to create a client to interact with the Google Drive API\u001b[39;00m\n\u001b[1;32m      <a href='vscode-notebook-cell:/Users/carbon/Documents/Semester-5/Data%20Analysis%20%26%20Visualization/Project/sheets.ipynb#W3sZmlsZQ%3D%3D?line=7'>8</a>\u001b[0m scope \u001b[39m=\u001b[39m [\u001b[39m'\u001b[39m\u001b[39mhttps://spreadsheets.google.com/feeds\u001b[39m\u001b[39m'\u001b[39m,\n\u001b[1;32m      <a href='vscode-notebook-cell:/Users/carbon/Documents/Semester-5/Data%20Analysis%20%26%20Visualization/Project/sheets.ipynb#W3sZmlsZQ%3D%3D?line=8'>9</a>\u001b[0m             \u001b[39m'\u001b[39m\u001b[39mhttps://www.googleapis.com/auth/drive\u001b[39m\u001b[39m'\u001b[39m]\n\u001b[0;32m---> <a href='vscode-notebook-cell:/Users/carbon/Documents/Semester-5/Data%20Analysis%20%26%20Visualization/Project/sheets.ipynb#W3sZmlsZQ%3D%3D?line=9'>10</a>\u001b[0m creds \u001b[39m=\u001b[39m ServiceAccountCredentials\u001b[39m.\u001b[39;49mfrom_json_keyfile_name(\u001b[39m'\u001b[39;49m\u001b[39mcredentials.json\u001b[39;49m\u001b[39m'\u001b[39;49m, scope)\n\u001b[1;32m     <a href='vscode-notebook-cell:/Users/carbon/Documents/Semester-5/Data%20Analysis%20%26%20Visualization/Project/sheets.ipynb#W3sZmlsZQ%3D%3D?line=10'>11</a>\u001b[0m client \u001b[39m=\u001b[39m gspread\u001b[39m.\u001b[39mauthorize(creds)\n\u001b[1;32m     <a href='vscode-notebook-cell:/Users/carbon/Documents/Semester-5/Data%20Analysis%20%26%20Visualization/Project/sheets.ipynb#W3sZmlsZQ%3D%3D?line=12'>13</a>\u001b[0m \u001b[39m# Find a workbook by name and open the first sheet\u001b[39;00m\n\u001b[1;32m     <a href='vscode-notebook-cell:/Users/carbon/Documents/Semester-5/Data%20Analysis%20%26%20Visualization/Project/sheets.ipynb#W3sZmlsZQ%3D%3D?line=13'>14</a>\u001b[0m \u001b[39m# Make sure you use the right name here.\u001b[39;00m\n",
      "File \u001b[0;32m/opt/anaconda3/lib/python3.9/site-packages/oauth2client/service_account.py:221\u001b[0m, in \u001b[0;36mServiceAccountCredentials.from_json_keyfile_name\u001b[0;34m(cls, filename, scopes, token_uri, revoke_uri)\u001b[0m\n\u001b[1;32m    219\u001b[0m \u001b[39mwith\u001b[39;00m \u001b[39mopen\u001b[39m(filename, \u001b[39m'\u001b[39m\u001b[39mr\u001b[39m\u001b[39m'\u001b[39m) \u001b[39mas\u001b[39;00m file_obj:\n\u001b[1;32m    220\u001b[0m     client_credentials \u001b[39m=\u001b[39m json\u001b[39m.\u001b[39mload(file_obj)\n\u001b[0;32m--> 221\u001b[0m \u001b[39mreturn\u001b[39;00m \u001b[39mcls\u001b[39;49m\u001b[39m.\u001b[39;49m_from_parsed_json_keyfile(client_credentials, scopes,\n\u001b[1;32m    222\u001b[0m                                      token_uri\u001b[39m=\u001b[39;49mtoken_uri,\n\u001b[1;32m    223\u001b[0m                                      revoke_uri\u001b[39m=\u001b[39;49mrevoke_uri)\n",
      "File \u001b[0;32m/opt/anaconda3/lib/python3.9/site-packages/oauth2client/service_account.py:171\u001b[0m, in \u001b[0;36mServiceAccountCredentials._from_parsed_json_keyfile\u001b[0;34m(cls, keyfile_dict, scopes, token_uri, revoke_uri)\u001b[0m\n\u001b[1;32m    169\u001b[0m creds_type \u001b[39m=\u001b[39m keyfile_dict\u001b[39m.\u001b[39mget(\u001b[39m'\u001b[39m\u001b[39mtype\u001b[39m\u001b[39m'\u001b[39m)\n\u001b[1;32m    170\u001b[0m \u001b[39mif\u001b[39;00m creds_type \u001b[39m!=\u001b[39m client\u001b[39m.\u001b[39mSERVICE_ACCOUNT:\n\u001b[0;32m--> 171\u001b[0m     \u001b[39mraise\u001b[39;00m \u001b[39mValueError\u001b[39;00m(\u001b[39m'\u001b[39m\u001b[39mUnexpected credentials type\u001b[39m\u001b[39m'\u001b[39m, creds_type,\n\u001b[1;32m    172\u001b[0m                      \u001b[39m'\u001b[39m\u001b[39mExpected\u001b[39m\u001b[39m'\u001b[39m, client\u001b[39m.\u001b[39mSERVICE_ACCOUNT)\n\u001b[1;32m    174\u001b[0m service_account_email \u001b[39m=\u001b[39m keyfile_dict[\u001b[39m'\u001b[39m\u001b[39mclient_email\u001b[39m\u001b[39m'\u001b[39m]\n\u001b[1;32m    175\u001b[0m private_key_pkcs8_pem \u001b[39m=\u001b[39m keyfile_dict[\u001b[39m'\u001b[39m\u001b[39mprivate_key\u001b[39m\u001b[39m'\u001b[39m]\n",
      "\u001b[0;31mValueError\u001b[0m: ('Unexpected credentials type', None, 'Expected', 'service_account')"
     ]
    }
   ],
   "source": [
    "# this file contains code to write a row to google sheets\n",
    "# using the google sheets api\n",
    "\n",
    "import gspread\n",
    "from oauth2client.service_account import ServiceAccountCredentials\n",
    "\n",
    "# use creds to create a client to interact with the Google Drive API\n",
    "scope = ['https://spreadsheets.google.com/feeds',\n",
    "            'https://www.googleapis.com/auth/drive']\n",
    "creds = ServiceAccountCredentials.from_json_keyfile_name('credentials.json', scope)\n",
    "client = gspread.authorize(creds)\n",
    "\n",
    "# Find a workbook by name and open the first sheet\n",
    "# Make sure you use the right name here.\n",
    "sheet = client.open(\"Open Weather\").november22\n",
    "\n",
    "# Extract and print all of the values\n",
    "list_of_hashes = sheet.get_all_records()\n",
    "print(list_of_hashes)\n",
    "\n",
    "# write a row to the sheet\n",
    "sheet.append_row([1, 2, 3])"
   ]
  },
  {
   "cell_type": "code",
   "execution_count": null,
   "metadata": {},
   "outputs": [],
   "source": [
    "# appending a row to a google sheet using python\n",
    "# https://stackoverflow.com/questions/50670234/appending-a-row-to-a-google-sheet-using-python\n"
   ]
  }
 ],
 "metadata": {
  "kernelspec": {
   "display_name": "Python 3.9.12 ('base')",
   "language": "python",
   "name": "python3"
  },
  "language_info": {
   "codemirror_mode": {
    "name": "ipython",
    "version": 3
   },
   "file_extension": ".py",
   "mimetype": "text/x-python",
   "name": "python",
   "nbconvert_exporter": "python",
   "pygments_lexer": "ipython3",
   "version": "3.9.12"
  },
  "orig_nbformat": 4,
  "vscode": {
   "interpreter": {
    "hash": "40d3a090f54c6569ab1632332b64b2c03c39dcf918b08424e98f38b5ae0af88f"
   }
  }
 },
 "nbformat": 4,
 "nbformat_minor": 2
}
