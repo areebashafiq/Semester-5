{
 "cells": [
  {
   "cell_type": "code",
   "execution_count": null,
   "metadata": {},
   "outputs": [],
   "source": [
    "import dash\n",
    "from dash import html\n",
    "from dash.dependencies import Input, Output\n",
    "from datetime import datetime\n",
    "import time\n",
    "\n",
    "app = dash.Dash()\n",
    "\n",
    "app.layout = html.Div(\n",
    "    [\n",
    "        html.Button(\"execute callbacks\", id=\"button_2\"),\n",
    "        html.Div(id=\"first_output_2\"),\n",
    "        html.Div(children=\"callback not executed\", id=\"second_output_2\"),\n",
    "        html.Div(children=\"callback not executed\", id=\"third_output_2\"),\n",
    "        html.Div(children=\"callback not executed\", id=\"fourth_output_2\"),\n",
    "    ]\n",
    ")\n",
    "\n",
    "\n",
    "@app.callback(\n",
    "    Output(\"first_output_2\", \"children\"),\n",
    "    Output(\"second_output_2\", \"children\"),\n",
    "    Input(\"button_2\", \"n_clicks\"), prevent_initial_call=True)\n",
    "def first_callback(n):\n",
    "    now = datetime.now()\n",
    "    current_time = now.strftime(\"%H:%M:%S\")\n",
    "    return [\"in the first callback it is \" + current_time, \"in the first callback it is \" + current_time]\n",
    "\n",
    "\n",
    "@app.callback(\n",
    "    Output(\"third_output_2\", \"children\"), Input(\"second_output_2\", \"children\"), prevent_initial_call=True)\n",
    "def second_callback(n):\n",
    "    time.sleep(2)\n",
    "    now = datetime.now()\n",
    "    current_time = now.strftime(\"%H:%M:%S\")\n",
    "    return \"in the second callback it is \" + current_time\n",
    "\n",
    "\n",
    "@app.callback(\n",
    "    Output(\"fourth_output_2\", \"children\"),\n",
    "    Input(\"first_output_2\", \"children\"),\n",
    "    Input(\"third_output_2\", \"children\"), prevent_initial_call=True)\n",
    "def third_output(n, m):\n",
    "    time.sleep(2)\n",
    "    now = datetime.now()\n",
    "    current_time = now.strftime(\"%H:%M:%S\")\n",
    "    return \"in the third callback it is \" + current_time\n",
    "\n",
    "\n",
    "if __name__ == '__main__':\n",
    "    app.run_server(debug=False)\n"
   ]
  },
  {
   "cell_type": "code",
   "execution_count": 1,
   "metadata": {},
   "outputs": [
    {
     "name": "stdout",
     "output_type": "stream",
     "text": [
      "Dash is running on http://127.0.0.1:8050/\n",
      "\n",
      " * Serving Flask app '__main__'\n",
      " * Debug mode: off\n"
     ]
    },
    {
     "name": "stderr",
     "output_type": "stream",
     "text": [
      "WARNING: This is a development server. Do not use it in a production deployment. Use a production WSGI server instead.\n",
      " * Running on http://127.0.0.1:8050\n",
      "Press CTRL+C to quit\n",
      "127.0.0.1 - - [26/Nov/2022 11:48:22] \"GET / HTTP/1.1\" 200 -\n",
      "127.0.0.1 - - [26/Nov/2022 11:48:22] \"GET /_dash-layout HTTP/1.1\" 200 -\n",
      "127.0.0.1 - - [26/Nov/2022 11:48:22] \"GET /_dash-dependencies HTTP/1.1\" 200 -\n",
      "127.0.0.1 - - [26/Nov/2022 11:48:23] \"GET /_reload-hash HTTP/1.1\" 200 -\n",
      "127.0.0.1 - - [26/Nov/2022 11:48:24] \"POST /_dash-update-component HTTP/1.1\" 200 -\n",
      "127.0.0.1 - - [26/Nov/2022 11:48:25] \"POST /_dash-update-component HTTP/1.1\" 200 -\n",
      "127.0.0.1 - - [26/Nov/2022 11:48:25] \"POST /_dash-update-component HTTP/1.1\" 200 -\n",
      "127.0.0.1 - - [26/Nov/2022 11:48:26] \"POST /_dash-update-component HTTP/1.1\" 200 -\n",
      "127.0.0.1 - - [26/Nov/2022 11:48:26] \"POST /_dash-update-component HTTP/1.1\" 200 -\n",
      "127.0.0.1 - - [26/Nov/2022 11:48:26] \"POST /_dash-update-component HTTP/1.1\" 200 -\n",
      "127.0.0.1 - - [26/Nov/2022 11:48:26] \"POST /_dash-update-component HTTP/1.1\" 200 -\n",
      "127.0.0.1 - - [26/Nov/2022 11:48:26] \"POST /_dash-update-component HTTP/1.1\" 200 -\n",
      "127.0.0.1 - - [26/Nov/2022 11:48:26] \"POST /_dash-update-component HTTP/1.1\" 200 -\n",
      "127.0.0.1 - - [26/Nov/2022 11:48:31] \"GET /_dash-layout HTTP/1.1\" 200 -\n",
      "127.0.0.1 - - [26/Nov/2022 11:48:31] \"GET /_dash-dependencies HTTP/1.1\" 200 -\n"
     ]
    }
   ],
   "source": [
    "from dash import Dash, html, dcc\n",
    "from dash.dependencies import Input, Output\n",
    "from dash.exceptions import PreventUpdate\n",
    "import plotly.express as px\n",
    "import pandas as pd\n",
    "\n",
    "external_stylesheets = ['https://codepen.io/chriddyp/pen/bWLwgP.css']\n",
    "\n",
    "app = Dash(__name__, external_stylesheets=external_stylesheets)\n",
    "\n",
    "fig=px.scatter(pd.DataFrame({'x':[1,2,3],'y':[1,2,3]}),x='x',y='y')\n",
    "\n",
    "app.layout = html.Div([\n",
    "    dcc.Input(id='input-1', type='text', value='Montréal'),\n",
    "    html.Button('Click here to see the content', id='show-secret'),\n",
    "    html.Div(id='body-div'),\n",
    "    # dcc.Graph(id='body-div',figure=fig)\n",
    "])\n",
    "\n",
    "@app.callback(\n",
    "    Output(component_id='body-div', component_property='children'),\n",
    "    Input(component_id='show-secret', component_property='n_clicks'),\n",
    "    Input(component_id='input-1', component_property='value'),\n",
    "    prevent_initial_call=True\n",
    ")\n",
    "def update_output(n_clicks,value):\n",
    "    if n_clicks is None:\n",
    "        raise PreventUpdate\n",
    "    else:\n",
    "        df = pd.DataFrame({\n",
    "            \"Fruit\": [\"Apples\", \"Oranges\", \"Bananas\", \"Apples\", \"Oranges\", \"Bananas\"],\n",
    "            \"Amount\": [4, 1, 2, 2, 4, 5],\n",
    "            \"City\": [\"SF\", \"SF\", \"SF\", \"Montreal\", \"Montreal\", \"Montreal\"]\n",
    "        })\n",
    "        fig = px.bar(df, x=\"Fruit\", y=\"Amount\", color=\"City\", barmode=\"group\")\n",
    "        val=value\n",
    "        return val\n",
    "\n",
    "if __name__ == '__main__':\n",
    "    app.run_server(debug=False)"
   ]
  },
  {
   "cell_type": "code",
   "execution_count": null,
   "metadata": {},
   "outputs": [],
   "source": [
    "from dash import dcc\n",
    "help(dcc.Graph)"
   ]
  }
 ],
 "metadata": {
  "kernelspec": {
   "display_name": "Python 3.9 (tensorflow)",
   "language": "python",
   "name": "tensorflow"
  },
  "language_info": {
   "codemirror_mode": {
    "name": "ipython",
    "version": 3
   },
   "file_extension": ".py",
   "mimetype": "text/x-python",
   "name": "python",
   "nbconvert_exporter": "python",
   "pygments_lexer": "ipython3",
   "version": "3.9.13"
  },
  "orig_nbformat": 4
 },
 "nbformat": 4,
 "nbformat_minor": 2
}
