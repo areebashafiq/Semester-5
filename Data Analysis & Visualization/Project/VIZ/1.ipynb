{
 "cells": [
  {
   "cell_type": "code",
   "execution_count": 1,
   "metadata": {},
   "outputs": [],
   "source": [
    "# this cell combines two json files into one dataframe after all the preprocessing steps\n",
    "\n",
    "# fucntion for date conversion of openweather data\n",
    "def convert_date(ts):\n",
    "    import pandas as pd\n",
    "    ts=pd.to_datetime(ts, unit='s')\n",
    "    year=ts.year\n",
    "    month=ts.month\n",
    "    day=ts.day\n",
    "    hour=ts.hour\n",
    "    return [year, month, day, hour]\n",
    "\n",
    "# combining the two json files into one dataframe for a particular zone\n",
    "def combine_data():\n",
    "        import pandas as pd\n",
    "        import json\n",
    "\n",
    "        # reading openweather data\n",
    "        with open(f\"openweather.json\") as f:\n",
    "                openweather = json.load(f)\n",
    "\n",
    "        # getting longitude and latitude\n",
    "        longitude = openweather['coord']['lon']\n",
    "        latitude = openweather['coord']['lat']\n",
    "\n",
    "        # converting openweather data to dataframe\n",
    "        arr=[convert_date(openweather['list'][i]['dt'])+[longitude,latitude,openweather['list'][0]['main']['aqi']]+\n",
    "                list(openweather['list'][i]['components'].values()) for i in range(len(openweather['list']))]\n",
    "        openweather = pd.DataFrame(arr, columns=['year','month','day','hour',\n",
    "                'longitude','latitude','aqi','co','no','no2','o3','so2','pm2_5','pm10','nh3'])\n",
    "\n",
    "\n",
    "        # reading meteo data\n",
    "        with open(f\"meteo.json\") as f:\n",
    "                meteo = json.load(f)\n",
    "        \n",
    "        arr=[convert_date(pd.to_datetime(meteo['hourly']['time'][i]))+[longitude,latitude,\n",
    "                meteo['hourly']['temperature_2m'][i], meteo['hourly']['dewpoint_2m'][i]] for i in range(len(meteo['hourly']['time']))]\n",
    "        meteo = pd.DataFrame(arr, columns=['year','month','day','hour','longitude','latitude','temperature','dewpt'])\n",
    "        \n",
    "        # combining the two dataframes\n",
    "        pd.merge(openweather, meteo, on=['year','month','day','hour','longitude','latitude']).drop([8734]).sort_index(kind='merge').to_csv('combined_data.csv', index=False)"
   ]
  },
  {
   "cell_type": "code",
   "execution_count": 2,
   "metadata": {},
   "outputs": [],
   "source": [
    "# function to get weather data and store it in csv file\n",
    "\n",
    "def getweather(lon, lat):\n",
    "    # openweathermap api\n",
    "    # capturing the api response\n",
    "\n",
    "    import requests\n",
    "    # url = f\"https://api.openweathermap.org/data/2.5/air_pollution/history?lat={coord[zone][1][0]}&lon={coord[zone][1][1]}&start=1609459200&end=1640995200&appid=8d9efe95caf3922348a458d615abeb8c\"\n",
    "    url = f\"https://api.openweathermap.org/data/2.5/air_pollution/history?lat={lat}&lon={lon}&start=1609459200&end=1667170800&appid=8d9efe95caf3922348a458d615abeb8c\"\n",
    "    url1 = f\"https://archive-api.open-meteo.com/v1/era5?latitude={lat}&longitude={lon}&start_date=2021-01-01&end_date=2022-09-30&hourly=temperature_2m,dewpoint_2m\"\n",
    "    response = requests.get(url)\n",
    "    response1 = requests.get(url1)\n",
    "    data = response.json()\n",
    "    data1 = response1.json()\n",
    "\n",
    "    # storing the api response in a json file\n",
    "    with open(f\"openweather.json\",\"w\") as f:\n",
    "        import json\n",
    "        json.dump(data,f)\n",
    "\n",
    "    # storing the api response in a json file\n",
    "    with open(f\"meteo.json\",\"w\") as f:\n",
    "        import json\n",
    "        json.dump(data1,f)\n",
    "    combine_data()"
   ]
  },
  {
   "cell_type": "code",
   "execution_count": 3,
   "metadata": {},
   "outputs": [],
   "source": [
    "def plot():\n",
    "    import pandas as pd\n",
    "\n",
    "    df=pd.read_csv('combined_data.csv')\n",
    "    df.head()\n",
    "\n",
    "    # converting the date column to datetime\n",
    "    date_time = pd.to_datetime(df[['year','month','day','hour']], format='%Y-%m-%d %H:%M:%S')\n",
    "    # df.drop(['month','day','hour','zone','longitude','latitude','aqi'], axis=1, inplace=True)\n",
    "    df['Date Time'] = date_time\n",
    "\n",
    "    # reanaming year to date\n",
    "    # df.rename(columns={'year':'Date Time'}, inplace=True)\n",
    "    # return df\n",
    "\n",
    "    # creating a plotly line chart\n",
    "    import plotly.express as px\n",
    "    return px.line(df, x='Date Time', y='pm10', title='PM10')"
   ]
  },
  {
   "cell_type": "code",
   "execution_count": 4,
   "metadata": {},
   "outputs": [
    {
     "name": "stdout",
     "output_type": "stream",
     "text": [
      "Dash is running on http://127.0.0.1:8050/\n",
      "\n",
      " * Serving Flask app '__main__'\n",
      " * Debug mode: off\n"
     ]
    },
    {
     "name": "stderr",
     "output_type": "stream",
     "text": [
      "WARNING: This is a development server. Do not use it in a production deployment. Use a production WSGI server instead.\n",
      " * Running on http://127.0.0.1:8050\n",
      "Press CTRL+C to quit\n",
      "127.0.0.1 - - [25/Nov/2022 23:31:27] \"GET / HTTP/1.1\" 200 -\n",
      "127.0.0.1 - - [25/Nov/2022 23:31:27] \"GET /_dash-layout HTTP/1.1\" 200 -\n",
      "127.0.0.1 - - [25/Nov/2022 23:31:27] \"GET /_dash-dependencies HTTP/1.1\" 200 -\n",
      "127.0.0.1 - - [25/Nov/2022 23:31:27] \"GET /_dash-component-suites/dash/dcc/async-graph.js HTTP/1.1\" 304 -\n",
      "127.0.0.1 - - [25/Nov/2022 23:31:27] \"GET /_dash-component-suites/dash/dcc/async-plotlyjs.js HTTP/1.1\" 304 -\n",
      "127.0.0.1 - - [25/Nov/2022 23:31:27] \"POST /_dash-update-component HTTP/1.1\" 204 -\n"
     ]
    },
    {
     "name": "stdout",
     "output_type": "stream",
     "text": [
      "Exception on /_dash-update-component [POST]\n",
      "Traceback (most recent call last):\n",
      "  File \"/opt/miniconda3/envs/tensorflow/lib/python3.9/site-packages/flask/app.py\", line 2525, in wsgi_app\n",
      "    response = self.full_dispatch_request()\n",
      "  File \"/opt/miniconda3/envs/tensorflow/lib/python3.9/site-packages/flask/app.py\", line 1822, in full_dispatch_request\n",
      "    rv = self.handle_user_exception(e)\n",
      "  File \"/opt/miniconda3/envs/tensorflow/lib/python3.9/site-packages/flask/app.py\", line 1820, in full_dispatch_request\n",
      "    rv = self.dispatch_request()\n",
      "  File \"/opt/miniconda3/envs/tensorflow/lib/python3.9/site-packages/flask/app.py\", line 1796, in dispatch_request\n",
      "    return self.ensure_sync(self.view_functions[rule.endpoint])(**view_args)\n",
      "  File \"/opt/miniconda3/envs/tensorflow/lib/python3.9/site-packages/dash/dash.py\", line 1274, in dispatch\n",
      "    ctx.run(\n",
      "  File \"/opt/miniconda3/envs/tensorflow/lib/python3.9/site-packages/dash/_callback.py\", line 440, in add_context\n",
      "    output_value = func(*func_args, **func_kwargs)  # %% callback invoked %%\n",
      "  File \"/var/folders/cr/hc4rlj593_13pvcn96cdsn6h0000gn/T/ipykernel_10895/2237102541.py\", line 41, in show\n",
      "    getweather(location.longitude, location.latitude)\n",
      "AttributeError: 'NoneType' object has no attribute 'longitude'\n"
     ]
    },
    {
     "name": "stderr",
     "output_type": "stream",
     "text": [
      "127.0.0.1 - - [25/Nov/2022 23:31:29] \"POST /_dash-update-component HTTP/1.1\" 500 -\n",
      "127.0.0.1 - - [25/Nov/2022 23:31:40] \"GET /_reload-hash HTTP/1.1\" 200 -\n"
     ]
    },
    {
     "name": "stdout",
     "output_type": "stream",
     "text": [
      "8.431909084320068\n"
     ]
    },
    {
     "name": "stderr",
     "output_type": "stream",
     "text": [
      "127.0.0.1 - - [25/Nov/2022 23:31:43] \"POST /_dash-update-component HTTP/1.1\" 200 -\n",
      "127.0.0.1 - - [25/Nov/2022 23:31:54] \"GET / HTTP/1.1\" 200 -\n",
      "127.0.0.1 - - [25/Nov/2022 23:31:54] \"GET /_dash-layout HTTP/1.1\" 200 -\n",
      "127.0.0.1 - - [25/Nov/2022 23:31:54] \"GET /_dash-dependencies HTTP/1.1\" 200 -\n",
      "127.0.0.1 - - [25/Nov/2022 23:31:54] \"GET /_dash-component-suites/dash/dcc/async-graph.js HTTP/1.1\" 304 -\n",
      "127.0.0.1 - - [25/Nov/2022 23:31:54] \"POST /_dash-update-component HTTP/1.1\" 204 -\n",
      "127.0.0.1 - - [25/Nov/2022 23:31:54] \"GET /_dash-component-suites/dash/dcc/async-plotlyjs.js HTTP/1.1\" 304 -\n",
      "127.0.0.1 - - [25/Nov/2022 23:31:56] \"GET / HTTP/1.1\" 200 -\n",
      "127.0.0.1 - - [25/Nov/2022 23:31:56] \"GET /_dash-layout HTTP/1.1\" 200 -\n",
      "127.0.0.1 - - [25/Nov/2022 23:31:56] \"GET /_dash-dependencies HTTP/1.1\" 200 -\n",
      "127.0.0.1 - - [25/Nov/2022 23:31:56] \"GET /_dash-component-suites/dash/dcc/async-graph.js HTTP/1.1\" 304 -\n",
      "127.0.0.1 - - [25/Nov/2022 23:31:56] \"GET /_dash-component-suites/dash/dcc/async-plotlyjs.js HTTP/1.1\" 304 -\n",
      "127.0.0.1 - - [25/Nov/2022 23:31:56] \"POST /_dash-update-component HTTP/1.1\" 204 -\n",
      "127.0.0.1 - - [25/Nov/2022 23:31:57] \"GET / HTTP/1.1\" 200 -\n",
      "127.0.0.1 - - [25/Nov/2022 23:31:57] \"GET /_dash-layout HTTP/1.1\" 200 -\n",
      "127.0.0.1 - - [25/Nov/2022 23:31:57] \"GET /_dash-dependencies HTTP/1.1\" 200 -\n",
      "127.0.0.1 - - [25/Nov/2022 23:31:57] \"GET /_dash-component-suites/dash/dcc/async-graph.js HTTP/1.1\" 304 -\n",
      "127.0.0.1 - - [25/Nov/2022 23:31:57] \"GET /_dash-component-suites/dash/dcc/async-plotlyjs.js HTTP/1.1\" 304 -\n",
      "127.0.0.1 - - [25/Nov/2022 23:31:57] \"POST /_dash-update-component HTTP/1.1\" 204 -\n"
     ]
    },
    {
     "name": "stdout",
     "output_type": "stream",
     "text": [
      "Exception on /_dash-update-component [POST]\n",
      "Traceback (most recent call last):\n",
      "  File \"/opt/miniconda3/envs/tensorflow/lib/python3.9/site-packages/flask/app.py\", line 2525, in wsgi_app\n",
      "    response = self.full_dispatch_request()\n",
      "  File \"/opt/miniconda3/envs/tensorflow/lib/python3.9/site-packages/flask/app.py\", line 1822, in full_dispatch_request\n",
      "    rv = self.handle_user_exception(e)\n",
      "  File \"/opt/miniconda3/envs/tensorflow/lib/python3.9/site-packages/flask/app.py\", line 1820, in full_dispatch_request\n",
      "    rv = self.dispatch_request()\n",
      "  File \"/opt/miniconda3/envs/tensorflow/lib/python3.9/site-packages/flask/app.py\", line 1796, in dispatch_request\n",
      "    return self.ensure_sync(self.view_functions[rule.endpoint])(**view_args)\n",
      "  File \"/opt/miniconda3/envs/tensorflow/lib/python3.9/site-packages/dash/dash.py\", line 1274, in dispatch\n",
      "    ctx.run(\n",
      "  File \"/opt/miniconda3/envs/tensorflow/lib/python3.9/site-packages/dash/_callback.py\", line 440, in add_context\n",
      "    output_value = func(*func_args, **func_kwargs)  # %% callback invoked %%\n",
      "  File \"/var/folders/cr/hc4rlj593_13pvcn96cdsn6h0000gn/T/ipykernel_10895/2237102541.py\", line 41, in show\n",
      "    getweather(location.longitude, location.latitude)\n",
      "AttributeError: 'NoneType' object has no attribute 'longitude'\n"
     ]
    },
    {
     "name": "stderr",
     "output_type": "stream",
     "text": [
      "127.0.0.1 - - [25/Nov/2022 23:32:00] \"POST /_dash-update-component HTTP/1.1\" 500 -\n"
     ]
    }
   ],
   "source": [
    "from dash import Dash, dcc, html\n",
    "from dash.dependencies import Input, Output\n",
    "import dash\n",
    "from geopy.geocoders import Nominatim\n",
    "import time\n",
    "import plotly.express as px\n",
    "import pandas as pd\n",
    "\n",
    "app = Dash(__name__)\n",
    "\n",
    "# app.layout = html.Div([\n",
    "#     html.Label('Enter a city to see its weather'),\n",
    "#     dcc.Input(id='num', type='text', debounce=True, style={'width': '100%'}, autoFocus=True),\n",
    "#     html.P(id='out')\n",
    "# ])\n",
    "\n",
    "# creating app layout for taking input from user and plotting the graph\n",
    "app.layout = html.Div([\n",
    "    html.Div([\n",
    "        html.Label('Enter a city to see its weather'),\n",
    "        dcc.Input(id='num', type='text', debounce=True, style={'width': '100%'}, autoFocus=True),\n",
    "        # html.P(id='out'),\n",
    "        dcc.Graph(id='out')\n",
    "    ])\n",
    "])\n",
    "\n",
    "@app.callback(\n",
    "    Output('out', 'children'),\n",
    "    Input('num', 'value')\n",
    ")\n",
    "def show(num):\n",
    "    if num is None:\n",
    "        # PreventUpdate prevents ALL outputs updating\n",
    "        raise dash.exceptions.PreventUpdate\n",
    "\n",
    "    # converting input city to coordinates\n",
    "    # calculating execution time\n",
    "    start = time.time()\n",
    "    geolocator = Nominatim(user_agent='myapplication')\n",
    "    location = geolocator.geocode(\"{}\".format(num))\n",
    "    getweather(location.longitude, location.latitude)\n",
    "    end = time.time()\n",
    "    print(end - start)\n",
    "    return plot(),' '\n",
    "\n",
    "if __name__ == '__main__':\n",
    "    app.run_server(debug=False)"
   ]
  }
 ],
 "metadata": {
  "kernelspec": {
   "display_name": "Python 3.9.13 ('tensorflow')",
   "language": "python",
   "name": "python3"
  },
  "language_info": {
   "codemirror_mode": {
    "name": "ipython",
    "version": 3
   },
   "file_extension": ".py",
   "mimetype": "text/x-python",
   "name": "python",
   "nbconvert_exporter": "python",
   "pygments_lexer": "ipython3",
   "version": "3.9.13"
  },
  "orig_nbformat": 4,
  "vscode": {
   "interpreter": {
    "hash": "ee7d7838ef53998fd22ad7449b76e48b4013ea11e59d28ee193f2cd757746339"
   }
  }
 },
 "nbformat": 4,
 "nbformat_minor": 2
}
