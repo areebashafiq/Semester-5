{
 "cells": [
  {
   "cell_type": "code",
   "execution_count": 1,
   "metadata": {},
   "outputs": [],
   "source": [
    "# to handle  data retrieval\n",
    "import urllib3\n",
    "from urllib3 import request\n",
    "# to handle certificate verification\n",
    "import certifi\n",
    "# to manage json data\n",
    "import json\n",
    "# for pandas dataframes\n",
    "import pandas as pd\n",
    "# uncomment below if installation needed (not necessary in Colab)\n",
    "#!pip install certifi"
   ]
  },
  {
   "cell_type": "code",
   "execution_count": 2,
   "metadata": {},
   "outputs": [],
   "source": [
    "# handle certificate verification and SSL warnings\n",
    "# https://urllib3.readthedocs.io/en/latest/user-guide.html#ssl\n",
    "http = urllib3.PoolManager(\n",
    "       cert_reqs='CERT_REQUIRED',\n",
    "       ca_certs=certifi.where())"
   ]
  },
  {
   "cell_type": "code",
   "execution_count": 3,
   "metadata": {},
   "outputs": [
    {
     "data": {
      "text/plain": [
       "200"
      ]
     },
     "execution_count": 3,
     "metadata": {},
     "output_type": "execute_result"
    }
   ],
   "source": [
    "# get data from the API\n",
    "url = 'https://api.openweathermap.org/data/2.5/air_pollution?lat=44.34&lon=10.99&appid=2d3a67acf97594b44e33512a7e8880ba'\n",
    "# url='https://v1.nocodeapi.com/l201113/ow/snmjfumZHpCUidBD/byCityName/threeHourForecast?q=Lahore'\n",
    "r = http.request('GET', url)\n",
    "r.status"
   ]
  },
  {
   "cell_type": "code",
   "execution_count": 4,
   "metadata": {},
   "outputs": [
    {
     "data": {
      "text/plain": [
       "{'coord': {'lon': 10.99, 'lat': 44.34},\n",
       " 'list': [{'main': {'aqi': 1},\n",
       "   'components': {'co': 250.34,\n",
       "    'no': 0,\n",
       "    'no2': 6.08,\n",
       "    'o3': 39.7,\n",
       "    'so2': 0.2,\n",
       "    'pm2_5': 9.5,\n",
       "    'pm10': 10.14,\n",
       "    'nh3': 8.74},\n",
       "   'dt': 1662322579}]}"
      ]
     },
     "execution_count": 4,
     "metadata": {},
     "output_type": "execute_result"
    }
   ],
   "source": [
    "# decode json data into a dict object\n",
    "data = json.loads(r.data.decode('utf-8'))\n",
    "data"
   ]
  },
  {
   "cell_type": "code",
   "execution_count": 17,
   "metadata": {},
   "outputs": [
    {
     "data": {
      "text/html": [
       "<div>\n",
       "<style scoped>\n",
       "    .dataframe tbody tr th:only-of-type {\n",
       "        vertical-align: middle;\n",
       "    }\n",
       "\n",
       "    .dataframe tbody tr th {\n",
       "        vertical-align: top;\n",
       "    }\n",
       "\n",
       "    .dataframe thead th {\n",
       "        text-align: right;\n",
       "    }\n",
       "</style>\n",
       "<table border=\"1\" class=\"dataframe\">\n",
       "  <thead>\n",
       "    <tr style=\"text-align: right;\">\n",
       "      <th></th>\n",
       "      <th>dt</th>\n",
       "      <th>main.aqi</th>\n",
       "      <th>components.co</th>\n",
       "      <th>components.no</th>\n",
       "      <th>components.no2</th>\n",
       "      <th>components.o3</th>\n",
       "      <th>components.so2</th>\n",
       "      <th>components.pm2_5</th>\n",
       "      <th>components.pm10</th>\n",
       "      <th>components.nh3</th>\n",
       "    </tr>\n",
       "  </thead>\n",
       "  <tbody>\n",
       "    <tr>\n",
       "      <th>0</th>\n",
       "      <td>1662322579</td>\n",
       "      <td>1</td>\n",
       "      <td>250.34</td>\n",
       "      <td>0</td>\n",
       "      <td>6.08</td>\n",
       "      <td>39.7</td>\n",
       "      <td>0.2</td>\n",
       "      <td>9.5</td>\n",
       "      <td>10.14</td>\n",
       "      <td>8.74</td>\n",
       "    </tr>\n",
       "  </tbody>\n",
       "</table>\n",
       "</div>"
      ],
      "text/plain": [
       "           dt  main.aqi  components.co  components.no  components.no2  \\\n",
       "0  1662322579         1         250.34              0            6.08   \n",
       "\n",
       "   components.o3  components.so2  components.pm2_5  components.pm10  \\\n",
       "0           39.7             0.2               9.5            10.14   \n",
       "\n",
       "   components.nh3  \n",
       "0            8.74  "
      ]
     },
     "execution_count": 17,
     "metadata": {},
     "output_type": "execute_result"
    }
   ],
   "source": [
    "# in this dataset, the data to extract is under 'features'\n",
    "df = pd.json_normalize(data,'list')\n",
    "df.head(10)"
   ]
  }
 ],
 "metadata": {
  "kernelspec": {
   "display_name": "Python 3.9.12 ('base')",
   "language": "python",
   "name": "python3"
  },
  "language_info": {
   "codemirror_mode": {
    "name": "ipython",
    "version": 3
   },
   "file_extension": ".py",
   "mimetype": "text/x-python",
   "name": "python",
   "nbconvert_exporter": "python",
   "pygments_lexer": "ipython3",
   "version": "3.9.12"
  },
  "orig_nbformat": 4,
  "vscode": {
   "interpreter": {
    "hash": "40d3a090f54c6569ab1632332b64b2c03c39dcf918b08424e98f38b5ae0af88f"
   }
  }
 },
 "nbformat": 4,
 "nbformat_minor": 2
}
