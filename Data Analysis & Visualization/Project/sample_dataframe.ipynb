{
 "cells": [
  {
   "cell_type": "code",
   "execution_count": 1,
   "metadata": {},
   "outputs": [],
   "source": [
    "# to handle  data retrieval\n",
    "import urllib3\n",
    "from urllib3 import request\n",
    "# to handle certificate verification\n",
    "import certifi\n",
    "# to manage json data\n",
    "import json\n",
    "# for pandas dataframes\n",
    "import pandas as pd\n",
    "# uncomment below if installation needed (not necessary in Colab)\n",
    "#!pip install certifi"
   ]
  },
  {
   "cell_type": "code",
   "execution_count": 2,
   "metadata": {},
   "outputs": [],
   "source": [
    "# handle certificate verification and SSL warnings\n",
    "# https://urllib3.readthedocs.io/en/latest/user-guide.html#ssl\n",
    "http = urllib3.PoolManager(\n",
    "       cert_reqs='CERT_REQUIRED',\n",
    "       ca_certs=certifi.where())"
   ]
  },
  {
   "cell_type": "code",
   "execution_count": 3,
   "metadata": {},
   "outputs": [
    {
     "data": {
      "text/plain": [
       "200"
      ]
     },
     "execution_count": 3,
     "metadata": {},
     "output_type": "execute_result"
    }
   ],
   "source": [
    "# get data from the API\n",
    "url = 'https://api.openweathermap.org/data/2.5/air_pollution?lat=31.20&lon=74.10&appid=2d3a67acf97594b44e33512a7e8880ba'\n",
    "# url='https://v1.nocodeapi.com/l201113/ow/snmjfumZHpCUidBD/byCityName/threeHourForecast?q=Lahore'\n",
    "r = http.request('GET', url)\n",
    "r.status"
   ]
  },
  {
   "cell_type": "code",
   "execution_count": 4,
   "metadata": {},
   "outputs": [
    {
     "data": {
      "text/plain": [
       "{'coord': {'lon': 74.1, 'lat': 31.2},\n",
       " 'list': [{'main': {'aqi': 5},\n",
       "   'components': {'co': 1054.76,\n",
       "    'no': 0.01,\n",
       "    'no2': 26.73,\n",
       "    'o3': 59.37,\n",
       "    'so2': 4.65,\n",
       "    'pm2_5': 90.02,\n",
       "    'pm10': 137.59,\n",
       "    'nh3': 31.41},\n",
       "   'dt': 1665839539}]}"
      ]
     },
     "execution_count": 4,
     "metadata": {},
     "output_type": "execute_result"
    }
   ],
   "source": [
    "# decode json data into a dict object\n",
    "data = json.loads(r.data.decode('utf-8'))\n",
    "data"
   ]
  },
  {
   "cell_type": "code",
   "execution_count": 5,
   "metadata": {},
   "outputs": [
    {
     "data": {
      "text/html": [
       "<div>\n",
       "<style scoped>\n",
       "    .dataframe tbody tr th:only-of-type {\n",
       "        vertical-align: middle;\n",
       "    }\n",
       "\n",
       "    .dataframe tbody tr th {\n",
       "        vertical-align: top;\n",
       "    }\n",
       "\n",
       "    .dataframe thead th {\n",
       "        text-align: right;\n",
       "    }\n",
       "</style>\n",
       "<table border=\"1\" class=\"dataframe\">\n",
       "  <thead>\n",
       "    <tr style=\"text-align: right;\">\n",
       "      <th></th>\n",
       "      <th>dt</th>\n",
       "      <th>main.aqi</th>\n",
       "      <th>components.co</th>\n",
       "      <th>components.no</th>\n",
       "      <th>components.no2</th>\n",
       "      <th>components.o3</th>\n",
       "      <th>components.so2</th>\n",
       "      <th>components.pm2_5</th>\n",
       "      <th>components.pm10</th>\n",
       "      <th>components.nh3</th>\n",
       "    </tr>\n",
       "  </thead>\n",
       "  <tbody>\n",
       "    <tr>\n",
       "      <th>0</th>\n",
       "      <td>1665839539</td>\n",
       "      <td>5</td>\n",
       "      <td>1054.76</td>\n",
       "      <td>0.01</td>\n",
       "      <td>26.73</td>\n",
       "      <td>59.37</td>\n",
       "      <td>4.65</td>\n",
       "      <td>90.02</td>\n",
       "      <td>137.59</td>\n",
       "      <td>31.41</td>\n",
       "    </tr>\n",
       "  </tbody>\n",
       "</table>\n",
       "</div>"
      ],
      "text/plain": [
       "           dt  main.aqi  components.co  components.no  components.no2  \\\n",
       "0  1665839539         5        1054.76           0.01           26.73   \n",
       "\n",
       "   components.o3  components.so2  components.pm2_5  components.pm10  \\\n",
       "0          59.37            4.65             90.02           137.59   \n",
       "\n",
       "   components.nh3  \n",
       "0           31.41  "
      ]
     },
     "execution_count": 5,
     "metadata": {},
     "output_type": "execute_result"
    }
   ],
   "source": [
    "# in this dataset, the data to extract is under 'features'\n",
    "df = pd.json_normalize(data,'list')\n",
    "df.head(10)"
   ]
  },
  {
   "cell_type": "code",
   "execution_count": 8,
   "metadata": {},
   "outputs": [
    {
     "name": "stdout",
     "output_type": "stream",
     "text": [
      "{'coord': {'lon': 74.1, 'lat': 31.2}, 'list': [{'main': {'aqi': 5}, 'components': {'co': 1321.79, 'no': 0.01, 'no2': 32.22, 'o3': 18.42, 'so2': 3.67, 'pm2_5': 82.47, 'pm10': 108.6, 'nh3': 7.47}, 'dt': 1606266000}, {'main': {'aqi': 5}, 'components': {'co': 1455.31, 'no': 0.02, 'no2': 34.62, 'o3': 16.45, 'so2': 4.53, 'pm2_5': 91.92, 'pm10': 122.48, 'nh3': 8.36}, 'dt': 1606269600}, {'main': {'aqi': 5}, 'components': {'co': 1762.39, 'no': 2.91, 'no2': 39.07, 'o3': 14.66, 'so2': 6.32, 'pm2_5': 112.89, 'pm10': 148.17, 'nh3': 10.39}, 'dt': 1606273200}, {'main': {'aqi': 5}, 'components': {'co': 1976.01, 'no': 9.28, 'no2': 43.18, 'o3': 26.11, 'so2': 13.47, 'pm2_5': 117.86, 'pm10': 147.74, 'nh3': 12.54}, 'dt': 1606276800}, {'main': {'aqi': 5}, 'components': {'co': 2403.26, 'no': 16.99, 'no2': 54.84, 'o3': 30.04, 'so2': 16.69, 'pm2_5': 129.28, 'pm10': 161.56, 'nh3': 15.2}, 'dt': 1606280400}, {'main': {'aqi': 5}, 'components': {'co': 2670.29, 'no': 18.33, 'no2': 63.06, 'o3': 38.27, 'so2': 16.69, 'pm2_5': 142.4, 'pm10': 178.75, 'nh3': 16.97}, 'dt': 1606284000}, {'main': {'aqi': 5}, 'components': {'co': 1014.71, 'no': 2.79, 'no2': 26.05, 'o3': 76.53, 'so2': 17.64, 'pm2_5': 52.61, 'pm10': 65.18, 'nh3': 6.52}, 'dt': 1606287600}, {'main': {'aqi': 4}, 'components': {'co': 687.6, 'no': 0.82, 'no2': 14.22, 'o3': 77.96, 'so2': 14.9, 'pm2_5': 44.45, 'pm10': 51.9, 'nh3': 4.5}, 'dt': 1606291200}, {'main': {'aqi': 5}, 'components': {'co': 674.25, 'no': 0.22, 'no2': 12, 'o3': 75.1, 'so2': 14.9, 'pm2_5': 62.66, 'pm10': 68.51, 'nh3': 4.02}, 'dt': 1606294800}, {'main': {'aqi': 5}, 'components': {'co': 734.33, 'no': 0.07, 'no2': 10.97, 'o3': 75.82, 'so2': 10.97, 'pm2_5': 85.85, 'pm10': 93.34, 'nh3': 4.94}, 'dt': 1606298400}, {'main': {'aqi': 5}, 'components': {'co': 814.44, 'no': 0.07, 'no2': 11.14, 'o3': 77.96, 'so2': 8.46, 'pm2_5': 104.37, 'pm10': 116.04, 'nh3': 6.21}, 'dt': 1606302000}, {'main': {'aqi': 5}, 'components': {'co': 854.49, 'no': 0.01, 'no2': 12.51, 'o3': 77.96, 'so2': 8.58, 'pm2_5': 110.69, 'pm10': 125.49, 'nh3': 6.21}, 'dt': 1606305600}, {'main': {'aqi': 5}, 'components': {'co': 867.84, 'no': 0, 'no2': 14.57, 'o3': 73.67, 'so2': 7.63, 'pm2_5': 103.72, 'pm10': 123.06, 'nh3': 5.83}, 'dt': 1606309200}, {'main': {'aqi': 5}, 'components': {'co': 867.84, 'no': 0, 'no2': 15.94, 'o3': 67.95, 'so2': 5.84, 'pm2_5': 91.88, 'pm10': 116.81, 'nh3': 5.51}, 'dt': 1606312800}, {'main': {'aqi': 5}, 'components': {'co': 867.84, 'no': 0, 'no2': 15.77, 'o3': 65.8, 'so2': 4.17, 'pm2_5': 81.9, 'pm10': 112.18, 'nh3': 5.07}, 'dt': 1606316400}, {'main': {'aqi': 5}, 'components': {'co': 907.9, 'no': 0, 'no2': 15.59, 'o3': 61.51, 'so2': 2.92, 'pm2_5': 77.55, 'pm10': 117.15, 'nh3': 5.19}, 'dt': 1606320000}, {'main': {'aqi': 5}, 'components': {'co': 1014.71, 'no': 0, 'no2': 17.14, 'o3': 50.78, 'so2': 2.41, 'pm2_5': 81.73, 'pm10': 136.23, 'nh3': 6.14}, 'dt': 1606323600}, {'main': {'aqi': 5}, 'components': {'co': 1148.22, 'no': 0, 'no2': 19.02, 'o3': 39.7, 'so2': 2.3, 'pm2_5': 90.27, 'pm10': 156.43, 'nh3': 7.28}, 'dt': 1606327200}, {'main': {'aqi': 5}, 'components': {'co': 1228.33, 'no': 0, 'no2': 19.71, 'o3': 30.76, 'so2': 2.03, 'pm2_5': 97.3, 'pm10': 165.34, 'nh3': 7.79}, 'dt': 1606330800}, {'main': {'aqi': 5}, 'components': {'co': 1308.44, 'no': 0.01, 'no2': 21.59, 'o3': 22.71, 'so2': 1.89, 'pm2_5': 104.87, 'pm10': 168.29, 'nh3': 7.79}, 'dt': 1606334400}, {'main': {'aqi': 5}, 'components': {'co': 1495.36, 'no': 0.07, 'no2': 27.08, 'o3': 13.59, 'so2': 1.97, 'pm2_5': 117.6, 'pm10': 166.14, 'nh3': 7.85}, 'dt': 1606338000}, {'main': {'aqi': 5}, 'components': {'co': 1842.5, 'no': 0.85, 'no2': 37.01, 'o3': 4.69, 'so2': 2.18, 'pm2_5': 136.18, 'pm10': 171.69, 'nh3': 7.47}, 'dt': 1606341600}, {'main': {'aqi': 5}, 'components': {'co': 2323.15, 'no': 4.08, 'no2': 45.24, 'o3': 0.45, 'so2': 2.27, 'pm2_5': 158.65, 'pm10': 185.06, 'nh3': 6.78}, 'dt': 1606345200}, {'main': {'aqi': 5}, 'components': {'co': 2777.1, 'no': 8.94, 'no2': 50.04, 'o3': 0.01, 'so2': 2.3, 'pm2_5': 181.71, 'pm10': 201.58, 'nh3': 6.08}, 'dt': 1606348800}, {'main': {'aqi': 5}, 'components': {'co': 3017.43, 'no': 11.18, 'no2': 52.09, 'o3': 0.01, 'so2': 2.5, 'pm2_5': 197.13, 'pm10': 215.82, 'nh3': 5.76}, 'dt': 1606352400}, {'main': {'aqi': 5}, 'components': {'co': 2937.32, 'no': 9.95, 'no2': 50.04, 'o3': 0.03, 'so2': 3.19, 'pm2_5': 201.49, 'pm10': 230.19, 'nh3': 6.14}, 'dt': 1606356000}, {'main': {'aqi': 5}, 'components': {'co': 2670.29, 'no': 9.16, 'no2': 42.5, 'o3': 4.02, 'so2': 4.41, 'pm2_5': 200.95, 'pm10': 241.06, 'nh3': 6.4}, 'dt': 1606359600}, {'main': {'aqi': 5}, 'components': {'co': 2349.85, 'no': 10.84, 'no2': 33.93, 'o3': 19.49, 'so2': 7.27, 'pm2_5': 203.84, 'pm10': 249.51, 'nh3': 6.59}, 'dt': 1606363200}, {'main': {'aqi': 5}, 'components': {'co': 2216.34, 'no': 10.51, 'no2': 32.56, 'o3': 40.05, 'so2': 8.82, 'pm2_5': 220.22, 'pm10': 271.94, 'nh3': 8.11}, 'dt': 1606366800}, {'main': {'aqi': 5}, 'components': {'co': 1976.01, 'no': 7.26, 'no2': 31.53, 'o3': 75.82, 'so2': 10.73, 'pm2_5': 229.88, 'pm10': 279.26, 'nh3': 8.99}, 'dt': 1606370400}, {'main': {'aqi': 5}, 'components': {'co': 814.44, 'no': 1.9, 'no2': 12.17, 'o3': 121.59, 'so2': 25.99, 'pm2_5': 115.21, 'pm10': 129.2, 'nh3': 2.31}, 'dt': 1606374000}, {'main': {'aqi': 5}, 'components': {'co': 580.79, 'no': 1.06, 'no2': 7.54, 'o3': 131.61, 'so2': 25.51, 'pm2_5': 78.51, 'pm10': 86.8, 'nh3': 1.88}, 'dt': 1606377600}, {'main': {'aqi': 5}, 'components': {'co': 514.03, 'no': 0.83, 'no2': 6.94, 'o3': 135.9, 'so2': 24.8, 'pm2_5': 63.14, 'pm10': 70.38, 'nh3': 1.93}, 'dt': 1606381200}, {'main': {'aqi': 5}, 'components': {'co': 507.36, 'no': 0.66, 'no2': 7.28, 'o3': 128.75, 'so2': 20.74, 'pm2_5': 56.28, 'pm10': 66.43, 'nh3': 3.9}, 'dt': 1606384800}, {'main': {'aqi': 5}, 'components': {'co': 547.41, 'no': 0.49, 'no2': 10.45, 'o3': 111.58, 'so2': 20.74, 'pm2_5': 55.71, 'pm10': 70.87, 'nh3': 7.16}, 'dt': 1606388400}, {'main': {'aqi': 5}, 'components': {'co': 607.49, 'no': 0.09, 'no2': 15.08, 'o3': 94.41, 'so2': 20.5, 'pm2_5': 55.3, 'pm10': 73.94, 'nh3': 9.88}, 'dt': 1606392000}, {'main': {'aqi': 5}, 'components': {'co': 694.28, 'no': 0, 'no2': 19.36, 'o3': 79.39, 'so2': 16.69, 'pm2_5': 54.24, 'pm10': 76.14, 'nh3': 12.16}, 'dt': 1606395600}, {'main': {'aqi': 5}, 'components': {'co': 787.74, 'no': 0, 'no2': 22.62, 'o3': 67.95, 'so2': 10.73, 'pm2_5': 53.58, 'pm10': 77.58, 'nh3': 13.55}, 'dt': 1606399200}, {'main': {'aqi': 5}, 'components': {'co': 867.84, 'no': 0, 'no2': 23.99, 'o3': 62.23, 'so2': 5.96, 'pm2_5': 53.22, 'pm10': 76.75, 'nh3': 13.93}, 'dt': 1606402800}, {'main': {'aqi': 5}, 'components': {'co': 934.6, 'no': 0, 'no2': 24.33, 'o3': 60.08, 'so2': 4.17, 'pm2_5': 56.42, 'pm10': 79.95, 'nh3': 13.3}, 'dt': 1606406400}, {'main': {'aqi': 5}, 'components': {'co': 1001.36, 'no': 0, 'no2': 24.68, 'o3': 56.51, 'so2': 3.7, 'pm2_5': 63.26, 'pm10': 88.65, 'nh3': 11.78}, 'dt': 1606410000}, {'main': {'aqi': 5}, 'components': {'co': 1014.71, 'no': 0, 'no2': 22.96, 'o3': 54.36, 'so2': 3.34, 'pm2_5': 68.5, 'pm10': 93.65, 'nh3': 9.37}, 'dt': 1606413600}, {'main': {'aqi': 5}, 'components': {'co': 961.3, 'no': 0, 'no2': 19.88, 'o3': 53.64, 'so2': 2.71, 'pm2_5': 68.93, 'pm10': 89.42, 'nh3': 6.9}, 'dt': 1606417200}, {'main': {'aqi': 5}, 'components': {'co': 881.2, 'no': 0, 'no2': 16.79, 'o3': 55.08, 'so2': 2.21, 'pm2_5': 65.73, 'pm10': 82.03, 'nh3': 5.51}, 'dt': 1606420800}, {'main': {'aqi': 5}, 'components': {'co': 827.79, 'no': 0, 'no2': 14.05, 'o3': 56.51, 'so2': 1.94, 'pm2_5': 62.48, 'pm10': 76.45, 'nh3': 4.75}, 'dt': 1606424400}, {'main': {'aqi': 5}, 'components': {'co': 787.74, 'no': 0, 'no2': 11.82, 'o3': 57.22, 'so2': 1.88, 'pm2_5': 58.92, 'pm10': 71.5, 'nh3': 4.12}, 'dt': 1606428000}, {'main': {'aqi': 5}, 'components': {'co': 754.36, 'no': 0, 'no2': 10.11, 'o3': 55.79, 'so2': 1.79, 'pm2_5': 55.94, 'pm10': 67.82, 'nh3': 3.61}, 'dt': 1606431600}, {'main': {'aqi': 5}, 'components': {'co': 727.65, 'no': 0, 'no2': 8.74, 'o3': 53.64, 'so2': 1.76, 'pm2_5': 53.57, 'pm10': 64.99, 'nh3': 3.23}, 'dt': 1606435200}, {'main': {'aqi': 5}, 'components': {'co': 714.3, 'no': 0, 'no2': 7.97, 'o3': 52.21, 'so2': 1.91, 'pm2_5': 52.41, 'pm10': 63.94, 'nh3': 3.17}, 'dt': 1606438800}, {'main': {'aqi': 5}, 'components': {'co': 747.68, 'no': 0, 'no2': 8.4, 'o3': 51.5, 'so2': 2.5, 'pm2_5': 54, 'pm10': 68.09, 'nh3': 3.8}, 'dt': 1606442400}, {'main': {'aqi': 5}, 'components': {'co': 807.76, 'no': 0.3, 'no2': 9.51, 'o3': 53.64, 'so2': 3.49, 'pm2_5': 56.58, 'pm10': 73.35, 'nh3': 4.5}, 'dt': 1606446000}, {'main': {'aqi': 5}, 'components': {'co': 827.79, 'no': 1.27, 'no2': 9, 'o3': 63.66, 'so2': 4.89, 'pm2_5': 57.32, 'pm10': 75.02, 'nh3': 5.32}, 'dt': 1606449600}, {'main': {'aqi': 5}, 'components': {'co': 854.49, 'no': 1.76, 'no2': 8.65, 'o3': 77.25, 'so2': 5.66, 'pm2_5': 59.67, 'pm10': 77.61, 'nh3': 6.84}, 'dt': 1606453200}, {'main': {'aqi': 5}, 'components': {'co': 854.49, 'no': 1.5, 'no2': 7.97, 'o3': 100.14, 'so2': 6.86, 'pm2_5': 62.43, 'pm10': 78.96, 'nh3': 7.35}, 'dt': 1606456800}, {'main': {'aqi': 4}, 'components': {'co': 620.84, 'no': 0.8, 'no2': 5.23, 'o3': 128.75, 'so2': 20.03, 'pm2_5': 44, 'pm10': 52.85, 'nh3': 4.69}, 'dt': 1606460400}, {'main': {'aqi': 4}, 'components': {'co': 547.41, 'no': 0.56, 'no2': 4.11, 'o3': 140.19, 'so2': 20.03, 'pm2_5': 37.72, 'pm10': 44.88, 'nh3': 4.69}, 'dt': 1606464000}, {'main': {'aqi': 4}, 'components': {'co': 540.73, 'no': 0.46, 'no2': 4.07, 'o3': 150.2, 'so2': 19.31, 'pm2_5': 37.26, 'pm10': 44.48, 'nh3': 5.38}, 'dt': 1606467600}, {'main': {'aqi': 4}, 'components': {'co': 607.49, 'no': 0.42, 'no2': 4.71, 'o3': 143.05, 'so2': 10.85, 'pm2_5': 40.55, 'pm10': 51.85, 'nh3': 8.04}, 'dt': 1606471200}, {'main': {'aqi': 4}, 'components': {'co': 747.68, 'no': 0.46, 'no2': 8.82, 'o3': 125.89, 'so2': 5.42, 'pm2_5': 47.7, 'pm10': 65.41, 'nh3': 11.65}, 'dt': 1606474800}, {'main': {'aqi': 5}, 'components': {'co': 907.9, 'no': 0.13, 'no2': 15.59, 'o3': 105.86, 'so2': 4.29, 'pm2_5': 54.59, 'pm10': 77.19, 'nh3': 14.44}, 'dt': 1606478400}, {'main': {'aqi': 5}, 'components': {'co': 1121.52, 'no': 0, 'no2': 22.28, 'o3': 84.4, 'so2': 3.87, 'pm2_5': 63.62, 'pm10': 92.5, 'nh3': 17.23}, 'dt': 1606482000}]}\n"
     ]
    },
    {
     "data": {
      "text/html": [
       "<div>\n",
       "<style scoped>\n",
       "    .dataframe tbody tr th:only-of-type {\n",
       "        vertical-align: middle;\n",
       "    }\n",
       "\n",
       "    .dataframe tbody tr th {\n",
       "        vertical-align: top;\n",
       "    }\n",
       "\n",
       "    .dataframe thead th {\n",
       "        text-align: right;\n",
       "    }\n",
       "</style>\n",
       "<table border=\"1\" class=\"dataframe\">\n",
       "  <thead>\n",
       "    <tr style=\"text-align: right;\">\n",
       "      <th></th>\n",
       "      <th>dt</th>\n",
       "      <th>main.aqi</th>\n",
       "      <th>components.co</th>\n",
       "      <th>components.no</th>\n",
       "      <th>components.no2</th>\n",
       "      <th>components.o3</th>\n",
       "      <th>components.so2</th>\n",
       "      <th>components.pm2_5</th>\n",
       "      <th>components.pm10</th>\n",
       "      <th>components.nh3</th>\n",
       "    </tr>\n",
       "  </thead>\n",
       "  <tbody>\n",
       "    <tr>\n",
       "      <th>0</th>\n",
       "      <td>1665839539</td>\n",
       "      <td>5</td>\n",
       "      <td>1054.76</td>\n",
       "      <td>0.01</td>\n",
       "      <td>26.73</td>\n",
       "      <td>59.37</td>\n",
       "      <td>4.65</td>\n",
       "      <td>90.02</td>\n",
       "      <td>137.59</td>\n",
       "      <td>31.41</td>\n",
       "    </tr>\n",
       "  </tbody>\n",
       "</table>\n",
       "</div>"
      ],
      "text/plain": [
       "           dt  main.aqi  components.co  components.no  components.no2  \\\n",
       "0  1665839539         5        1054.76           0.01           26.73   \n",
       "\n",
       "   components.o3  components.so2  components.pm2_5  components.pm10  \\\n",
       "0          59.37            4.65             90.02           137.59   \n",
       "\n",
       "   components.nh3  \n",
       "0           31.41  "
      ]
     },
     "execution_count": 8,
     "metadata": {},
     "output_type": "execute_result"
    }
   ],
   "source": [
    "import requests\n",
    "\n",
    "url = 'http://api.openweathermap.org/data/2.5/air_pollution/history?lat=31.20&lon=74.10&start=1606223802&end=1606482999&appid=2d3a67acf97594b44e33512a7e8880ba'\n",
    "r = requests.get(url = url)\n",
    "result = r.json()\n",
    "print(result)\n",
    "df = pd.json_normalize(data,'list')\n",
    "df.head(10)"
   ]
  }
 ],
 "metadata": {
  "kernelspec": {
   "display_name": "Python 3.9.12 ('base')",
   "language": "python",
   "name": "python3"
  },
  "language_info": {
   "codemirror_mode": {
    "name": "ipython",
    "version": 3
   },
   "file_extension": ".py",
   "mimetype": "text/x-python",
   "name": "python",
   "nbconvert_exporter": "python",
   "pygments_lexer": "ipython3",
   "version": "3.9.12"
  },
  "orig_nbformat": 4,
  "vscode": {
   "interpreter": {
    "hash": "40d3a090f54c6569ab1632332b64b2c03c39dcf918b08424e98f38b5ae0af88f"
   }
  }
 },
 "nbformat": 4,
 "nbformat_minor": 2
}
