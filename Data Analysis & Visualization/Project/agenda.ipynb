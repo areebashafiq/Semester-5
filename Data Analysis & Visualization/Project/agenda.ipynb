{
 "cells": [
  {
   "cell_type": "code",
   "execution_count": null,
   "metadata": {},
   "outputs": [],
   "source": [
    "\"\"\"\n",
    "Following is the agrnda for now:\n",
    "- identify areas to collect data\n",
    "- identify time and frequency\n",
    "- identify the response variables needed, forming the keys for storing and retrieving respective data\n",
    "- the historical data available\n",
    "- complete pipeline of data cleaning process\n",
    "- visualization of cleaned data\n",
    "\n",
    "once this is done then the work starts to building a model that will predict\n",
    "\"\"\""
   ]
  }
 ],
 "metadata": {
  "kernelspec": {
   "display_name": "Python 3.10.5 64-bit",
   "language": "python",
   "name": "python3"
  },
  "language_info": {
   "name": "python",
   "version": "3.10.5"
  },
  "orig_nbformat": 4,
  "vscode": {
   "interpreter": {
    "hash": "aee8b7b246df8f9039afb4144a1f6fd8d2ca17a180786b69acc140d282b71a49"
   }
  }
 },
 "nbformat": 4,
 "nbformat_minor": 2
}
