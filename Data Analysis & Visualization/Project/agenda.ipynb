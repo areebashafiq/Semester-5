{
 "cells": [
  {
   "cell_type": "code",
   "execution_count": null,
   "metadata": {},
   "outputs": [],
   "source": [
    "\"\"\"\n",
    "Following is the agrnda for now:\n",
    "- identify areas to collect data\n",
    "- identify time and frequency\n",
    "- identify the response variables needed, forming the keys for storing and retrieving respective data\n",
    "- the historical data available\n",
    "- complete pipeline of data cleaning process\n",
    "- visualization of cleaned data\n",
    "\n",
    "once this is done then the work starts to building a model that will predict\n",
    "\"\"\""
   ]
  }
 ],
 "metadata": {
  "language_info": {
   "name": "python"
  },
  "orig_nbformat": 4
 },
 "nbformat": 4,
 "nbformat_minor": 2
}
