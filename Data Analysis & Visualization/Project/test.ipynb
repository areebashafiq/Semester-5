{
 "cells": [
  {
   "cell_type": "code",
   "execution_count": null,
   "metadata": {},
   "outputs": [],
   "source": [
    "'''\n",
    "Create an array of arrays for all the coordinates using a loop\n",
    "create a function that takes coordinates as input and gives response\n",
    "create a key based on date and time\n",
    "'''"
   ]
  },
  {
   "cell_type": "code",
   "execution_count": null,
   "metadata": {},
   "outputs": [],
   "source": [
    "# creating a list of all the coordinates\n",
    "coord=[]\n",
    "\n",
    "count = 1\n",
    "\n",
    "lat=31.39\n",
    "for i in range(10):\n",
    "    lon=74.29\n",
    "    for j in range(8):\n",
    "        lon=round(lon,2)\n",
    "        lat=round(lat,2)\n",
    "        coord.append([count,[lat,lon]])\n",
    "        count+=1\n",
    "        # print(f\"lat:{lat}, lon:{lon}\")\n",
    "        lon-=0.02\n",
    "    lat-=0.02\n",
    "\n",
    "lat=31.29\n",
    "for i in range(5):\n",
    "    lon=74.13\n",
    "    for j in range(2):\n",
    "        lon=round(lon,2)\n",
    "        lat=round(lat,2)\n",
    "        coord.append([count,[lat,lon]])\n",
    "        count+=1\n",
    "        # print(f\"lat:{lat}, lon:{lon}\")\n",
    "        lon-=0.02\n",
    "    lat-=0.02"
   ]
  },
  {
   "cell_type": "markdown",
   "metadata": {},
   "source": [
    "Now that all the coordinates are created we can move onto creating a function to extract data"
   ]
  },
  {
   "cell_type": "code",
   "execution_count": null,
   "metadata": {},
   "outputs": [],
   "source": [
    "import requests\n",
    "\n",
    "def get_curr(coord):\n",
    "    url = f\"https://api.openweathermap.org/data/2.5/air_pollution?lat={coord[0]}&lon={coord[1]}&appid=2d3a67acf97594b44e33512a7e8880ba\"\n",
    "    r = requests.get(url = url)\n",
    "    return r.json()"
   ]
  },
  {
   "cell_type": "code",
   "execution_count": null,
   "metadata": {},
   "outputs": [],
   "source": [
    "def params(data,index):\n",
    "    # a function that returns a list of parameters against a given json\n",
    "    dt=data['list'][0]['dt']\n",
    "    aqi=data['list'][0]['main']['aqi']\n",
    "    co=data['list'][0]['components']['co']\n",
    "    no=data['list'][0]['components']['no']\n",
    "    no2=data['list'][0]['components']['no2']\n",
    "    o3=data['list'][0]['components']['o3']\n",
    "    so2=data['list'][0]['components']['so2']\n",
    "    pm2_5=data['list'][0]['components']['pm2_5']\n",
    "    pm10=data['list'][0]['components']['pm10']\n",
    "    nh3=data['list'][0]['components']['nh3']\n",
    "\n",
    "    return [dt,index,aqi,co,no,no2,o3,so2,nh3,pm2_5,pm10]"
   ]
  },
  {
   "cell_type": "code",
   "execution_count": null,
   "metadata": {},
   "outputs": [],
   "source": [
    "from csv import writer\n",
    "\n",
    "with open('data.csv', 'a') as f_object:\n",
    "\twriter_object = writer(f_object)\n",
    "\tfor i in coord:\n",
    "\t\twriter_object.writerow(params(get_curr(i[1]),i[0]))\n",
    "\tf_object.close()"
   ]
  },
  {
   "cell_type": "code",
   "execution_count": null,
   "metadata": {},
   "outputs": [],
   "source": [
    "https://api.openweathermap.org/data/2.5/air_pollution?lat=31.39&lon=74.29&appid=8d9efe95caf3922348a458d615abeb8c"
   ]
  },
  {
   "cell_type": "code",
   "execution_count": null,
   "metadata": {},
   "outputs": [],
   "source": [
    "from datetime import datetime\n",
    "\n",
    "# function to convert utc to an array of time\n",
    "def utc2time(ts):\n",
    "    ts+=18000\n",
    "    year=int(datetime.utcfromtimestamp(ts).strftime('%Y'))\n",
    "    month=int(datetime.utcfromtimestamp(ts).strftime('%m'))\n",
    "    day=int(datetime.utcfromtimestamp(ts).strftime('%d'))\n",
    "    hour=int(datetime.utcfromtimestamp(ts).strftime('%H'))\n",
    "    return [int(year),int(month),day,hour]\n",
    "\n",
    "print(utc2time(1666102749))"
   ]
  },
  {
   "cell_type": "code",
   "execution_count": null,
   "metadata": {},
   "outputs": [],
   "source": [
    "# create a hashing technique that quickly gives indexes to access based on user requirement"
   ]
  }
 ],
 "metadata": {
  "kernelspec": {
   "display_name": "Python 3.9.12 ('base')",
   "language": "python",
   "name": "python3"
  },
  "language_info": {
   "codemirror_mode": {
    "name": "ipython",
    "version": 3
   },
   "file_extension": ".py",
   "mimetype": "text/x-python",
   "name": "python",
   "nbconvert_exporter": "python",
   "pygments_lexer": "ipython3",
   "version": "3.9.12"
  },
  "orig_nbformat": 4,
  "vscode": {
   "interpreter": {
    "hash": "40d3a090f54c6569ab1632332b64b2c03c39dcf918b08424e98f38b5ae0af88f"
   }
  }
 },
 "nbformat": 4,
 "nbformat_minor": 2
}
